{
 "cells": [
  {
   "cell_type": "markdown",
   "metadata": {},
   "source": [
    "# Milestone 1: Exploratory Data Analysis\n",
    "\n",
    "## 1. Dataset Description\n",
    "\n",
    "### 1.1 How the Dataset has been Collected?\n",
    "Describe the source and collection method of the dataset.\n",
    "\n",
    "### 1.2 Meaning of the Dataset\n",
    "Explain the context and purpose of the dataset.\n",
    "\n",
    "### 1.3 Explanatory Variables\n",
    "List and describe the types and numbers of explanatory variables.\n",
    "\n",
    "### 1.4 Response Variable\n",
    "Describe the response variable and its type.\n",
    "\n",
    "## 2. Visual Exploration\n",
    "\n",
    "### 2.1 Visualizing the Dataset\n",
    "Provide a few figures to help understand the dataset.\n",
    "\n",
    "```python\n",
    "# Code for visualizations (e.g., matplotlib, seaborn)\n"
   ]
  },
  {
   "cell_type": "markdown",
   "metadata": {},
   "source": [
    "## 3. Statistical Exploration\n",
    "\n",
    "\n",
    "### 3.1 Descriptive Statistical Analysis\n",
    "Conduct a descriptive statistical analysis of the dataset.\n",
    "\n",
    "### 3.2 Correlation Analysis\n",
    "Determine the potential correlation between variables and comment on its implications for machine learning.\n",
    "\n",
    "### 3.3 Pre-processing\n",
    "Introduce potential pre-processing steps (e.g., handling outliers, missing values, normalization)."
   ]
  },
  {
   "cell_type": "code",
   "execution_count": 1,
   "metadata": {},
   "outputs": [],
   "source": [
    "# Code for statistical analysis and pre-processing\n"
   ]
  },
  {
   "cell_type": "markdown",
   "metadata": {},
   "source": [
    "## 4. Evaluation Protocol\n",
    "\n",
    "\n",
    "### 4.1 Dataset Splitting\n",
    "Explain how you will split the dataset into training and testing data to avoid data leakage.\n",
    "\n",
    "### 4.2 Evaluation Metrics\n",
    "Present the main evaluation metric and any additional metrics for model comparison."
   ]
  }
 ],
 "metadata": {
  "kernelspec": {
   "display_name": "Python 3",
   "language": "python",
   "name": "python3"
  },
  "language_info": {
   "codemirror_mode": {
    "name": "ipython",
    "version": 3
   },
   "file_extension": ".py",
   "mimetype": "text/x-python",
   "name": "python",
   "nbconvert_exporter": "python",
   "pygments_lexer": "ipython3",
   "version": "3.11.5"
  },
  "orig_nbformat": 4
 },
 "nbformat": 4,
 "nbformat_minor": 2
}
