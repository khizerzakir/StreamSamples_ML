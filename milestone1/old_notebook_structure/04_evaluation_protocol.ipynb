{
 "cells": [
  {
   "cell_type": "markdown",
   "metadata": {},
   "source": [
    "# Milestone 1: Exploratory Data Analysis\n",
    "\n",
    "**Authors**: __Khizer Zakir & Rodrigo Brust Santos__\n",
    "\n",
    "__October 2023__\n",
    "\n",
    "## 4. Evaluation Protocol\n",
    "\n"
   ]
  },
  {
   "cell_type": "markdown",
   "metadata": {},
   "source": [
    "### 4.1 Evaluation Metrics\n",
    "\n",
    "In order to carry out an evaluation of the model prediction, the following metrics will be used:\n",
    "\n",
    "- `Mean Squared Error (MSE)`: such metric has an effect of inflating or magnifying large errors due to the squared operation on its formula. This is a way of penalizing models with large errors, what is interesting for this kind of study, due to the sensibility of data, and costs related to the whole prospection process in the mineral exploration industry.\n",
    "\n",
    "- `Root Mean Squared Error (RMSE)`: has the same unit as the target value. Meanwhile MSE is used to train a regression prediction model, RMSE is used to indicate the model's performance.\n"
   ]
  },
  {
   "cell_type": "markdown",
   "metadata": {},
   "source": [
    "## 5. References\n",
    "\n",
    "[Boggs 1987. Principles of sedimentology and stratigraphy (1st ed.). Merrill Pub. Co. ISBN 0675204879.]()\n",
    "\n",
    "[CPRM, 2017 - Dataset](https://rigeo.cprm.gov.br/handle/doc/19397)\n",
    "\n",
    "[Dias et al., 2017 - METALOGENIA DAS PROVÍNCIAS MINERAIS DO BRASIL: DISTRITO \n",
    "ZINCÍFERO DE VAZANTE, MG - ESTADO DE MINAS GERAIS]()\n",
    "\n",
    "[Petit, 2010](https://onlinelibrary.wiley.com/doi/10.1002/scin.5591781325)\n",
    "\n",
    "[Valeriano, 2016](https://link.springer.com/chapter/10.1007/978-3-319-01715-0_10)\n",
    "\n",
    "[Rose A.W., Hawkes, H.E., & Webb, J.S., 1979. Geochemistry in Mineral Exploration. 2nd edition. Academic Press, 657 p]()\n",
    "\n",
    "[Doherty, Mary E., Kiel Arndt, Zhaoshan Chang, Karen Kelley, and Owen Lavin. 2023. “Stream Sediment Geochemistry in Mineral Exploration: A Review of Fine-Fraction, Clay-Fraction, Bulk Leach Gold, Heavy Mineral Concentrate and Indicator Mineral Chemistry.” Geochemistry: Exploration, Environment, Analysis geochem2022-039. doi: 10.1144/geochem2022-039.]()\n",
    "\n",
    "[Ottesen, R. and Theobald, P., 1994. Stream Sediments in Mineral Exploration. In: Hale, M. and Plant, J.A., Drainage Geochemistry, Handbook of Exploration Geochemistry, 6, 147-184.](https://www.sciencedirect.com/science/article/abs/pii/B9780444818546500110)\n",
    "\n",
    "[Sunil and Ilyoung, 2018](https://EconPapers.repec.org/RePEc:gam:jijerp:v:15:y:2018:i:12:p:2907-:d:191657)"
   ]
  }
 ],
 "metadata": {
  "language_info": {
   "name": "python"
  },
  "orig_nbformat": 4
 },
 "nbformat": 4,
 "nbformat_minor": 2
}
