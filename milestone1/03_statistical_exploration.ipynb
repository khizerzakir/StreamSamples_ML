{
 "cells": [
  {
   "cell_type": "markdown",
   "metadata": {},
   "source": [
    "# Milestone 1: Exploratory Data Analysis\n",
    "\n",
    "**Authors**: __Khizer Zakir & Rodrigo Brust Santos__\n",
    "\n",
    "__October 2023__\n",
    "\n",
    "## 3. Statistical Exploration"
   ]
  },
  {
   "cell_type": "code",
   "execution_count": 2,
   "metadata": {},
   "outputs": [],
   "source": [
    "# Import necessary libraries\n",
    "import pandas as pd\n",
    "import matplotlib.pyplot as plt\n",
    "import seaborn as sns\n",
    "import numpy as np\n"
   ]
  },
  {
   "cell_type": "code",
   "execution_count": 3,
   "metadata": {},
   "outputs": [
    {
     "data": {
      "text/plain": [
       "(567, 44)"
      ]
     },
     "execution_count": 3,
     "metadata": {},
     "output_type": "execute_result"
    }
   ],
   "source": [
    "# Load the dataset\n",
    "file_path = '../dataset/train_test/training.csv'\n",
    "df = pd.read_csv(file_path)\n",
    "\n",
    "# Display the first few rows of the dataset\n",
    "training = df.copy()\n",
    "\n",
    "training.shape\n"
   ]
  },
  {
   "cell_type": "markdown",
   "metadata": {},
   "source": [
    "### 3.1 Descriptive Statistical Analysis\n",
    "Conduct a descriptive statistical analysis of the dataset."
   ]
  },
  {
   "cell_type": "markdown",
   "metadata": {},
   "source": [
    "\n",
    "### 3.2 Correlation Analysis\n",
    "Determine the potential correlation between variables and comment on its implications for machine learning.\n"
   ]
  },
  {
   "cell_type": "markdown",
   "metadata": {},
   "source": []
  },
  {
   "cell_type": "markdown",
   "metadata": {},
   "source": []
  },
  {
   "cell_type": "markdown",
   "metadata": {},
   "source": [
    "### 3.3 Pre-processing\n",
    "\n",
    "Introduce potential pre-processing steps (e.g., handling outliers, missing values, normalization).\n",
    "\n",
    "- `Normalization`: since we have several types of elements and due to their different behaviours in the nature, it was be necessary to normalize the data, step done in `01_data_description.ipynb`. For that, the log-normalization operation was the chosen one. The **numpy** function `np.log10()` was be used to compute the normalization of all element values. Such operation reduces the variance of the data besides preserving the positive values of it.\n",
    "\n",
    "- `Missing Values`: the dataset has no missing values or NaNs. \n",
    "\n",
    "- `Handling Outliers`: in normal statistics, outliers are not good for the model. However, in geology and geochemistry, the main goal of the whole analysis is to find outliers. The deposits are found due to the anomalous presence of an element in a sample. Therefore, in this case, it will not be necessary to hadle outliers. It is expected that they are highlighted.\n",
    "\n",
    "- `Data Cleaning`: the dataset needed some light data cleaning, which was already done in `01_data_description.ipynb`\n",
    ". These small cleanings consisted in:\n",
    "    - Removing elements that are not statistically significant - less than 50% in occurrence in the samples.\n",
    "    - Removing signs of `<` and `>` and then sticking the value either to the lowest or highest. For example, if an element is <10ppm, it means that it could not be detectable by the machine that processes the samples due to the fact that it is below the lowest limit for the machine. The opposite might also happen. Since it's impossible to measure values above or below the thresholds of the machine, we stick to these limits.\n",
    "    - Transforming all values that were `obj` to `float64`.\n"
   ]
  }
 ],
 "metadata": {
  "kernelspec": {
   "display_name": "obia",
   "language": "python",
   "name": "python3"
  },
  "language_info": {
   "codemirror_mode": {
    "name": "ipython",
    "version": 3
   },
   "file_extension": ".py",
   "mimetype": "text/x-python",
   "name": "python",
   "nbconvert_exporter": "python",
   "pygments_lexer": "ipython3",
   "version": "3.9.17"
  },
  "orig_nbformat": 4
 },
 "nbformat": 4,
 "nbformat_minor": 2
}
