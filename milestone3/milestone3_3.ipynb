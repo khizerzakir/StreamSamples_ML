{
  "cells": [
    {
      "cell_type": "markdown",
      "metadata": {
        "id": "hQbQgN8D5YbB"
      },
      "source": [
        "# Milestone 3: Random Forest Algorithm\n",
        "\n",
        "**Authors**: __Khizer Zakir & Rodrigo Brust Santos__\n",
        "\n",
        "__November 2023__\n",
        "\n",
        "_____"
      ]
    },
    {
      "cell_type": "code",
      "execution_count": 3,
      "metadata": {
        "colab": {
          "base_uri": "https://localhost:8080/"
        },
        "id": "ZWTG9UgU5YbJ",
        "outputId": "9200fb6a-17ae-4cef-c5a0-b16f2358593b"
      },
      "outputs": [],
      "source": [
        "#basic libraries\n",
        "import pandas as pd\n",
        "import numpy as np\n",
        "\n",
        "#graphic and charts\n",
        "import matplotlib.pyplot as plt\n",
        "import seaborn as sns\n",
        "\n",
        "\n",
        "#machine learning\n",
        "from sklearn.ensemble import RandomForestRegressor\n",
        "from sklearn.linear_model import LinearRegression, Ridge\n",
        "from sklearn.metrics import  mean_squared_error, r2_score\n",
        "from sklearn.model_selection import GroupKFold, cross_val_score, cross_val_predict, GridSearchCV\n",
        "from sklearn.feature_selection import RFECV\n",
        "from boruta import BorutaPy\n",
        "from sklearn.inspection import permutation_importance\n",
        "\n"
      ]
    },
    {
      "cell_type": "markdown",
      "metadata": {
        "id": "0vWHEy5Q5YbM"
      },
      "source": [
        "# Table of Contents\n",
        "\n",
        "1. Feedback\n",
        "\n",
        "1. Hyperparameter Setting\n",
        "\n",
        "\n",
        "2. Model Calibration\n",
        "\n",
        "\n",
        "3.  Variable Selection\n",
        "\n",
        "\n",
        "4. Model Evaluation\n",
        "\n",
        "\n",
        "_____"
      ]
    },
    {
      "cell_type": "code",
      "execution_count": 4,
      "metadata": {
        "colab": {
          "base_uri": "https://localhost:8080/",
          "height": 179
        },
        "id": "znW1QaAX5YbM",
        "outputId": "2c7635f0-7f62-4ff0-9e68-175ecb17d288"
      },
      "outputs": [
        {
          "data": {
            "text/html": [
              "<div>\n",
              "<style scoped>\n",
              "    .dataframe tbody tr th:only-of-type {\n",
              "        vertical-align: middle;\n",
              "    }\n",
              "\n",
              "    .dataframe tbody tr th {\n",
              "        vertical-align: top;\n",
              "    }\n",
              "\n",
              "    .dataframe thead th {\n",
              "        text-align: right;\n",
              "    }\n",
              "</style>\n",
              "<table border=\"1\" class=\"dataframe\">\n",
              "  <thead>\n",
              "    <tr style=\"text-align: right;\">\n",
              "      <th></th>\n",
              "      <th>x</th>\n",
              "      <th>y</th>\n",
              "      <th>Ag (ppm)</th>\n",
              "      <th>Al (%)</th>\n",
              "      <th>As (ppm)</th>\n",
              "      <th>Ba (ppm)</th>\n",
              "      <th>Be (ppm)</th>\n",
              "      <th>Bi (ppm)</th>\n",
              "      <th>Ca (%)</th>\n",
              "      <th>Cd (ppm)</th>\n",
              "      <th>...</th>\n",
              "      <th>Sr (ppm)</th>\n",
              "      <th>Th (ppm)</th>\n",
              "      <th>Ti (%)</th>\n",
              "      <th>U (ppm)</th>\n",
              "      <th>V (ppm)</th>\n",
              "      <th>W (ppm)</th>\n",
              "      <th>Y (ppm)</th>\n",
              "      <th>Zn (ppm)</th>\n",
              "      <th>Zr (ppm)</th>\n",
              "      <th>basin_id</th>\n",
              "    </tr>\n",
              "  </thead>\n",
              "  <tbody>\n",
              "    <tr>\n",
              "      <th>0</th>\n",
              "      <td>248757</td>\n",
              "      <td>7972050</td>\n",
              "      <td>0.03</td>\n",
              "      <td>2.63</td>\n",
              "      <td>4.0</td>\n",
              "      <td>76.0</td>\n",
              "      <td>1.0</td>\n",
              "      <td>0.31</td>\n",
              "      <td>0.05</td>\n",
              "      <td>0.03</td>\n",
              "      <td>...</td>\n",
              "      <td>3.3</td>\n",
              "      <td>7.4</td>\n",
              "      <td>0.03</td>\n",
              "      <td>0.70</td>\n",
              "      <td>73</td>\n",
              "      <td>0.3</td>\n",
              "      <td>13.15</td>\n",
              "      <td>27</td>\n",
              "      <td>6.3</td>\n",
              "      <td>2</td>\n",
              "    </tr>\n",
              "    <tr>\n",
              "      <th>1</th>\n",
              "      <td>244460</td>\n",
              "      <td>7973135</td>\n",
              "      <td>0.02</td>\n",
              "      <td>1.93</td>\n",
              "      <td>2.0</td>\n",
              "      <td>84.0</td>\n",
              "      <td>1.7</td>\n",
              "      <td>0.29</td>\n",
              "      <td>0.04</td>\n",
              "      <td>0.01</td>\n",
              "      <td>...</td>\n",
              "      <td>3.1</td>\n",
              "      <td>8.2</td>\n",
              "      <td>0.06</td>\n",
              "      <td>0.94</td>\n",
              "      <td>58</td>\n",
              "      <td>0.3</td>\n",
              "      <td>23.90</td>\n",
              "      <td>58</td>\n",
              "      <td>6.9</td>\n",
              "      <td>3</td>\n",
              "    </tr>\n",
              "  </tbody>\n",
              "</table>\n",
              "<p>2 rows × 45 columns</p>\n",
              "</div>"
            ],
            "text/plain": [
              "        x        y  Ag (ppm)  Al (%)  As (ppm)  Ba (ppm)  Be (ppm)  Bi (ppm)  \\\n",
              "0  248757  7972050      0.03    2.63       4.0      76.0       1.0      0.31   \n",
              "1  244460  7973135      0.02    1.93       2.0      84.0       1.7      0.29   \n",
              "\n",
              "   Ca (%)  Cd (ppm)  ...  Sr (ppm)  Th (ppm)  Ti (%)  U (ppm)  V (ppm)  \\\n",
              "0    0.05      0.03  ...       3.3       7.4    0.03     0.70       73   \n",
              "1    0.04      0.01  ...       3.1       8.2    0.06     0.94       58   \n",
              "\n",
              "   W (ppm)  Y (ppm)  Zn (ppm)  Zr (ppm)  basin_id  \n",
              "0      0.3    13.15        27       6.3         2  \n",
              "1      0.3    23.90        58       6.9         3  \n",
              "\n",
              "[2 rows x 45 columns]"
            ]
          },
          "execution_count": 4,
          "metadata": {},
          "output_type": "execute_result"
        }
      ],
      "source": [
        "#loading data frame\n",
        "df = pd.read_csv('../dataset/stream_samples_basin_id.csv')\n",
        "\n",
        "#removing columns that wont be used\n",
        "df.drop(columns = ['geometry', 'index_right'], inplace = True)\n",
        "\n",
        "df.rename(columns = {'OBJECTID':'basin_id'}, inplace = True)\n",
        "\n",
        "df.head(2)"
      ]
    },
    {
      "cell_type": "code",
      "execution_count": 5,
      "metadata": {
        "id": "MKUAaaC95YbN"
      },
      "outputs": [],
      "source": [
        "#variable that we will predict\n",
        "Y_column = 'Zn (ppm)'\n",
        "\n",
        "#explanatory variables\n",
        "X_columns = list(df.iloc[:, :-1])\n",
        "X_col = df[X_columns]\n",
        "\n",
        "#dropping Zn from our explanatory variables\n",
        "X_columns.remove('Zn (ppm)')"
      ]
    },
    {
      "cell_type": "code",
      "execution_count": 6,
      "metadata": {
        "id": "YQjJGe3h5YbO"
      },
      "outputs": [],
      "source": [
        "#generating the X and Y dataset and transforming to numpy array\n",
        "X, Y = df[X_columns].to_numpy(), df[Y_column].to_numpy()\n",
        "\n",
        "#defining the watershed number as the group\n",
        "groups = df['basin_id'].to_numpy()\n"
      ]
    },
    {
      "cell_type": "markdown",
      "metadata": {
        "id": "-QSgMFuD5YbO"
      },
      "source": [
        "## 0. Cross-Validation Check \n",
        "\n",
        "Despite not receving Feedback on-time for the next submission deadline, we wanted to know if the CV performed before was correctly implemented.\n",
        "\n",
        "Below, we are going to compare the results of CV. One implementing the same way as before, with `cross_val_predict` and another using a for loop.\n",
        "\n",
        "#### How we implemented CV for Linear Regression"
      ]
    },
    {
      "cell_type": "code",
      "execution_count": 7,
      "metadata": {},
      "outputs": [],
      "source": [
        "#These will be used in the whole notebook.\n",
        "\n",
        "# Create a GroupKFold object with the desired number of splits (k)\n",
        "k = 4 #setting the number of splits, arbitrarly.\n",
        "group_kfold = GroupKFold(n_splits=k)\n",
        "\n",
        "# Specify the fold you want to use (fold_index should be less than k)\n",
        "fold_index = [1,2,3]"
      ]
    },
    {
      "cell_type": "code",
      "execution_count": 8,
      "metadata": {
        "id": "uSCIv81h5YbP"
      },
      "outputs": [],
      "source": [
        "basin_kfold = group_kfold.split(X, Y, groups)\n",
        "\n",
        "# Create a nested list of train and test indices for each fold\n",
        "train_indices, test_indices = [list(traintest) for traintest in zip(*basin_kfold)]\n",
        "\n",
        "basin_cv = [*zip(train_indices,test_indices)]"
      ]
    },
    {
      "cell_type": "code",
      "execution_count": 9,
      "metadata": {
        "colab": {
          "base_uri": "https://localhost:8080/"
        },
        "id": "zHHur_Wd5YbQ",
        "outputId": "13a91260-05e0-40c8-eb34-1597a7fea1dd"
      },
      "outputs": [
        {
          "name": "stdout",
          "output_type": "stream",
          "text": [
            "R2:  0.57\n",
            "RMSE: 13.68\n",
            "MSE: 187.13\n",
            "CPU times: total: 62.5 ms\n",
            "Wall time: 64 ms\n"
          ]
        }
      ],
      "source": [
        "%%time\n",
        "\n",
        "# model\n",
        "linear_clf = LinearRegression().fit(X, Y)\n",
        "\n",
        "# fit and predict at the same time consdering the cv = basin_cv takes care of the data splitting\n",
        "\n",
        "y_pred = cross_val_predict(linear_clf, X, Y, cv=basin_cv, groups=groups)\n",
        "\n",
        "r2 = r2_score(Y, y_pred)\n",
        "rmse = mean_squared_error(Y, y_pred, squared = False)\n",
        "mse = mean_squared_error(Y, y_pred)\n",
        "\n",
        "print('R2: ',round(r2,2))\n",
        "print(f'RMSE:', round(rmse,2))\n",
        "print(f'MSE:', round(mse,2))"
      ]
    },
    {
      "cell_type": "markdown",
      "metadata": {
        "id": "hC66FAXZ5YbQ"
      },
      "source": [
        "### How we are testing right now LinearRegression model with CV and for loop."
      ]
    },
    {
      "cell_type": "code",
      "execution_count": 10,
      "metadata": {
        "colab": {
          "base_uri": "https://localhost:8080/"
        },
        "id": "ll852aIO5YbR",
        "outputId": "433c94e8-262f-40c9-ea1e-a44e5d2378d2"
      },
      "outputs": [
        {
          "name": "stdout",
          "output_type": "stream",
          "text": [
            "R2 - Index: 1  0.53\n",
            "RMSE: 15.31\n",
            "MSE: 234.27\n",
            "R2 - Index: 2  0.62\n",
            "RMSE: 14.14\n",
            "MSE: 199.84\n",
            "R2 - Index: 3  0.55\n",
            "RMSE: 11.66\n",
            "MSE: 135.84\n",
            "CPU times: total: 15.6 ms\n",
            "Wall time: 32 ms\n"
          ]
        }
      ],
      "source": [
        "%%time\n",
        "\n",
        "r2_scores, mse_scores, rmse_scores = [], [], []\n",
        "\n",
        "for i in fold_index:\n",
        "\n",
        "    # Get indices for the specified fold\n",
        "    train_index, test_index = list(group_kfold.split(X, Y, groups))[i - 1]\n",
        "\n",
        "    #print('Train-Test Shapes', train_index.shape, test_index.shape)\n",
        "\n",
        "    # Use the indices to get the training and testing sets\n",
        "    X_train, X_test = X[train_index], X[test_index]\n",
        "\n",
        "    #print('X Train-Test Shapes', X_train.shape, X_test.shape)\n",
        "\n",
        "    y_train, y_test = Y[train_index], Y[test_index]\n",
        "    #print('Y Train-Test Shapes', y_train.shape, y_test.shape)\n",
        "\n",
        "    # Create a linear regression model\n",
        "    model = LinearRegression()\n",
        "\n",
        "    # Fit the model on the training data\n",
        "    model.fit(X_train, y_train)\n",
        "\n",
        "    # Make predictions on the testing data\n",
        "    y_pred_two = model.predict(X_test)\n",
        "\n",
        "    # Evaluate the model\n",
        "    r2 = r2_score(y_test, y_pred_two)\n",
        "    rmse = mean_squared_error(y_test, y_pred_two, squared=False)\n",
        "    mse = mean_squared_error(y_test, y_pred_two)\n",
        "\n",
        "    print(f'R2 - Index: {i} ',round(r2,2))\n",
        "    print(f'RMSE:', round(rmse,2))\n",
        "    print(f'MSE:', round(mse,2))\n",
        "\n",
        "    r2_scores.append(r2)\n",
        "    mse_scores.append(mse)\n",
        "    rmse_scores.append(rmse)"
      ]
    },
    {
      "cell_type": "code",
      "execution_count": 11,
      "metadata": {
        "colab": {
          "base_uri": "https://localhost:8080/"
        },
        "id": "IwwaOqgE5YbR",
        "outputId": "4532cc50-6767-4386-cfbc-d9c9aa2fb572"
      },
      "outputs": [
        {
          "name": "stdout",
          "output_type": "stream",
          "text": [
            "Linear Regression Model with CV in a For Loop\n",
            "R2:  0.56\n",
            "RMSE: 13.7\n",
            "MSE: 189.99\n"
          ]
        }
      ],
      "source": [
        "print('Linear Regression Model with CV in a For Loop')\n",
        "\n",
        "print('R2: ',round(np.mean(r2_scores),2))\n",
        "print(f'RMSE:', round(np.mean(rmse_scores),2))\n",
        "print(f'MSE:', round(np.mean(mse_scores),2))"
      ]
    },
    {
      "cell_type": "markdown",
      "metadata": {
        "id": "_SZbt7EL5YbS"
      },
      "source": [
        "If we compare the values of the for-loop and `cross_val_predict`, we can see there's a very small variation in the values.\n",
        "\n",
        "| Metric                 | LR - Loop CV              | LR - cross_val_predict()               | Percentual Difference |\n",
        "|------------------------|-----------------------|-----------------------|-----------------------|\n",
        "| R2                     | 0.56                  | 0.57                  | +1.79%                |\n",
        "| MSE                    | 189.99                | 187.13                | -1.51%                |\n",
        "| RMSE                   | 13.7                  | 13.68                 | -0.15%                |\n",
        "\n",
        "\n",
        "### Now let's test with Ridge Model with CV in a for-loop"
      ]
    },
    {
      "cell_type": "code",
      "execution_count": 12,
      "metadata": {
        "colab": {
          "base_uri": "https://localhost:8080/"
        },
        "id": "yys88PDm5YbS",
        "outputId": "935b1787-f778-49e9-a159-2da1ca5a3414"
      },
      "outputs": [
        {
          "name": "stdout",
          "output_type": "stream",
          "text": [
            "Index 1 0.5959173014095739 14.19358526782089 201.45786275490218\n",
            "Index 2 0.6461940686823625 13.5744030918268 184.26441929939702\n",
            "Index 3 0.5278142409741016 11.880613713672371 141.14898221350003\n"
          ]
        }
      ],
      "source": [
        "#using the optimal learning rate\n",
        "r_rmse, r_mse, r_r2 = [], [], []\n",
        "for i in fold_index:\n",
        "\n",
        "    # Get indices for the specified fold\n",
        "    train_index, test_index = list(group_kfold.split(X, Y, groups))[i - 1]\n",
        "\n",
        "    # Use the indices to get the training and testing sets\n",
        "    X_train, X_test = X[train_index], X[test_index]\n",
        "\n",
        "\n",
        "    y_train, y_test = Y[train_index], Y[test_index]\n",
        "\n",
        "    elastmodel = Ridge(alpha=4.83)\n",
        "\n",
        "    elastmodel.fit(X_train, y_train)\n",
        "\n",
        "    y_pred_ridge = elastmodel.predict(X_test)\n",
        "\n",
        "    # Calculate evaluation metrics\n",
        "    rmse_ridge = mean_squared_error(y_test, y_pred_ridge, squared=False)\n",
        "    mse_ridge = mean_squared_error(y_test, y_pred_ridge)\n",
        "    r2_ridge = r2_score(y_test, y_pred_ridge)\n",
        "\n",
        "    r_rmse.append(rmse_ridge)\n",
        "    r_mse.append(mse_ridge)\n",
        "    r_r2.append(r2_ridge)\n",
        "\n",
        "    print(f'Index {i}', r2_ridge, rmse_ridge, mse_ridge )"
      ]
    },
    {
      "cell_type": "code",
      "execution_count": 13,
      "metadata": {
        "colab": {
          "base_uri": "https://localhost:8080/"
        },
        "id": "Dg-Fv1tL5YbS",
        "outputId": "d54f462e-fe0f-4450-d59d-5239eec646db"
      },
      "outputs": [
        {
          "name": "stdout",
          "output_type": "stream",
          "text": [
            "Ridge Model with CV in a For Loop\n",
            "R2:  0.59\n",
            "RMSE: 13.22\n",
            "MSE: 175.62\n"
          ]
        }
      ],
      "source": [
        "print('Ridge Model with CV in a For Loop')\n",
        "\n",
        "print('R2: ',round(np.mean(r_r2),2))\n",
        "print(f'RMSE:', round(np.mean(r_rmse),2))\n",
        "print(f'MSE:', round(np.mean(r_mse),2))"
      ]
    },
    {
      "cell_type": "markdown",
      "metadata": {
        "id": "t5GzX5ox5YbU"
      },
      "source": [
        "Once again, the values show an insignificant variation in the metrics.\n",
        "\n",
        "| Metric                 | Ridge CV Loop           | Ridge cross_val_predict()      | Percentual Difference |\n",
        "|------------------------|-----------------------|-----------------------|-----------------------|\n",
        "| R2                     | 0.59                  | 0.59                  | 0.00%                 |\n",
        "| MSE                    | 175.62                | 176.97                | +0.76%                |\n",
        "| RMSE                   | 13.22                 | 13.30                 | +0.60%                |\n",
        "\n",
        "\n",
        "\n",
        "Having in mind that the way we implemented and this other approach are quite the same, we are more tranquil to keep on going with the Random Forest model implementation.\n",
        "\n",
        "We are sticking to the `cross_val_predict()` function whenever it is possible. Other times, it will be necessary to extract more information at each loop of the cross-validation, explaining why the for-loop will also be used in some cases.\n",
        "_____"
      ]
    },
    {
      "cell_type": "markdown",
      "metadata": {
        "id": "FeYlBRXQ5YbW"
      },
      "source": [
        "## 2. Creating a Random Forest\n",
        "\n",
        "• Recall what are the two most important hyperparameters. Propose a protocol that relies on the out-of-bag\n",
        "(OOB) error to tune this hyperparameter.\n",
        "\n",
        "The two most important hyperparameters for the random forest algorithm are:\n",
        "\n",
        "- `max_features`: helps controlling the bias and variance for the forest. In case of having a small number of features, the trees are less correlated. By default, in regression problems, max_features starts with `d/3`, until being properly tuned.\n",
        "\n",
        "- `n_estimators`: represents the amount of forests within the random forest. It's recommended starting with a high value in order to obtain a robust estimate.\n",
        "\n",
        "\n",
        "First, the model will be implemented without any type of hyperparameter setting. Then, the main hyperparameters will be calculated, leading to the application to the model. Finaly, it will be visible the difference between the random forest tuned and the other that is not.\n"
      ]
    },
    {
      "cell_type": "code",
      "execution_count": 14,
      "metadata": {
        "id": "5GQMZLUt5YbW"
      },
      "outputs": [],
      "source": [
        "#maxfeatures\n",
        "d = round(df.shape[0]/3)"
      ]
    },
    {
      "cell_type": "markdown",
      "metadata": {
        "id": "XOKBUK4u5YbX"
      },
      "source": [
        "Below, we are setting the `RandomForestRegressor` within the variable `tree_clf`.\n",
        "\n",
        "The `n_estimators` was set as 500 arbitrarly. The ideia is that if there is a high value it's possible to get a stable estimate, and then change it to the tuned value.\n",
        "\n",
        "`max_features` was set as the division of the length of the dataset by 3. Also to be tuned.\n",
        "\n",
        "It was opted to have out-of-bag replacement to have an estimation of the generalization score.\n",
        "\n",
        "Finally, the `random_state` was set to 42 in order to get the reproducibility."
      ]
    },
    {
      "cell_type": "code",
      "execution_count": 15,
      "metadata": {
        "id": "FTSVRla95YbX"
      },
      "outputs": [],
      "source": [
        "tree_clf = RandomForestRegressor(n_estimators= 500, \n",
        "                                 max_features=d, \n",
        "                                 oob_score=True, \n",
        "                                 random_state=42)"
      ]
    },
    {
      "cell_type": "code",
      "execution_count": 16,
      "metadata": {
        "colab": {
          "base_uri": "https://localhost:8080/",
          "height": 92
        },
        "id": "LREW7tVh5YbX",
        "outputId": "f8ca4613-eb98-4ae2-90af-12fc54475b9a"
      },
      "outputs": [
        {
          "data": {
            "text/html": [
              "<style>#sk-container-id-1 {color: black;background-color: white;}#sk-container-id-1 pre{padding: 0;}#sk-container-id-1 div.sk-toggleable {background-color: white;}#sk-container-id-1 label.sk-toggleable__label {cursor: pointer;display: block;width: 100%;margin-bottom: 0;padding: 0.3em;box-sizing: border-box;text-align: center;}#sk-container-id-1 label.sk-toggleable__label-arrow:before {content: \"▸\";float: left;margin-right: 0.25em;color: #696969;}#sk-container-id-1 label.sk-toggleable__label-arrow:hover:before {color: black;}#sk-container-id-1 div.sk-estimator:hover label.sk-toggleable__label-arrow:before {color: black;}#sk-container-id-1 div.sk-toggleable__content {max-height: 0;max-width: 0;overflow: hidden;text-align: left;background-color: #f0f8ff;}#sk-container-id-1 div.sk-toggleable__content pre {margin: 0.2em;color: black;border-radius: 0.25em;background-color: #f0f8ff;}#sk-container-id-1 input.sk-toggleable__control:checked~div.sk-toggleable__content {max-height: 200px;max-width: 100%;overflow: auto;}#sk-container-id-1 input.sk-toggleable__control:checked~label.sk-toggleable__label-arrow:before {content: \"▾\";}#sk-container-id-1 div.sk-estimator input.sk-toggleable__control:checked~label.sk-toggleable__label {background-color: #d4ebff;}#sk-container-id-1 div.sk-label input.sk-toggleable__control:checked~label.sk-toggleable__label {background-color: #d4ebff;}#sk-container-id-1 input.sk-hidden--visually {border: 0;clip: rect(1px 1px 1px 1px);clip: rect(1px, 1px, 1px, 1px);height: 1px;margin: -1px;overflow: hidden;padding: 0;position: absolute;width: 1px;}#sk-container-id-1 div.sk-estimator {font-family: monospace;background-color: #f0f8ff;border: 1px dotted black;border-radius: 0.25em;box-sizing: border-box;margin-bottom: 0.5em;}#sk-container-id-1 div.sk-estimator:hover {background-color: #d4ebff;}#sk-container-id-1 div.sk-parallel-item::after {content: \"\";width: 100%;border-bottom: 1px solid gray;flex-grow: 1;}#sk-container-id-1 div.sk-label:hover label.sk-toggleable__label {background-color: #d4ebff;}#sk-container-id-1 div.sk-serial::before {content: \"\";position: absolute;border-left: 1px solid gray;box-sizing: border-box;top: 0;bottom: 0;left: 50%;z-index: 0;}#sk-container-id-1 div.sk-serial {display: flex;flex-direction: column;align-items: center;background-color: white;padding-right: 0.2em;padding-left: 0.2em;position: relative;}#sk-container-id-1 div.sk-item {position: relative;z-index: 1;}#sk-container-id-1 div.sk-parallel {display: flex;align-items: stretch;justify-content: center;background-color: white;position: relative;}#sk-container-id-1 div.sk-item::before, #sk-container-id-1 div.sk-parallel-item::before {content: \"\";position: absolute;border-left: 1px solid gray;box-sizing: border-box;top: 0;bottom: 0;left: 50%;z-index: -1;}#sk-container-id-1 div.sk-parallel-item {display: flex;flex-direction: column;z-index: 1;position: relative;background-color: white;}#sk-container-id-1 div.sk-parallel-item:first-child::after {align-self: flex-end;width: 50%;}#sk-container-id-1 div.sk-parallel-item:last-child::after {align-self: flex-start;width: 50%;}#sk-container-id-1 div.sk-parallel-item:only-child::after {width: 0;}#sk-container-id-1 div.sk-dashed-wrapped {border: 1px dashed gray;margin: 0 0.4em 0.5em 0.4em;box-sizing: border-box;padding-bottom: 0.4em;background-color: white;}#sk-container-id-1 div.sk-label label {font-family: monospace;font-weight: bold;display: inline-block;line-height: 1.2em;}#sk-container-id-1 div.sk-label-container {text-align: center;}#sk-container-id-1 div.sk-container {/* jupyter's `normalize.less` sets `[hidden] { display: none; }` but bootstrap.min.css set `[hidden] { display: none !important; }` so we also need the `!important` here to be able to override the default hidden behavior on the sphinx rendered scikit-learn.org. See: https://github.com/scikit-learn/scikit-learn/issues/21755 */display: inline-block !important;position: relative;}#sk-container-id-1 div.sk-text-repr-fallback {display: none;}</style><div id=\"sk-container-id-1\" class=\"sk-top-container\"><div class=\"sk-text-repr-fallback\"><pre>RandomForestRegressor(max_features=236, n_estimators=500, oob_score=True,\n",
              "                      random_state=42)</pre><b>In a Jupyter environment, please rerun this cell to show the HTML representation or trust the notebook. <br />On GitHub, the HTML representation is unable to render, please try loading this page with nbviewer.org.</b></div><div class=\"sk-container\" hidden><div class=\"sk-item\"><div class=\"sk-estimator sk-toggleable\"><input class=\"sk-toggleable__control sk-hidden--visually\" id=\"sk-estimator-id-1\" type=\"checkbox\" checked><label for=\"sk-estimator-id-1\" class=\"sk-toggleable__label sk-toggleable__label-arrow\">RandomForestRegressor</label><div class=\"sk-toggleable__content\"><pre>RandomForestRegressor(max_features=236, n_estimators=500, oob_score=True,\n",
              "                      random_state=42)</pre></div></div></div></div></div>"
            ],
            "text/plain": [
              "RandomForestRegressor(max_features=236, n_estimators=500, oob_score=True,\n",
              "                      random_state=42)"
            ]
          },
          "execution_count": 16,
          "metadata": {},
          "output_type": "execute_result"
        }
      ],
      "source": [
        "#fitting data\n",
        "tree_clf.fit(X_train, y_train)"
      ]
    },
    {
      "cell_type": "code",
      "execution_count": 17,
      "metadata": {
        "colab": {
          "base_uri": "https://localhost:8080/"
        },
        "id": "wiwjSXE65YbY",
        "outputId": "16a07bea-fba4-419a-baff-c79370ac0b4e"
      },
      "outputs": [
        {
          "data": {
            "text/plain": [
              "{'bootstrap': True,\n",
              " 'ccp_alpha': 0.0,\n",
              " 'criterion': 'squared_error',\n",
              " 'max_depth': None,\n",
              " 'max_features': 236,\n",
              " 'max_leaf_nodes': None,\n",
              " 'max_samples': None,\n",
              " 'min_impurity_decrease': 0.0,\n",
              " 'min_samples_leaf': 1,\n",
              " 'min_samples_split': 2,\n",
              " 'min_weight_fraction_leaf': 0.0,\n",
              " 'n_estimators': 500,\n",
              " 'n_jobs': None,\n",
              " 'oob_score': True,\n",
              " 'random_state': 42,\n",
              " 'verbose': 0,\n",
              " 'warm_start': False}"
            ]
          },
          "execution_count": 17,
          "metadata": {},
          "output_type": "execute_result"
        }
      ],
      "source": [
        "#getting parameters of the tree\n",
        "tree_clf.get_params()"
      ]
    },
    {
      "cell_type": "code",
      "execution_count": 19,
      "metadata": {
        "colab": {
          "base_uri": "https://localhost:8080/"
        },
        "id": "-JE3EHas5YbY",
        "outputId": "52690647-b38e-4b1f-a864-8f1dbca38672"
      },
      "outputs": [
        {
          "name": "stdout",
          "output_type": "stream",
          "text": [
            "OOB score:  0.67\n"
          ]
        }
      ],
      "source": [
        "oob_score = round(tree_clf.oob_score_,2)\n",
        "\n",
        "print('OOB score: ', oob_score )\n"
      ]
    },
    {
      "cell_type": "markdown",
      "metadata": {
        "id": "uc5tbXRO5YbY"
      },
      "source": [
        "Based on `OOB score`, our model predicts correctly about 67% of the samples out-of-bag."
      ]
    },
    {
      "cell_type": "code",
      "execution_count": 20,
      "metadata": {
        "colab": {
          "base_uri": "https://localhost:8080/"
        },
        "id": "WgTBlnt75YbZ",
        "outputId": "4250fde8-239d-43b6-90da-84e39c517ea6"
      },
      "outputs": [
        {
          "name": "stdout",
          "output_type": "stream",
          "text": [
            "Random Forest Regressor Scores without hyperparameter tunning\n",
            "#############################################################\n",
            "R2 Score: 0.64\n",
            "MSE: 107.81\n",
            "RMSE: 10.38\n",
            "#############################################################\n"
          ]
        }
      ],
      "source": [
        "pred_test = tree_clf.predict(X_test)\n",
        "\n",
        "# Calculate evaluation metrics\n",
        "rmse_tree_clf = mean_squared_error(y_test, pred_test, squared=False)\n",
        "\n",
        "mse_tree_clf = mean_squared_error(y_test, pred_test)\n",
        "\n",
        "r2_tree_clf = r2_score(y_test, pred_test)\n",
        "\n",
        "print('Random Forest Regressor Scores without hyperparameter tunning')\n",
        "print('#############################################################')\n",
        "print('R2 Score:', round(r2_tree_clf,2))\n",
        "print('MSE:', round(mse_tree_clf,2))\n",
        "print('RMSE:', round(rmse_tree_clf,2))\n",
        "print('#############################################################')"
      ]
    },
    {
      "cell_type": "markdown",
      "metadata": {
        "id": "UrJ53hu75YbZ"
      },
      "source": [
        "## 2. Hyperparameter Setting & Model Calibration\n",
        "\n",
        "• For the calibrated model, measure the importance of each variable. Justify the choice of the importance\n",
        "measure (why did you use this importance measure instead of another one?). Comment on the results:\n",
        "according to the importance measure you chose, what are the most discriminant variables of your dataset?\n",
        "Interpret"
      ]
    },
    {
      "cell_type": "markdown",
      "metadata": {
        "id": "kPXwEp1s5YbZ"
      },
      "source": [
        "Justifying the parameters below:\n",
        "\n",
        "- `warm_start`: to allow the reutilization of previous run, leading to the addition of more estimators to the ensable. **Explain it better maybe?**\n",
        "\n",
        "- `max_features='auto'`: once the **n_estimators** is tuned, the next one to be tuned is the max_features. For now, let's keep it in auto."
      ]
    },
    {
      "cell_type": "code",
      "execution_count": 17,
      "metadata": {
        "id": "EzLojMY55YbZ"
      },
      "outputs": [
        {
          "ename": "KeyboardInterrupt",
          "evalue": "",
          "output_type": "error",
          "traceback": [
            "\u001b[1;31m---------------------------------------------------------------------------\u001b[0m",
            "\u001b[1;31mKeyboardInterrupt\u001b[0m                         Traceback (most recent call last)",
            "\u001b[1;32mc:\\Users\\kizar\\OneDrive - Universität Salzburg\\Desktop\\ERASMUS\\France_Sem3\\Machine_Learning\\final_project\\milestone3_1.ipynb Cell 29\u001b[0m line \u001b[0;36m1\n\u001b[0;32m      <a href='vscode-notebook-cell:/c%3A/Users/kizar/OneDrive%20-%20Universit%C3%A4t%20Salzburg/Desktop/ERASMUS/France_Sem3/Machine_Learning/final_project/milestone3_1.ipynb#X40sZmlsZQ%3D%3D?line=6'>7</a>\u001b[0m \u001b[39mfor\u001b[39;00m i \u001b[39min\u001b[39;00m \u001b[39mrange\u001b[39m(min_estimators, max_estimators\u001b[39m+\u001b[39m\u001b[39m1\u001b[39m, step):\n\u001b[0;32m      <a href='vscode-notebook-cell:/c%3A/Users/kizar/OneDrive%20-%20Universit%C3%A4t%20Salzburg/Desktop/ERASMUS/France_Sem3/Machine_Learning/final_project/milestone3_1.ipynb#X40sZmlsZQ%3D%3D?line=7'>8</a>\u001b[0m     rf_reg \u001b[39m=\u001b[39m RandomForestRegressor(warm_start\u001b[39m=\u001b[39m\u001b[39mTrue\u001b[39;00m, n_estimators\u001b[39m=\u001b[39m i, max_features\u001b[39m=\u001b[39m\u001b[39m1.0\u001b[39m, random_state\u001b[39m=\u001b[39m\u001b[39m42\u001b[39m, oob_score\u001b[39m=\u001b[39m\u001b[39mTrue\u001b[39;00m)\n\u001b[1;32m---> <a href='vscode-notebook-cell:/c%3A/Users/kizar/OneDrive%20-%20Universit%C3%A4t%20Salzburg/Desktop/ERASMUS/France_Sem3/Machine_Learning/final_project/milestone3_1.ipynb#X40sZmlsZQ%3D%3D?line=9'>10</a>\u001b[0m     rf_reg\u001b[39m.\u001b[39;49mfit(X_train, y_train)\n\u001b[0;32m     <a href='vscode-notebook-cell:/c%3A/Users/kizar/OneDrive%20-%20Universit%C3%A4t%20Salzburg/Desktop/ERASMUS/France_Sem3/Machine_Learning/final_project/milestone3_1.ipynb#X40sZmlsZQ%3D%3D?line=11'>12</a>\u001b[0m     \u001b[39m# Record the OOB error for each `n_estimators=i` setting.\u001b[39;00m\n\u001b[0;32m     <a href='vscode-notebook-cell:/c%3A/Users/kizar/OneDrive%20-%20Universit%C3%A4t%20Salzburg/Desktop/ERASMUS/France_Sem3/Machine_Learning/final_project/milestone3_1.ipynb#X40sZmlsZQ%3D%3D?line=12'>13</a>\u001b[0m     oob_error \u001b[39m=\u001b[39m \u001b[39m1\u001b[39m \u001b[39m-\u001b[39m rf_reg\u001b[39m.\u001b[39moob_score_\n",
            "File \u001b[1;32mc:\\Users\\kizar\\miniconda3\\envs\\ml_class_env\\Lib\\site-packages\\sklearn\\base.py:1152\u001b[0m, in \u001b[0;36m_fit_context.<locals>.decorator.<locals>.wrapper\u001b[1;34m(estimator, *args, **kwargs)\u001b[0m\n\u001b[0;32m   1145\u001b[0m     estimator\u001b[39m.\u001b[39m_validate_params()\n\u001b[0;32m   1147\u001b[0m \u001b[39mwith\u001b[39;00m config_context(\n\u001b[0;32m   1148\u001b[0m     skip_parameter_validation\u001b[39m=\u001b[39m(\n\u001b[0;32m   1149\u001b[0m         prefer_skip_nested_validation \u001b[39mor\u001b[39;00m global_skip_validation\n\u001b[0;32m   1150\u001b[0m     )\n\u001b[0;32m   1151\u001b[0m ):\n\u001b[1;32m-> 1152\u001b[0m     \u001b[39mreturn\u001b[39;00m fit_method(estimator, \u001b[39m*\u001b[39;49margs, \u001b[39m*\u001b[39;49m\u001b[39m*\u001b[39;49mkwargs)\n",
            "File \u001b[1;32mc:\\Users\\kizar\\miniconda3\\envs\\ml_class_env\\Lib\\site-packages\\sklearn\\ensemble\\_forest.py:456\u001b[0m, in \u001b[0;36mBaseForest.fit\u001b[1;34m(self, X, y, sample_weight)\u001b[0m\n\u001b[0;32m    445\u001b[0m trees \u001b[39m=\u001b[39m [\n\u001b[0;32m    446\u001b[0m     \u001b[39mself\u001b[39m\u001b[39m.\u001b[39m_make_estimator(append\u001b[39m=\u001b[39m\u001b[39mFalse\u001b[39;00m, random_state\u001b[39m=\u001b[39mrandom_state)\n\u001b[0;32m    447\u001b[0m     \u001b[39mfor\u001b[39;00m i \u001b[39min\u001b[39;00m \u001b[39mrange\u001b[39m(n_more_estimators)\n\u001b[0;32m    448\u001b[0m ]\n\u001b[0;32m    450\u001b[0m \u001b[39m# Parallel loop: we prefer the threading backend as the Cython code\u001b[39;00m\n\u001b[0;32m    451\u001b[0m \u001b[39m# for fitting the trees is internally releasing the Python GIL\u001b[39;00m\n\u001b[0;32m    452\u001b[0m \u001b[39m# making threading more efficient than multiprocessing in\u001b[39;00m\n\u001b[0;32m    453\u001b[0m \u001b[39m# that case. However, for joblib 0.12+ we respect any\u001b[39;00m\n\u001b[0;32m    454\u001b[0m \u001b[39m# parallel_backend contexts set at a higher level,\u001b[39;00m\n\u001b[0;32m    455\u001b[0m \u001b[39m# since correctness does not rely on using threads.\u001b[39;00m\n\u001b[1;32m--> 456\u001b[0m trees \u001b[39m=\u001b[39m Parallel(\n\u001b[0;32m    457\u001b[0m     n_jobs\u001b[39m=\u001b[39;49m\u001b[39mself\u001b[39;49m\u001b[39m.\u001b[39;49mn_jobs,\n\u001b[0;32m    458\u001b[0m     verbose\u001b[39m=\u001b[39;49m\u001b[39mself\u001b[39;49m\u001b[39m.\u001b[39;49mverbose,\n\u001b[0;32m    459\u001b[0m     prefer\u001b[39m=\u001b[39;49m\u001b[39m\"\u001b[39;49m\u001b[39mthreads\u001b[39;49m\u001b[39m\"\u001b[39;49m,\n\u001b[0;32m    460\u001b[0m )(\n\u001b[0;32m    461\u001b[0m     delayed(_parallel_build_trees)(\n\u001b[0;32m    462\u001b[0m         t,\n\u001b[0;32m    463\u001b[0m         \u001b[39mself\u001b[39;49m\u001b[39m.\u001b[39;49mbootstrap,\n\u001b[0;32m    464\u001b[0m         X,\n\u001b[0;32m    465\u001b[0m         y,\n\u001b[0;32m    466\u001b[0m         sample_weight,\n\u001b[0;32m    467\u001b[0m         i,\n\u001b[0;32m    468\u001b[0m         \u001b[39mlen\u001b[39;49m(trees),\n\u001b[0;32m    469\u001b[0m         verbose\u001b[39m=\u001b[39;49m\u001b[39mself\u001b[39;49m\u001b[39m.\u001b[39;49mverbose,\n\u001b[0;32m    470\u001b[0m         class_weight\u001b[39m=\u001b[39;49m\u001b[39mself\u001b[39;49m\u001b[39m.\u001b[39;49mclass_weight,\n\u001b[0;32m    471\u001b[0m         n_samples_bootstrap\u001b[39m=\u001b[39;49mn_samples_bootstrap,\n\u001b[0;32m    472\u001b[0m     )\n\u001b[0;32m    473\u001b[0m     \u001b[39mfor\u001b[39;49;00m i, t \u001b[39min\u001b[39;49;00m \u001b[39menumerate\u001b[39;49m(trees)\n\u001b[0;32m    474\u001b[0m )\n\u001b[0;32m    476\u001b[0m \u001b[39m# Collect newly grown trees\u001b[39;00m\n\u001b[0;32m    477\u001b[0m \u001b[39mself\u001b[39m\u001b[39m.\u001b[39mestimators_\u001b[39m.\u001b[39mextend(trees)\n",
            "File \u001b[1;32mc:\\Users\\kizar\\miniconda3\\envs\\ml_class_env\\Lib\\site-packages\\sklearn\\utils\\parallel.py:65\u001b[0m, in \u001b[0;36mParallel.__call__\u001b[1;34m(self, iterable)\u001b[0m\n\u001b[0;32m     60\u001b[0m config \u001b[39m=\u001b[39m get_config()\n\u001b[0;32m     61\u001b[0m iterable_with_config \u001b[39m=\u001b[39m (\n\u001b[0;32m     62\u001b[0m     (_with_config(delayed_func, config), args, kwargs)\n\u001b[0;32m     63\u001b[0m     \u001b[39mfor\u001b[39;00m delayed_func, args, kwargs \u001b[39min\u001b[39;00m iterable\n\u001b[0;32m     64\u001b[0m )\n\u001b[1;32m---> 65\u001b[0m \u001b[39mreturn\u001b[39;00m \u001b[39msuper\u001b[39;49m()\u001b[39m.\u001b[39;49m\u001b[39m__call__\u001b[39;49m(iterable_with_config)\n",
            "File \u001b[1;32mc:\\Users\\kizar\\miniconda3\\envs\\ml_class_env\\Lib\\site-packages\\joblib\\parallel.py:1863\u001b[0m, in \u001b[0;36mParallel.__call__\u001b[1;34m(self, iterable)\u001b[0m\n\u001b[0;32m   1861\u001b[0m     output \u001b[39m=\u001b[39m \u001b[39mself\u001b[39m\u001b[39m.\u001b[39m_get_sequential_output(iterable)\n\u001b[0;32m   1862\u001b[0m     \u001b[39mnext\u001b[39m(output)\n\u001b[1;32m-> 1863\u001b[0m     \u001b[39mreturn\u001b[39;00m output \u001b[39mif\u001b[39;00m \u001b[39mself\u001b[39m\u001b[39m.\u001b[39mreturn_generator \u001b[39melse\u001b[39;00m \u001b[39mlist\u001b[39m(output)\n\u001b[0;32m   1865\u001b[0m \u001b[39m# Let's create an ID that uniquely identifies the current call. If the\u001b[39;00m\n\u001b[0;32m   1866\u001b[0m \u001b[39m# call is interrupted early and that the same instance is immediately\u001b[39;00m\n\u001b[0;32m   1867\u001b[0m \u001b[39m# re-used, this id will be used to prevent workers that were\u001b[39;00m\n\u001b[0;32m   1868\u001b[0m \u001b[39m# concurrently finalizing a task from the previous call to run the\u001b[39;00m\n\u001b[0;32m   1869\u001b[0m \u001b[39m# callback.\u001b[39;00m\n\u001b[0;32m   1870\u001b[0m \u001b[39mwith\u001b[39;00m \u001b[39mself\u001b[39m\u001b[39m.\u001b[39m_lock:\n",
            "File \u001b[1;32mc:\\Users\\kizar\\miniconda3\\envs\\ml_class_env\\Lib\\site-packages\\joblib\\parallel.py:1792\u001b[0m, in \u001b[0;36mParallel._get_sequential_output\u001b[1;34m(self, iterable)\u001b[0m\n\u001b[0;32m   1790\u001b[0m \u001b[39mself\u001b[39m\u001b[39m.\u001b[39mn_dispatched_batches \u001b[39m+\u001b[39m\u001b[39m=\u001b[39m \u001b[39m1\u001b[39m\n\u001b[0;32m   1791\u001b[0m \u001b[39mself\u001b[39m\u001b[39m.\u001b[39mn_dispatched_tasks \u001b[39m+\u001b[39m\u001b[39m=\u001b[39m \u001b[39m1\u001b[39m\n\u001b[1;32m-> 1792\u001b[0m res \u001b[39m=\u001b[39m func(\u001b[39m*\u001b[39;49margs, \u001b[39m*\u001b[39;49m\u001b[39m*\u001b[39;49mkwargs)\n\u001b[0;32m   1793\u001b[0m \u001b[39mself\u001b[39m\u001b[39m.\u001b[39mn_completed_tasks \u001b[39m+\u001b[39m\u001b[39m=\u001b[39m \u001b[39m1\u001b[39m\n\u001b[0;32m   1794\u001b[0m \u001b[39mself\u001b[39m\u001b[39m.\u001b[39mprint_progress()\n",
            "File \u001b[1;32mc:\\Users\\kizar\\miniconda3\\envs\\ml_class_env\\Lib\\site-packages\\sklearn\\utils\\parallel.py:127\u001b[0m, in \u001b[0;36m_FuncWrapper.__call__\u001b[1;34m(self, *args, **kwargs)\u001b[0m\n\u001b[0;32m    125\u001b[0m     config \u001b[39m=\u001b[39m {}\n\u001b[0;32m    126\u001b[0m \u001b[39mwith\u001b[39;00m config_context(\u001b[39m*\u001b[39m\u001b[39m*\u001b[39mconfig):\n\u001b[1;32m--> 127\u001b[0m     \u001b[39mreturn\u001b[39;00m \u001b[39mself\u001b[39;49m\u001b[39m.\u001b[39;49mfunction(\u001b[39m*\u001b[39;49margs, \u001b[39m*\u001b[39;49m\u001b[39m*\u001b[39;49mkwargs)\n",
            "File \u001b[1;32mc:\\Users\\kizar\\miniconda3\\envs\\ml_class_env\\Lib\\site-packages\\sklearn\\ensemble\\_forest.py:188\u001b[0m, in \u001b[0;36m_parallel_build_trees\u001b[1;34m(tree, bootstrap, X, y, sample_weight, tree_idx, n_trees, verbose, class_weight, n_samples_bootstrap)\u001b[0m\n\u001b[0;32m    185\u001b[0m     \u001b[39melif\u001b[39;00m class_weight \u001b[39m==\u001b[39m \u001b[39m\"\u001b[39m\u001b[39mbalanced_subsample\u001b[39m\u001b[39m\"\u001b[39m:\n\u001b[0;32m    186\u001b[0m         curr_sample_weight \u001b[39m*\u001b[39m\u001b[39m=\u001b[39m compute_sample_weight(\u001b[39m\"\u001b[39m\u001b[39mbalanced\u001b[39m\u001b[39m\"\u001b[39m, y, indices\u001b[39m=\u001b[39mindices)\n\u001b[1;32m--> 188\u001b[0m     tree\u001b[39m.\u001b[39;49mfit(X, y, sample_weight\u001b[39m=\u001b[39;49mcurr_sample_weight, check_input\u001b[39m=\u001b[39;49m\u001b[39mFalse\u001b[39;49;00m)\n\u001b[0;32m    189\u001b[0m \u001b[39melse\u001b[39;00m:\n\u001b[0;32m    190\u001b[0m     tree\u001b[39m.\u001b[39mfit(X, y, sample_weight\u001b[39m=\u001b[39msample_weight, check_input\u001b[39m=\u001b[39m\u001b[39mFalse\u001b[39;00m)\n",
            "File \u001b[1;32mc:\\Users\\kizar\\miniconda3\\envs\\ml_class_env\\Lib\\site-packages\\sklearn\\base.py:1152\u001b[0m, in \u001b[0;36m_fit_context.<locals>.decorator.<locals>.wrapper\u001b[1;34m(estimator, *args, **kwargs)\u001b[0m\n\u001b[0;32m   1145\u001b[0m     estimator\u001b[39m.\u001b[39m_validate_params()\n\u001b[0;32m   1147\u001b[0m \u001b[39mwith\u001b[39;00m config_context(\n\u001b[0;32m   1148\u001b[0m     skip_parameter_validation\u001b[39m=\u001b[39m(\n\u001b[0;32m   1149\u001b[0m         prefer_skip_nested_validation \u001b[39mor\u001b[39;00m global_skip_validation\n\u001b[0;32m   1150\u001b[0m     )\n\u001b[0;32m   1151\u001b[0m ):\n\u001b[1;32m-> 1152\u001b[0m     \u001b[39mreturn\u001b[39;00m fit_method(estimator, \u001b[39m*\u001b[39;49margs, \u001b[39m*\u001b[39;49m\u001b[39m*\u001b[39;49mkwargs)\n",
            "File \u001b[1;32mc:\\Users\\kizar\\miniconda3\\envs\\ml_class_env\\Lib\\site-packages\\sklearn\\tree\\_classes.py:1320\u001b[0m, in \u001b[0;36mDecisionTreeRegressor.fit\u001b[1;34m(self, X, y, sample_weight, check_input)\u001b[0m\n\u001b[0;32m   1290\u001b[0m \u001b[39m@_fit_context\u001b[39m(prefer_skip_nested_validation\u001b[39m=\u001b[39m\u001b[39mTrue\u001b[39;00m)\n\u001b[0;32m   1291\u001b[0m \u001b[39mdef\u001b[39;00m \u001b[39mfit\u001b[39m(\u001b[39mself\u001b[39m, X, y, sample_weight\u001b[39m=\u001b[39m\u001b[39mNone\u001b[39;00m, check_input\u001b[39m=\u001b[39m\u001b[39mTrue\u001b[39;00m):\n\u001b[0;32m   1292\u001b[0m \u001b[39m    \u001b[39m\u001b[39m\"\"\"Build a decision tree regressor from the training set (X, y).\u001b[39;00m\n\u001b[0;32m   1293\u001b[0m \n\u001b[0;32m   1294\u001b[0m \u001b[39m    Parameters\u001b[39;00m\n\u001b[1;32m   (...)\u001b[0m\n\u001b[0;32m   1317\u001b[0m \u001b[39m        Fitted estimator.\u001b[39;00m\n\u001b[0;32m   1318\u001b[0m \u001b[39m    \"\"\"\u001b[39;00m\n\u001b[1;32m-> 1320\u001b[0m     \u001b[39msuper\u001b[39;49m()\u001b[39m.\u001b[39;49m_fit(\n\u001b[0;32m   1321\u001b[0m         X,\n\u001b[0;32m   1322\u001b[0m         y,\n\u001b[0;32m   1323\u001b[0m         sample_weight\u001b[39m=\u001b[39;49msample_weight,\n\u001b[0;32m   1324\u001b[0m         check_input\u001b[39m=\u001b[39;49mcheck_input,\n\u001b[0;32m   1325\u001b[0m     )\n\u001b[0;32m   1326\u001b[0m     \u001b[39mreturn\u001b[39;00m \u001b[39mself\u001b[39m\n",
            "File \u001b[1;32mc:\\Users\\kizar\\miniconda3\\envs\\ml_class_env\\Lib\\site-packages\\sklearn\\tree\\_classes.py:443\u001b[0m, in \u001b[0;36mBaseDecisionTree._fit\u001b[1;34m(self, X, y, sample_weight, check_input, missing_values_in_feature_mask)\u001b[0m\n\u001b[0;32m    432\u001b[0m \u001b[39melse\u001b[39;00m:\n\u001b[0;32m    433\u001b[0m     builder \u001b[39m=\u001b[39m BestFirstTreeBuilder(\n\u001b[0;32m    434\u001b[0m         splitter,\n\u001b[0;32m    435\u001b[0m         min_samples_split,\n\u001b[1;32m   (...)\u001b[0m\n\u001b[0;32m    440\u001b[0m         \u001b[39mself\u001b[39m\u001b[39m.\u001b[39mmin_impurity_decrease,\n\u001b[0;32m    441\u001b[0m     )\n\u001b[1;32m--> 443\u001b[0m builder\u001b[39m.\u001b[39;49mbuild(\u001b[39mself\u001b[39;49m\u001b[39m.\u001b[39;49mtree_, X, y, sample_weight, missing_values_in_feature_mask)\n\u001b[0;32m    445\u001b[0m \u001b[39mif\u001b[39;00m \u001b[39mself\u001b[39m\u001b[39m.\u001b[39mn_outputs_ \u001b[39m==\u001b[39m \u001b[39m1\u001b[39m \u001b[39mand\u001b[39;00m is_classifier(\u001b[39mself\u001b[39m):\n\u001b[0;32m    446\u001b[0m     \u001b[39mself\u001b[39m\u001b[39m.\u001b[39mn_classes_ \u001b[39m=\u001b[39m \u001b[39mself\u001b[39m\u001b[39m.\u001b[39mn_classes_[\u001b[39m0\u001b[39m]\n",
            "\u001b[1;31mKeyboardInterrupt\u001b[0m: "
          ]
        }
      ],
      "source": [
        "error_rate_1 = []\n",
        "\n",
        "min_estimators = 500\n",
        "max_estimators = 4000\n",
        "step = 50\n",
        "\n",
        "for i in range(min_estimators, max_estimators+1, step):\n",
        "    rf_reg = RandomForestRegressor(warm_start=True, n_estimators= i, max_features=1.0, random_state=42, oob_score=True)\n",
        "\n",
        "    rf_reg.fit(X_train, y_train)\n",
        "\n",
        "    # Record the OOB error for each `n_estimators=i` setting.\n",
        "    oob_error = 1 - rf_reg.oob_score_\n",
        "\n",
        "    error_rate_1.append(oob_error)"
      ]
    },
    {
      "cell_type": "code",
      "execution_count": 29,
      "metadata": {
        "colab": {
          "base_uri": "https://localhost:8080/",
          "height": 450
        },
        "id": "R-bLdxdO5Yba",
        "outputId": "3649aa4b-47c3-4f12-b85e-bd5550ac9c8a"
      },
      "outputs": [
        {
          "data": {
            "image/png": "[encoded data removed]",
            "text/plain": [
              "<Figure size 640x480 with 1 Axes>"
            ]
          },
          "metadata": {},
          "output_type": "display_data"
        }
      ],
      "source": [
        "# Error Rate x n_estimators\n",
        "plt.plot(range(min_estimators,\n",
        "            max_estimators +1,\n",
        "            step\n",
        "              ), \n",
        "        error_rate_1, \n",
        "        label=\"OOB error rate\"\n",
        "        )\n",
        "\n",
        "plt.ylim(0.30, 1.1*max(error_rate_1))\n",
        "plt.xlim(min_estimators, 1.1*max_estimators)\n",
        "plt.xlabel(\"n_estimators\")\n",
        "plt.ylabel(\"OOB error rate vs. number of trees\")\n",
        "plt.legend(loc=\"upper right\")\n",
        "plt.show()"
      ]
    },
    {
      "cell_type": "markdown",
      "metadata": {
        "id": "NKGOdY_U5Yba"
      },
      "source": [
        "Since the OOB error rate is almost flat around 2000 n_estimators, this is the value that will be used."
      ]
    },
    {
      "cell_type": "code",
      "execution_count": 21,
      "metadata": {
        "colab": {
          "base_uri": "https://localhost:8080/"
        },
        "id": "d1gcK05E5Yba",
        "outputId": "9ccdd1d5-3621-4d95-b4e7-531766666c13"
      },
      "outputs": [
        {
          "name": "stdout",
          "output_type": "stream",
          "text": [
            "                  params  mean_test_score  std_test_score\n",
            "0  {'max_features': 0.1}         0.643443        0.051902\n",
            "1  {'max_features': 0.2}         0.657936        0.051251\n",
            "2  {'max_features': 0.3}         0.660969        0.053202\n",
            "3  {'max_features': 0.4}         0.658543        0.057185\n",
            "4  {'max_features': 0.5}         0.656734        0.058457\n",
            "5  {'max_features': 0.6}         0.651456        0.062576\n",
            "6  {'max_features': 0.7}         0.646503        0.066120\n",
            "7  {'max_features': 0.8}         0.641971        0.070297\n",
            "8  {'max_features': 0.9}         0.635826        0.074615\n"
          ]
        }
      ],
      "source": [
        "grid = {'max_features':[0.1,0.2,0.3,0.4,0.5,0.6,0.7,0.8,0.9]}\n",
        "\n",
        "# create the forest model to tune\n",
        "rf = RandomForestRegressor(n_estimators=2000) \n",
        "\n",
        "B=5 #number of iterations\n",
        "results_cv=pd.DataFrame()\n",
        "for i in range(B):\n",
        "\n",
        "    rf_cv = GridSearchCV(estimator=rf,\n",
        "                         param_grid=grid, \n",
        "                         cv=basin_cv,\n",
        "                         n_jobs=-1\n",
        "                         )\n",
        "\n",
        "    rf_cv.fit(X, Y) # Fit the CV search\n",
        "    if i==0:\n",
        "        results_cv=pd.DataFrame(rf_cv.cv_results_)[[\"params\",\n",
        "                                                    \"mean_test_score\",\n",
        "                                                    \"std_test_score\"]]\n",
        "    else:\n",
        "        results_cv[\"mean_test_score\"]=results_cv[\"mean_test_score\"]+pd.DataFrame(rf_cv.cv_results_)[\"mean_test_score\"]\n",
        "        results_cv[\"std_test_score\"]=results_cv[\"std_test_score\"]+pd.DataFrame(rf_cv.cv_results_)[\"std_test_score\"]\n",
        "\n",
        "\n",
        "results_cv[\"mean_test_score\"]=results_cv[\"mean_test_score\"]/B\n",
        "results_cv[\"std_test_score\"]=results_cv[\"std_test_score\"]/B\n",
        "\n",
        "print(results_cv)"
      ]
    },
    {
      "cell_type": "markdown",
      "metadata": {
        "id": "POpmYGZw5Yba"
      },
      "source": [
        "The best `max_feature` value is the one that has the lowest standard deviation score. In this case, the best value is **0.2**"
      ]
    },
    {
      "cell_type": "code",
      "execution_count": 22,
      "metadata": {
        "id": "0meIYPSt5Ybb"
      },
      "outputs": [],
      "source": [
        "error_rate = []\n",
        "\n",
        "min_estimators = 500\n",
        "max_estimators = 4000\n",
        "step = 50\n",
        "\n",
        "for i in range(min_estimators, max_estimators+1, step):\n",
        "\n",
        "    rf_reg = RandomForestRegressor(warm_start=True, \n",
        "                                   n_estimators= i, \n",
        "                                   max_features=0.2, \n",
        "                                   random_state=42, \n",
        "                                   oob_score=True)\n",
        "\n",
        "    rf_reg.fit(X_train, y_train)\n",
        "\n",
        "    # Record the OOB error for each `n_estimators=i` setting.\n",
        "    oob_error = 1 - rf_reg.oob_score_\n",
        "\n",
        "    error_rate.append(oob_error)"
      ]
    },
    {
      "cell_type": "code",
      "execution_count": 23,
      "metadata": {
        "colab": {
          "base_uri": "https://localhost:8080/",
          "height": 450
        },
        "id": "cWY0iaNn5Ybb",
        "outputId": "6e0a428b-d394-4f08-d4b1-863755a4a0db"
      },
      "outputs": [
        {
          "data": {
            "image/png": "[encoded data removed]",
            "text/plain": [
              "<Figure size 640x480 with 1 Axes>"
            ]
          },
          "metadata": {},
          "output_type": "display_data"
        }
      ],
      "source": [
        "# Error Rate x n_estimators\n",
        "\n",
        "plt.plot(range(min_estimators, \n",
        "               max_estimators +1, \n",
        "               step\n",
        "        ), \n",
        "        error_rate, \n",
        "        label=\"OOB error rate\")\n",
        "\n",
        "plt.ylim(0.30, 1.1*max(error_rate))\n",
        "plt.xlim(min_estimators, max_estimators)\n",
        "plt.xlabel(\"n_estimators\")\n",
        "plt.ylabel(\"OOB error rate vs. number of trees\")\n",
        "plt.legend(loc=\"upper right\")\n",
        "plt.show()"
      ]
    },
    {
      "cell_type": "markdown",
      "metadata": {},
      "source": [
        "______\n",
        "\n",
        "Now that the hyperparameters of `n_estimators` and `max_features` are known, let's run a model with these optimal values.\n",
        "\n",
        "Remembering that we have the spatial autocorrelation with the samples, we are still keep on going with the `GroupKFold` strategy, separating our samples by the watershed id.\n",
        "\n",
        "As said in **Milestone 2**, `k = 4` was an arbitrary choice."
      ]
    },
    {
      "cell_type": "code",
      "execution_count": 21,
      "metadata": {
        "colab": {
          "base_uri": "https://localhost:8080/"
        },
        "id": "_uYAjj6L5Ybb",
        "outputId": "f166e84c-f823-422d-a008-fa315ed7093a"
      },
      "outputs": [
        {
          "name": "stdout",
          "output_type": "stream",
          "text": [
            "Results with Random Forest Regressor with\n",
            "Optimal Hyperparameters and with GroupKFold CV:\n",
            "R2:  0.67\n",
            "RMSE: 12.03\n",
            "MSE: 144.8\n"
          ]
        }
      ],
      "source": [
        "# model\n",
        "opt_rf = RandomForestRegressor(n_estimators = 2000, \n",
        "                               max_features=0.2, \n",
        "                               oob_score=True, \n",
        "                               random_state=42)\n",
        "\n",
        "# fit and predict at the same time consdering the cv = basin_cv takes care of the data splitting\n",
        "\n",
        "y_pred = cross_val_predict(opt_rf, X, Y, cv=basin_cv, groups=groups)\n",
        "\n",
        "r2_clf = r2_score(Y, y_pred)\n",
        "rmse_clf = mean_squared_error(Y, y_pred, squared = False)\n",
        "mse_clf = mean_squared_error(Y, y_pred)\n",
        "\n",
        "#metrics\n",
        "print('Results with Random Forest Regressor with\\nOptimal Hyperparameters and with GroupKFold CV:')\n",
        "print('R2: ',round(r2_clf,2))\n",
        "print(f'RMSE:', round(rmse_clf,2))\n",
        "print(f'MSE:', round(mse_clf,2))"
      ]
    },
    {
      "cell_type": "markdown",
      "metadata": {},
      "source": [
        "#### Interpretation\n",
        "\n",
        "Performing the cross-validation with the RandomForestRegressor and Optimal Hyperparameters improved the R2 when compared to the Linear Regression Model and Ridge Model - what was already expected. When comparing with the non tunned hyperparameters, it had 1% improvement in the R2, and small variations in RMSE and MSE.\n",
        "\n",
        "So far, the model have a moderated-to-good explanation of the variance in the target variable."
      ]
    },
    {
      "cell_type": "markdown",
      "metadata": {},
      "source": [
        "## 3. Variable Selection\n",
        "\n",
        "#### Feature importance across folds\n",
        "\n",
        "The `RandomForestRegressor` model produced good results with respect to our evaluation metrics. Especially, after parameter tuning - Model Calibration. This section explores the importance of respective variables using feature_importance methods. There are number of methods to estimate the feature importance, we are going to use the permutation importance method. There are a couple of reasons for that: \n",
        "\n",
        "- This is something we have learned and looked promising in describing the importance of some variables\n",
        "- It is a model-agnositic method.\n",
        "- unlike the `model.feature_importance_` method (another method we have studied during the course), it does not have the tendency to \"prefer features with high cardinality\" [Piotr Płoński](https://mljar.com/blog/feature-importance-in-random-forest/#:~:text=The%20feature%20importance%20(variable%20importance,by%20employing%20the%20feature%20selection.))\n",
        "\n",
        "- It is also necessary to mention that this method is computationally expensive compared to the other method, but it will compensate that with better results. \n",
        "\n",
        "To stay consistent with our approach, we are going to loop the `permutation importance` for the same clf model we have calibrated recently with `k-fold = 4`. "
      ]
    },
    {
      "cell_type": "code",
      "execution_count": null,
      "metadata": {},
      "outputs": [],
      "source": [
        "# using the same model to find the feature importance using group kfold\n",
        "clf = RandomForestRegressor(n_estimators=2000, \n",
        "                            max_features=0.2, \n",
        "                            oob_score=True, \n",
        "                            random_state=42) \n",
        "\n",
        "# Lists to store feature importances for each fold\n",
        "\n",
        "#feature_importance_per_fold = []\n",
        "permutation_importance_per_fold = []\n",
        "\n",
        "\n",
        "for train_index, test_index in group_kfold.split(X, Y, groups):\n",
        "    # print(\"TRAIN:\", train_index, \"TEST:\", test_index)\n",
        "    X_train, X_test = X[train_index], X[test_index]\n",
        "    y_train, y_test = Y[train_index], Y[test_index]\n",
        "\n",
        "    # For training, fit() is used\n",
        "    clf.fit(X_train, y_train)\n",
        "\n",
        "    # Feature importance for the current fold\n",
        "    #fold_feature_importance = clf.feature_importances_\n",
        "    #feature_importance_per_fold.append(fold_feature_importance)\n",
        "\n",
        "    # Permutation importance for the current fold\n",
        "    per_imp_result = permutation_importance(\n",
        "        estimator=clf,\n",
        "        X=X_test,\n",
        "        y=y_test,\n",
        "        scoring ='neg_mean_squared_error',  \n",
        "        n_repeats=50,\n",
        "        random_state=42\n",
        "    )\n",
        "    permutation_importance_per_fold.append(per_imp_result.importances_mean)\n",
        "    \n",
        "# scoring='neg_mean_squared_error' in permutation_importance, it means that the algorithm will evaluate the model's performance based on the\n",
        "# negative mean squared error when assessing the importance of each feature to see how much the model's performance decreases when a feature is not available."
      ]
    },
    {
      "cell_type": "markdown",
      "metadata": {},
      "source": [
        "### Permutation importance"
      ]
    },
    {
      "cell_type": "code",
      "execution_count": 137,
      "metadata": {},
      "outputs": [
        {
          "data": {
            "image/png": "[encoded data removed]",
            "text/plain": [
              "<Figure size 1500x800 with 1 Axes>"
            ]
          },
          "metadata": {},
          "output_type": "display_data"
        }
      ],
      "source": [
        "\n",
        "# mean permutation importance across folds\n",
        "mean_permutation_importance = np.mean(permutation_importance_per_fold, axis=0)\n",
        "\n",
        "# sorting the mean permutation importance\n",
        "\n",
        "sorted_permutation_indices = np.argsort(mean_permutation_importance)[::-1]\n",
        "sorted_permutation_feature_names = np.array(X_columns)[sorted_permutation_indices]\n",
        "\n",
        "# Plotting sorted mean permutation importance\n",
        "plt.figure(figsize=(15, 8))\n",
        "plt.barh(range(len(\n",
        "                    mean_permutation_importance\n",
        "                    )\n",
        "                ), \n",
        "                mean_permutation_importance[sorted_permutation_indices], \n",
        "                align='center')\n",
        "\n",
        "plt.yticks(range(len(\n",
        "                        mean_permutation_importance\n",
        "                        )\n",
        "                    ), \n",
        "                    sorted_permutation_feature_names)\n",
        "\n",
        "plt.xlabel('Average Permutation Importance')\n",
        "plt.ylabel('Features')\n",
        "plt.title('Random Forest Average Permutation Importance Across Folds (Sorted)')\n",
        "plt.show()\n"
      ]
    },
    {
      "cell_type": "code",
      "execution_count": 135,
      "metadata": {},
      "outputs": [
        {
          "name": "stdout",
          "output_type": "stream",
          "text": [
            "Top 20 Features based on Mean Permutation Importance: ['Co (ppm)' 'Mg (%)' 'Ni (ppm)' 'Cu (ppm)' 'Fe (%)' 'P (ppm)' 'Cr (ppm)'\n",
            " 'Li (ppm)' 'K (%)' 'Mn (ppm)' 'Ca (%)' 'Nb (ppm)' 'Ti (%)' 'Ba (ppm)'\n",
            " 'Y (ppm)' 'Sc (ppm)' 'Pb (ppm)' 'x' 'Cd (ppm)' 'Rb (ppm)']\n"
          ]
        }
      ],
      "source": [
        "# Top 20 features based on mean permutation importance\n",
        "top_20_permutation_importance = sorted_permutation_feature_names[:20]\n",
        "\n",
        "# Print or use the top 20 features\n",
        "print(\"Top 20 Features based on Mean Permutation Importance:\", top_20_permutation_importance)"
      ]
    },
    {
      "cell_type": "markdown",
      "metadata": {},
      "source": [
        "#### Interpretation\n",
        "\n",
        "This model-agnostic method has estimated the MDA on all the 43 variables `n__repeats` = 50 times on the test set (using each time another permutation of each feature). The selection of top 20 variables is a detour after looking at the outcome of `REFCV`. This feature selection algorithm gave 20 optimal features to improve the model. In order to compare the top 20 from both the methods we have filtered the top 20 in this step. \n",
        "\n",
        "This permutation importance is not any concluding remark rather a qualitative measure to understand the most important features for the model in general. However, this is a good and simple initial step to have an idea to select optimal features with more concerete algorithms like, REF and REFCV. \n",
        "____"
      ]
    },
    {
      "cell_type": "markdown",
      "metadata": {},
      "source": [
        "### REFCV \n",
        "\n",
        "`RFECV` (Recursive Feature Elimination with Cross-Validation) iteratively evaluates subsets of features and selects the optimal subset based on cross-validated performance. It can help in identifying a more compact set of features that still captures the essential information needed for model performance. [Sklearn Documentation](https://scikit-learn.org/stable/modules/generated/sklearn.feature_selection.RFECV.html)"
      ]
    },
    {
      "cell_type": "code",
      "execution_count": 77,
      "metadata": {},
      "outputs": [
        {
          "data": {
            "text/html": [
              "<style>#sk-container-id-4 {color: black;}#sk-container-id-4 pre{padding: 0;}#sk-container-id-4 div.sk-toggleable {background-color: white;}#sk-container-id-4 label.sk-toggleable__label {cursor: pointer;display: block;width: 100%;margin-bottom: 0;padding: 0.3em;box-sizing: border-box;text-align: center;}#sk-container-id-4 label.sk-toggleable__label-arrow:before {content: \"▸\";float: left;margin-right: 0.25em;color: #696969;}#sk-container-id-4 label.sk-toggleable__label-arrow:hover:before {color: black;}#sk-container-id-4 div.sk-estimator:hover label.sk-toggleable__label-arrow:before {color: black;}#sk-container-id-4 div.sk-toggleable__content {max-height: 0;max-width: 0;overflow: hidden;text-align: left;background-color: #f0f8ff;}#sk-container-id-4 div.sk-toggleable__content pre {margin: 0.2em;color: black;border-radius: 0.25em;background-color: #f0f8ff;}#sk-container-id-4 input.sk-toggleable__control:checked~div.sk-toggleable__content {max-height: 200px;max-width: 100%;overflow: auto;}#sk-container-id-4 input.sk-toggleable__control:checked~label.sk-toggleable__label-arrow:before {content: \"▾\";}#sk-container-id-4 div.sk-estimator input.sk-toggleable__control:checked~label.sk-toggleable__label {background-color: #d4ebff;}#sk-container-id-4 div.sk-label input.sk-toggleable__control:checked~label.sk-toggleable__label {background-color: #d4ebff;}#sk-container-id-4 input.sk-hidden--visually {border: 0;clip: rect(1px 1px 1px 1px);clip: rect(1px, 1px, 1px, 1px);height: 1px;margin: -1px;overflow: hidden;padding: 0;position: absolute;width: 1px;}#sk-container-id-4 div.sk-estimator {font-family: monospace;background-color: #f0f8ff;border: 1px dotted black;border-radius: 0.25em;box-sizing: border-box;margin-bottom: 0.5em;}#sk-container-id-4 div.sk-estimator:hover {background-color: #d4ebff;}#sk-container-id-4 div.sk-parallel-item::after {content: \"\";width: 100%;border-bottom: 1px solid gray;flex-grow: 1;}#sk-container-id-4 div.sk-label:hover label.sk-toggleable__label {background-color: #d4ebff;}#sk-container-id-4 div.sk-serial::before {content: \"\";position: absolute;border-left: 1px solid gray;box-sizing: border-box;top: 0;bottom: 0;left: 50%;z-index: 0;}#sk-container-id-4 div.sk-serial {display: flex;flex-direction: column;align-items: center;background-color: white;padding-right: 0.2em;padding-left: 0.2em;position: relative;}#sk-container-id-4 div.sk-item {position: relative;z-index: 1;}#sk-container-id-4 div.sk-parallel {display: flex;align-items: stretch;justify-content: center;background-color: white;position: relative;}#sk-container-id-4 div.sk-item::before, #sk-container-id-4 div.sk-parallel-item::before {content: \"\";position: absolute;border-left: 1px solid gray;box-sizing: border-box;top: 0;bottom: 0;left: 50%;z-index: -1;}#sk-container-id-4 div.sk-parallel-item {display: flex;flex-direction: column;z-index: 1;position: relative;background-color: white;}#sk-container-id-4 div.sk-parallel-item:first-child::after {align-self: flex-end;width: 50%;}#sk-container-id-4 div.sk-parallel-item:last-child::after {align-self: flex-start;width: 50%;}#sk-container-id-4 div.sk-parallel-item:only-child::after {width: 0;}#sk-container-id-4 div.sk-dashed-wrapped {border: 1px dashed gray;margin: 0 0.4em 0.5em 0.4em;box-sizing: border-box;padding-bottom: 0.4em;background-color: white;}#sk-container-id-4 div.sk-label label {font-family: monospace;font-weight: bold;display: inline-block;line-height: 1.2em;}#sk-container-id-4 div.sk-label-container {text-align: center;}#sk-container-id-4 div.sk-container {/* jupyter's `normalize.less` sets `[hidden] { display: none; }` but bootstrap.min.css set `[hidden] { display: none !important; }` so we also need the `!important` here to be able to override the default hidden behavior on the sphinx rendered scikit-learn.org. See: https://github.com/scikit-learn/scikit-learn/issues/21755 */display: inline-block !important;position: relative;}#sk-container-id-4 div.sk-text-repr-fallback {display: none;}</style><div id=\"sk-container-id-4\" class=\"sk-top-container\"><div class=\"sk-text-repr-fallback\"><pre>RFECV(cv=GroupKFold(n_splits=4),\n",
              "      estimator=RandomForestRegressor(max_features=0.2, n_estimators=2000,\n",
              "                                      oob_score=True, random_state=42),\n",
              "      scoring=&#x27;neg_mean_squared_error&#x27;)</pre><b>In a Jupyter environment, please rerun this cell to show the HTML representation or trust the notebook. <br />On GitHub, the HTML representation is unable to render, please try loading this page with nbviewer.org.</b></div><div class=\"sk-container\" hidden><div class=\"sk-item sk-dashed-wrapped\"><div class=\"sk-label-container\"><div class=\"sk-label sk-toggleable\"><input class=\"sk-toggleable__control sk-hidden--visually\" id=\"sk-estimator-id-6\" type=\"checkbox\" ><label for=\"sk-estimator-id-6\" class=\"sk-toggleable__label sk-toggleable__label-arrow\">RFECV</label><div class=\"sk-toggleable__content\"><pre>RFECV(cv=GroupKFold(n_splits=4),\n",
              "      estimator=RandomForestRegressor(max_features=0.2, n_estimators=2000,\n",
              "                                      oob_score=True, random_state=42),\n",
              "      scoring=&#x27;neg_mean_squared_error&#x27;)</pre></div></div></div><div class=\"sk-parallel\"><div class=\"sk-parallel-item\"><div class=\"sk-item\"><div class=\"sk-label-container\"><div class=\"sk-label sk-toggleable\"><input class=\"sk-toggleable__control sk-hidden--visually\" id=\"sk-estimator-id-7\" type=\"checkbox\" ><label for=\"sk-estimator-id-7\" class=\"sk-toggleable__label sk-toggleable__label-arrow\">estimator: RandomForestRegressor</label><div class=\"sk-toggleable__content\"><pre>RandomForestRegressor(max_features=0.2, n_estimators=2000, oob_score=True,\n",
              "                      random_state=42)</pre></div></div></div><div class=\"sk-serial\"><div class=\"sk-item\"><div class=\"sk-estimator sk-toggleable\"><input class=\"sk-toggleable__control sk-hidden--visually\" id=\"sk-estimator-id-8\" type=\"checkbox\" ><label for=\"sk-estimator-id-8\" class=\"sk-toggleable__label sk-toggleable__label-arrow\">RandomForestRegressor</label><div class=\"sk-toggleable__content\"><pre>RandomForestRegressor(max_features=0.2, n_estimators=2000, oob_score=True,\n",
              "                      random_state=42)</pre></div></div></div></div></div></div></div></div></div></div>"
            ],
            "text/plain": [
              "RFECV(cv=GroupKFold(n_splits=4),\n",
              "      estimator=RandomForestRegressor(max_features=0.2, n_estimators=2000,\n",
              "                                      oob_score=True, random_state=42),\n",
              "      scoring='neg_mean_squared_error')"
            ]
          },
          "execution_count": 77,
          "metadata": {},
          "output_type": "execute_result"
        }
      ],
      "source": [
        "\n",
        "rfecv = RFECV(estimator=clf, \n",
        "              step=1, \n",
        "              cv=group_kfold, \n",
        "              scoring='neg_mean_squared_error')\n",
        "\n",
        "rfecv.fit(X, Y, groups=groups)\n"
      ]
    },
    {
      "cell_type": "code",
      "execution_count": 78,
      "metadata": {},
      "outputs": [
        {
          "data": {
            "text/plain": [
              "array([-342.78554347, -219.72920419, -186.274189  , -172.62540342,\n",
              "       -168.04955873, -163.79656813, -165.81732068, -163.26298185,\n",
              "       -158.92292521, -151.97372394, -151.02698534, -151.56680788,\n",
              "       -147.42205498, -148.21003878, -145.04613502, -144.52797604,\n",
              "       -143.73780176, -143.43419746, -143.26978562, -140.55825681,\n",
              "       -141.62885845, -141.97726316, -142.07531655, -143.15323959,\n",
              "       -141.51046694, -142.361178  , -143.1525851 , -143.79427309,\n",
              "       -143.5001967 , -144.02040461, -143.39252062, -144.04735257,\n",
              "       -142.87226572, -143.45684628, -143.39089936, -144.01991214,\n",
              "       -144.22903361, -144.20998467, -145.09306107, -143.75619556,\n",
              "       -145.04260712, -145.05615949, -144.72842991])"
            ]
          },
          "execution_count": 78,
          "metadata": {},
          "output_type": "execute_result"
        }
      ],
      "source": [
        "rfecv.cv_results_[\"mean_test_score\"]"
      ]
    },
    {
      "cell_type": "markdown",
      "metadata": {},
      "source": [
        "#### Interpretation\n",
        "\n",
        "The `rfecv.cv_results_[\"mean_test_score\"]` gives a better perspective on the evaluation criteria of this method. The highest the value with the negative sign the more important is the variable. As soon as you eliminate that variable from the model, the performance deteriorates. "
      ]
    },
    {
      "cell_type": "code",
      "execution_count": 138,
      "metadata": {},
      "outputs": [
        {
          "data": {
            "image/png": "[encoded data removed]",
            "text/plain": [
              "<Figure size 640x480 with 1 Axes>"
            ]
          },
          "metadata": {},
          "output_type": "display_data"
        }
      ],
      "source": [
        "## This plot has been adopted from the sklearn documentation page\n",
        "\n",
        "min_features_to_select = 1\n",
        "n_scores = len(rfecv.cv_results_[\"mean_test_score\"])\n",
        "plt.figure()\n",
        "plt.xlabel(\"Number of features selected\")\n",
        "plt.ylabel(\"Mean test accuracy\")\n",
        "plt.errorbar(\n",
        "    range(min_features_to_select, n_scores + min_features_to_select),\n",
        "    rfecv.cv_results_[\"mean_test_score\"],\n",
        "    yerr=rfecv.cv_results_[\"std_test_score\"],\n",
        ")\n",
        "plt.title(\"Recursive Feature Elimination with Cross-Validation\")\n",
        "plt.show()"
      ]
    },
    {
      "cell_type": "code",
      "execution_count": 58,
      "metadata": {},
      "outputs": [
        {
          "name": "stdout",
          "output_type": "stream",
          "text": [
            "Number of selected features: 20\n"
          ]
        }
      ],
      "source": [
        "\n",
        "print(\"Number of selected features:\", rfecv.n_features_)\n"
      ]
    },
    {
      "cell_type": "code",
      "execution_count": 94,
      "metadata": {},
      "outputs": [
        {
          "name": "stdout",
          "output_type": "stream",
          "text": [
            "Selected features: ['x', 'y', 'Ba (ppm)', 'Ca (%)', 'Co (ppm)', 'Cr (ppm)', 'Cu (ppm)', 'Fe (%)', 'K (%)', 'Li (ppm)', 'Mg (%)']\n"
          ]
        }
      ],
      "source": [
        "subset_rfecv = [f for f, s in zip(X_columns, rfecv.support_) if s]\n",
        "\n"
      ]
    },
    {
      "cell_type": "code",
      "execution_count": 95,
      "metadata": {},
      "outputs": [
        {
          "data": {
            "text/plain": [
              "array(['x', 'y', 'Ba (ppm)', 'Ca (%)', 'Co (ppm)', 'Cr (ppm)', 'Cu (ppm)',\n",
              "       'Fe (%)', 'K (%)', 'Li (ppm)', 'Mg (%)', 'Mn (ppm)', 'Nb (ppm)',\n",
              "       'Ni (ppm)', 'P (ppm)', 'Pb (ppm)', 'Rb (ppm)', 'Sn (ppm)',\n",
              "       'Ti (%)', 'Y (ppm)'], dtype='<U10')"
            ]
          },
          "execution_count": 95,
          "metadata": {},
          "output_type": "execute_result"
        }
      ],
      "source": [
        "# Get the selected features and their rankings\n",
        "selected_features = np.array(X_columns)[rfecv.support_]\n",
        "selected_features"
      ]
    },
    {
      "cell_type": "markdown",
      "metadata": {},
      "source": [
        "#### Interpretation\n",
        "\n",
        "The RFECV model selected only 20 features, it is justified by the plot. As we can see that the mean test accuracy plateaus at around 20 num of features and that is the optimal number of features considered here. \n",
        "____"
      ]
    },
    {
      "cell_type": "markdown",
      "metadata": {},
      "source": [
        "### Intersection between permutation importance and RFECV\n",
        "\n",
        "This is the purpose of finding the top 20 variables in the earlier step from the permutation importance method. So, we can compare and see how well did our permutation do to find the top most important features. \n",
        "\n",
        "These intersecting variables signify that they are relatively more importance than the other variables as they stands out in both the methods, this can help us reduce the number of features further (make another subset of X) to evaluate the performance and compare. \n",
        "\n",
        "*Note*: we may not consider the option of applying the model with the optimal(reduced number of features) for this milestone. We have planned it for the next milestone as an additional/continual task from this. "
      ]
    },
    {
      "cell_type": "code",
      "execution_count": 139,
      "metadata": {},
      "outputs": [
        {
          "name": "stdout",
          "output_type": "stream",
          "text": [
            "18\n",
            "Intersection Variables: {'Ca (%)', 'Cr (ppm)', 'Pb (ppm)', 'Nb (ppm)', 'Mn (ppm)', 'Ni (ppm)', 'Co (ppm)', 'x', 'Cu (ppm)', 'Li (ppm)', 'P (ppm)', 'Fe (%)', 'K (%)', 'Mg (%)', 'Ba (ppm)', 'Rb (ppm)', 'Ti (%)', 'Y (ppm)'}\n"
          ]
        }
      ],
      "source": [
        "# Convert the lists to sets for set operations\n",
        "set_top_20_permutation = set(top_20_permutation_importance)\n",
        "set_rfecv_selected = set(subset_rfecv)\n",
        "\n",
        "# Find the intersection\n",
        "intersection_vars = set_top_20_permutation.intersection(set_rfecv_selected)\n",
        "print(len(intersection_vars))\n",
        "# Print or use the intersection variables\n",
        "print(\"Intersection Variables:\", intersection_vars)"
      ]
    },
    {
      "cell_type": "markdown",
      "metadata": {},
      "source": [
        "### Fitness of the model for top variables from REFCV"
      ]
    },
    {
      "cell_type": "code",
      "execution_count": 69,
      "metadata": {},
      "outputs": [
        {
          "data": {
            "text/html": [
              "<style>#sk-container-id-3 {color: black;}#sk-container-id-3 pre{padding: 0;}#sk-container-id-3 div.sk-toggleable {background-color: white;}#sk-container-id-3 label.sk-toggleable__label {cursor: pointer;display: block;width: 100%;margin-bottom: 0;padding: 0.3em;box-sizing: border-box;text-align: center;}#sk-container-id-3 label.sk-toggleable__label-arrow:before {content: \"▸\";float: left;margin-right: 0.25em;color: #696969;}#sk-container-id-3 label.sk-toggleable__label-arrow:hover:before {color: black;}#sk-container-id-3 div.sk-estimator:hover label.sk-toggleable__label-arrow:before {color: black;}#sk-container-id-3 div.sk-toggleable__content {max-height: 0;max-width: 0;overflow: hidden;text-align: left;background-color: #f0f8ff;}#sk-container-id-3 div.sk-toggleable__content pre {margin: 0.2em;color: black;border-radius: 0.25em;background-color: #f0f8ff;}#sk-container-id-3 input.sk-toggleable__control:checked~div.sk-toggleable__content {max-height: 200px;max-width: 100%;overflow: auto;}#sk-container-id-3 input.sk-toggleable__control:checked~label.sk-toggleable__label-arrow:before {content: \"▾\";}#sk-container-id-3 div.sk-estimator input.sk-toggleable__control:checked~label.sk-toggleable__label {background-color: #d4ebff;}#sk-container-id-3 div.sk-label input.sk-toggleable__control:checked~label.sk-toggleable__label {background-color: #d4ebff;}#sk-container-id-3 input.sk-hidden--visually {border: 0;clip: rect(1px 1px 1px 1px);clip: rect(1px, 1px, 1px, 1px);height: 1px;margin: -1px;overflow: hidden;padding: 0;position: absolute;width: 1px;}#sk-container-id-3 div.sk-estimator {font-family: monospace;background-color: #f0f8ff;border: 1px dotted black;border-radius: 0.25em;box-sizing: border-box;margin-bottom: 0.5em;}#sk-container-id-3 div.sk-estimator:hover {background-color: #d4ebff;}#sk-container-id-3 div.sk-parallel-item::after {content: \"\";width: 100%;border-bottom: 1px solid gray;flex-grow: 1;}#sk-container-id-3 div.sk-label:hover label.sk-toggleable__label {background-color: #d4ebff;}#sk-container-id-3 div.sk-serial::before {content: \"\";position: absolute;border-left: 1px solid gray;box-sizing: border-box;top: 0;bottom: 0;left: 50%;z-index: 0;}#sk-container-id-3 div.sk-serial {display: flex;flex-direction: column;align-items: center;background-color: white;padding-right: 0.2em;padding-left: 0.2em;position: relative;}#sk-container-id-3 div.sk-item {position: relative;z-index: 1;}#sk-container-id-3 div.sk-parallel {display: flex;align-items: stretch;justify-content: center;background-color: white;position: relative;}#sk-container-id-3 div.sk-item::before, #sk-container-id-3 div.sk-parallel-item::before {content: \"\";position: absolute;border-left: 1px solid gray;box-sizing: border-box;top: 0;bottom: 0;left: 50%;z-index: -1;}#sk-container-id-3 div.sk-parallel-item {display: flex;flex-direction: column;z-index: 1;position: relative;background-color: white;}#sk-container-id-3 div.sk-parallel-item:first-child::after {align-self: flex-end;width: 50%;}#sk-container-id-3 div.sk-parallel-item:last-child::after {align-self: flex-start;width: 50%;}#sk-container-id-3 div.sk-parallel-item:only-child::after {width: 0;}#sk-container-id-3 div.sk-dashed-wrapped {border: 1px dashed gray;margin: 0 0.4em 0.5em 0.4em;box-sizing: border-box;padding-bottom: 0.4em;background-color: white;}#sk-container-id-3 div.sk-label label {font-family: monospace;font-weight: bold;display: inline-block;line-height: 1.2em;}#sk-container-id-3 div.sk-label-container {text-align: center;}#sk-container-id-3 div.sk-container {/* jupyter's `normalize.less` sets `[hidden] { display: none; }` but bootstrap.min.css set `[hidden] { display: none !important; }` so we also need the `!important` here to be able to override the default hidden behavior on the sphinx rendered scikit-learn.org. See: https://github.com/scikit-learn/scikit-learn/issues/21755 */display: inline-block !important;position: relative;}#sk-container-id-3 div.sk-text-repr-fallback {display: none;}</style><div id=\"sk-container-id-3\" class=\"sk-top-container\"><div class=\"sk-text-repr-fallback\"><pre>RandomForestRegressor(max_features=0.2, n_estimators=2000, oob_score=True,\n",
              "                      random_state=42)</pre><b>In a Jupyter environment, please rerun this cell to show the HTML representation or trust the notebook. <br />On GitHub, the HTML representation is unable to render, please try loading this page with nbviewer.org.</b></div><div class=\"sk-container\" hidden><div class=\"sk-item\"><div class=\"sk-estimator sk-toggleable\"><input class=\"sk-toggleable__control sk-hidden--visually\" id=\"sk-estimator-id-5\" type=\"checkbox\" checked><label for=\"sk-estimator-id-5\" class=\"sk-toggleable__label sk-toggleable__label-arrow\">RandomForestRegressor</label><div class=\"sk-toggleable__content\"><pre>RandomForestRegressor(max_features=0.2, n_estimators=2000, oob_score=True,\n",
              "                      random_state=42)</pre></div></div></div></div></div>"
            ],
            "text/plain": [
              "RandomForestRegressor(max_features=0.2, n_estimators=2000, oob_score=True,\n",
              "                      random_state=42)"
            ]
          },
          "execution_count": 69,
          "metadata": {},
          "output_type": "execute_result"
        }
      ],
      "source": [
        "\n",
        "# Fit a new model based on feature selection\n",
        "X_selected = rfecv.transform(X)\n",
        "\n",
        "# Fit a new model based on the selected features\n",
        "clf_selected = RandomForestRegressor(n_estimators=2000, \n",
        "                                     max_features=0.2, \n",
        "                                     oob_score=True, \n",
        "                                     random_state=42)\n",
        "clf_selected.fit(X_selected, Y)"
      ]
    },
    {
      "cell_type": "code",
      "execution_count": 89,
      "metadata": {},
      "outputs": [],
      "source": [
        "%%timeit\n",
        "\n",
        "# it might be computationally expensive to run this cell but it is important\n",
        "# to distinguish the difference between the model with all the features and the model with the selected features\n",
        "clf_selected = RandomForestRegressor(n_estimators=2000, \n",
        "                                    max_features=0.2, \n",
        "                                    oob_score=True, \n",
        "                                    random_state=42) \n",
        "\n",
        "\n",
        "\n",
        "# Lists to store metrics for each fold\n",
        "r2_scores_selected = []\n",
        "rmse_scores_selected = []\n",
        "mse_scores_selected = []\n",
        "\n",
        "for train_index, test_index in group_kfold.split(X_selected, Y, groups):\n",
        "    # print(\"TRAIN:\", train_index, \"TEST:\", test_index)\n",
        "    X_train_selected, X_test_selected = X_selected[train_index], X_selected[test_index]\n",
        "    y_train, y_test = Y[train_index], Y[test_index]\n",
        "\n",
        "\n",
        "    clf_selected.fit(X_train_selected, y_train)\n",
        "\n",
        "    r2_score_selected = clf_selected.score(X_test_selected, y_test)\n",
        "    r2_scores_selected.append(r2_score_selected)\n",
        "\n",
        "    \n",
        "    y_pred_selected = clf_selected.predict(X_test_selected)\n",
        "\n",
        "    rmse_selected = mean_squared_error(y_test, y_pred_selected, squared=False)\n",
        "    rmse_scores_selected.append(rmse_selected)\n",
        "\n",
        "    mse_selected = mean_squared_error(y_test, y_pred_selected)\n",
        "    mse_scores_selected.append(mse_selected)\n",
        "  "
      ]
    },
    {
      "cell_type": "code",
      "execution_count": 140,
      "metadata": {},
      "outputs": [
        {
          "name": "stdout",
          "output_type": "stream",
          "text": [
            "Average R2 Score (Selected Features): 0.6685506120647016\n",
            "Average Root Mean Squared Error (RMSE) (Selected Features): 11.76179003427273\n",
            "Average Mean Squared Error (MSE) (Selected Features): 140.06258460635473\n"
          ]
        }
      ],
      "source": [
        "# compute average metrics across folds\n",
        "avg_r2_score_selected = np.mean(r2_scores_selected)\n",
        "avg_rmse_selected = np.mean(rmse_scores_selected)\n",
        "avg_mse_selected = np.mean(mse_scores_selected)\n",
        "\n",
        "\n",
        "print(\"Average R2 Score (Selected Features):\", round(avg_r2_score_selected,2))\n",
        "print(\"Average Root Mean Squared Error (RMSE) (Selected Features):\", round(avg_rmse_selected,2))\n",
        "print(\"Average Mean Squared Error (MSE) (Selected Features):\", round(avg_mse_selected,2))"
      ]
    },
    {
      "cell_type": "markdown",
      "metadata": {},
      "source": [
        "#### Interpretation\n",
        "\n",
        "The result hasn't improved a long way however the processing time has decreased significantly. There is always a compromise between computation price and accuracy, but in this case you are better off with both. \n",
        "Also, the performance on the model with reduced variable has improved a slight bit. $r^2$ increase from `0.65` to `0.67` and the `avg.mse` has also been dropped from `MSE:144.73` to `MSE: 140.06`\n",
        "\n"
      ]
    },
    {
      "cell_type": "markdown",
      "metadata": {},
      "source": [
        "This might look very repetitive but it is important to see the all the process at one stop for better visualiation and better understanding. First model takes all the features into account, while the other only values 20 variables based on the `REFCV` algorithm.\n"
      ]
    },
    {
      "cell_type": "markdown",
      "metadata": {},
      "source": [
        "## 4. Model Evaluation:\n",
        "\n",
        "Overall, the models had similar results, as shown in the table below: \n",
        "\n",
        "| Metric                                           | RFR (Optimal Hyperparameters) | RFR (No Hyperparameter Tuning) | RFR RFCV (Selected Features) |\n",
        "|---------------------------------------------------|---------------------------------------------------|------------------------------------------------------|----------------------------------------|\n",
        "| R2 Score                                          | 0.67                                              | 0.64                                                 | 0.67                                  |\n",
        "| Mean Squared Error (MSE)                          | 144.8                                            | 107.81                                               | 140.06                                 |\n",
        "| Root Mean Squared Error (RMSE)                    | 12.03                                             | 10.38                                                | 11.76                                  |\n",
        "\n",
        "\n",
        "The feature selection made the runtime of the model reduced drastically. Meanwhile the `opt_clf` took a couple of minutes to run, the others were faster. We timed both the models to evaluate them on time:\n",
        "\n",
        "\n",
        "**RandomForestRegressor with all features**\n",
        "\n",
        "- Model with all the features: `58.8 s ± 269 ms per loop (mean ± std. dev. of 7 runs, 1 loop each)`\n",
        "\n",
        "**RandomForestRegressor with selected features**\n",
        "\n",
        "- Model with reduced features: `40.7 s ± 9.49 s per loop (mean ± std. dev. of 7 runs, 1 loop each)` for the model evaluation\n",
        "\n",
        "The results did not change much when comparing several RF. However, there was an improvement in terms of processing time. \n",
        "\n",
        "It is important to highlight that the complexity of data could be holding the model back. An interesting approach for improving the performance is adding more variables, such as lithology.\n",
        "\n",
        "One thing regarding the MSE: as out metrics, we see that it's always a very high value. However, it's important to look at our target data. The whole dataset of Zn (ppm) have an average of 37.6 ppm, the minimum is 3 and maximum 194. The 3rd quantile have 47ppm. Since we have a lot of variance, and the MSE penalizes large errors, this might justify why we are having high MSE values for all of our models.\n",
        "\n",
        "_____"
      ]
    },
    {
      "cell_type": "markdown",
      "metadata": {},
      "source": [
        "References:\n",
        "\n",
        "https://machinelearningmastery.com/an-introduction-to-feature-selection/\n",
        "\n",
        "https://machinelearningmastery.com/feature-selection-machine-learning-python/\n",
        "https://www.datatechnotes.com/2022/10/feature-selection-example-with-rfecv-in.html#:~:text=RFECV%20(Recursive%20Feature%20Elimination%20with,features%20in%20a%20given%20dataset.\n",
        "\n",
        "https://scikit-learn.org/stable/modules/generated/sklearn.feature_selection.RFECV.html\n",
        "\n",
        "About the cv method:\n",
        "\n",
        "https://scikit-learn.org/stable/glossary.html#term-CV-splitter\n",
        "\n",
        "Stackoverflow support: https://stackoverflow.com/questions/44487654/build-a-random-forest-regressor-with-cross-validation-from-scratch\n",
        "\n",
        "https://medium.com/wicds/feature-importance-feature-selection-acac802ba565"
      ]
    }
  ],
  "metadata": {
    "accelerator": "GPU",
    "colab": {
      "gpuType": "T4",
      "provenance": []
    },
    "kernelspec": {
      "display_name": "Python 3",
      "name": "python3"
    },
    "language_info": {
      "codemirror_mode": {
        "name": "ipython",
        "version": 3
      },
      "file_extension": ".py",
      "mimetype": "text/x-python",
      "name": "python",
      "nbconvert_exporter": "python",
      "pygments_lexer": "ipython3",
      "version": "3.9.17"
    }
  },
  "nbformat": 4,
  "nbformat_minor": 0
}
