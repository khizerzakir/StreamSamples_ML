{
 "cells": [
  {
   "cell_type": "markdown",
   "metadata": {},
   "source": [
    "# Milestone 3: Random Forest Algorithm\n",
    "\n",
    "**Authors**: __Khizer Zakir & Rodrigo Brust Santos__\n",
    "\n",
    "__November 2023__\n",
    "\n",
    "_____"
   ]
  },
  {
   "cell_type": "code",
   "execution_count": 1,
   "metadata": {},
   "outputs": [],
   "source": [
    "#basic libraries\n",
    "import pandas as pd\n",
    "import numpy as np\n",
    "\n",
    "#graphic and charts\n",
    "import matplotlib.pyplot as plt\n",
    "import seaborn as sns\n",
    "\n",
    "#machine learning\n",
    "from sklearn.ensemble import RandomForestClassifier, RandomForestRegressor\n",
    "from sklearn.linear_model import LinearRegression, Ridge\n",
    "from sklearn.metrics import mean_absolute_error, mean_squared_error\n",
    "from sklearn.model_selection import GroupKFold, cross_val_score, cross_val_predict\n",
    "from sklearn.metrics import r2_score\n",
    "\n",
    "#spatial libraries\n",
    "import geopandas as gpd\n",
    "import folium"
   ]
  },
  {
   "cell_type": "markdown",
   "metadata": {},
   "source": [
    "# Table of Contents\n",
    "\n",
    "1. Feedback\n",
    "\n",
    "1. Hyperparameter Setting\n",
    "\n",
    "\n",
    "2. Model Calibration\n",
    "\n",
    "\n",
    "3.  Variable Selection\n",
    "\n",
    "\n",
    "4. Model Evaluation\n",
    "\n",
    "\n",
    "_____"
   ]
  },
  {
   "cell_type": "code",
   "execution_count": 2,
   "metadata": {},
   "outputs": [
    {
     "data": {
      "text/html": [
       "<div>\n",
       "<style scoped>\n",
       "    .dataframe tbody tr th:only-of-type {\n",
       "        vertical-align: middle;\n",
       "    }\n",
       "\n",
       "    .dataframe tbody tr th {\n",
       "        vertical-align: top;\n",
       "    }\n",
       "\n",
       "    .dataframe thead th {\n",
       "        text-align: right;\n",
       "    }\n",
       "</style>\n",
       "<table border=\"1\" class=\"dataframe\">\n",
       "  <thead>\n",
       "    <tr style=\"text-align: right;\">\n",
       "      <th></th>\n",
       "      <th>x</th>\n",
       "      <th>y</th>\n",
       "      <th>Ag (ppm)</th>\n",
       "      <th>Al (%)</th>\n",
       "      <th>As (ppm)</th>\n",
       "      <th>Ba (ppm)</th>\n",
       "      <th>Be (ppm)</th>\n",
       "      <th>Bi (ppm)</th>\n",
       "      <th>Ca (%)</th>\n",
       "      <th>Cd (ppm)</th>\n",
       "      <th>...</th>\n",
       "      <th>Sr (ppm)</th>\n",
       "      <th>Th (ppm)</th>\n",
       "      <th>Ti (%)</th>\n",
       "      <th>U (ppm)</th>\n",
       "      <th>V (ppm)</th>\n",
       "      <th>W (ppm)</th>\n",
       "      <th>Y (ppm)</th>\n",
       "      <th>Zn (ppm)</th>\n",
       "      <th>Zr (ppm)</th>\n",
       "      <th>basin_id</th>\n",
       "    </tr>\n",
       "  </thead>\n",
       "  <tbody>\n",
       "    <tr>\n",
       "      <th>0</th>\n",
       "      <td>248757</td>\n",
       "      <td>7972050</td>\n",
       "      <td>0.03</td>\n",
       "      <td>2.63</td>\n",
       "      <td>4.0</td>\n",
       "      <td>76.0</td>\n",
       "      <td>1.0</td>\n",
       "      <td>0.31</td>\n",
       "      <td>0.05</td>\n",
       "      <td>0.03</td>\n",
       "      <td>...</td>\n",
       "      <td>3.3</td>\n",
       "      <td>7.4</td>\n",
       "      <td>0.03</td>\n",
       "      <td>0.70</td>\n",
       "      <td>73</td>\n",
       "      <td>0.3</td>\n",
       "      <td>13.15</td>\n",
       "      <td>27</td>\n",
       "      <td>6.3</td>\n",
       "      <td>2</td>\n",
       "    </tr>\n",
       "    <tr>\n",
       "      <th>1</th>\n",
       "      <td>244460</td>\n",
       "      <td>7973135</td>\n",
       "      <td>0.02</td>\n",
       "      <td>1.93</td>\n",
       "      <td>2.0</td>\n",
       "      <td>84.0</td>\n",
       "      <td>1.7</td>\n",
       "      <td>0.29</td>\n",
       "      <td>0.04</td>\n",
       "      <td>0.01</td>\n",
       "      <td>...</td>\n",
       "      <td>3.1</td>\n",
       "      <td>8.2</td>\n",
       "      <td>0.06</td>\n",
       "      <td>0.94</td>\n",
       "      <td>58</td>\n",
       "      <td>0.3</td>\n",
       "      <td>23.90</td>\n",
       "      <td>58</td>\n",
       "      <td>6.9</td>\n",
       "      <td>3</td>\n",
       "    </tr>\n",
       "  </tbody>\n",
       "</table>\n",
       "<p>2 rows × 45 columns</p>\n",
       "</div>"
      ],
      "text/plain": [
       "        x        y  Ag (ppm)  Al (%)  As (ppm)  Ba (ppm)  Be (ppm)  Bi (ppm)  \\\n",
       "0  248757  7972050      0.03    2.63       4.0      76.0       1.0      0.31   \n",
       "1  244460  7973135      0.02    1.93       2.0      84.0       1.7      0.29   \n",
       "\n",
       "   Ca (%)  Cd (ppm)  ...  Sr (ppm)  Th (ppm)  Ti (%)  U (ppm)  V (ppm)  \\\n",
       "0    0.05      0.03  ...       3.3       7.4    0.03     0.70       73   \n",
       "1    0.04      0.01  ...       3.1       8.2    0.06     0.94       58   \n",
       "\n",
       "   W (ppm)  Y (ppm)  Zn (ppm)  Zr (ppm)  basin_id  \n",
       "0      0.3    13.15        27       6.3         2  \n",
       "1      0.3    23.90        58       6.9         3  \n",
       "\n",
       "[2 rows x 45 columns]"
      ]
     },
     "execution_count": 2,
     "metadata": {},
     "output_type": "execute_result"
    }
   ],
   "source": [
    "#loading data frame\n",
    "df = pd.read_csv('../dataset/stream_samples_basin_id.csv')\n",
    "\n",
    "#removing columns that wont be used\n",
    "df.drop(columns = ['geometry', 'index_right'], inplace = True)\n",
    "\n",
    "df.rename(columns = {'OBJECTID':'basin_id'}, inplace = True)\n",
    "\n",
    "df.head(2)"
   ]
  },
  {
   "cell_type": "code",
   "execution_count": 3,
   "metadata": {},
   "outputs": [],
   "source": [
    "#variable that we will predict\n",
    "Y_column = 'Zn (ppm)'\n",
    "\n",
    "#explanatory variables\n",
    "X_columns = list(df.iloc[:, :-1])\n",
    "\n",
    "#dropping Zn from our explanatory variables\n",
    "X_columns.remove('Zn (ppm)')"
   ]
  },
  {
   "cell_type": "code",
   "execution_count": 4,
   "metadata": {},
   "outputs": [],
   "source": [
    "#generating the X and Y dataset and transforming to numpy array\n",
    "X, Y = df[X_columns].to_numpy(), df[Y_column].to_numpy()\n",
    "\n",
    "#defining the watershed number as the group\n",
    "groups = df['basin_id'].to_numpy()\n"
   ]
  },
  {
   "cell_type": "markdown",
   "metadata": {},
   "source": [
    "Despite not receving Feedback on-time for the next submission deadline, we wanted to know if the CV performed before was correctly implemented. \n",
    "\n",
    "Below, we are going to compare the results of CV. One implementing the same way as before, with `cross_val_predict` and another using a for loop.\n",
    "\n",
    "#### How we implemented CV for Linear Regression"
   ]
  },
  {
   "cell_type": "code",
   "execution_count": 5,
   "metadata": {},
   "outputs": [],
   "source": [
    "n_splits = 4   #setting the number of splits, arbitrarly.\n",
    "\n",
    "group_kfold = GroupKFold(n_splits=n_splits)\n",
    "\n",
    "basin_kfold = group_kfold.split(X, Y, groups)\n",
    "\n",
    "# Create a nested list of train and test indices for each fold\n",
    "train_indices, test_indices = [list(traintest) for traintest in zip(*basin_kfold)]\n",
    "\n",
    "basin_cv = [*zip(train_indices,test_indices)]"
   ]
  },
  {
   "cell_type": "code",
   "execution_count": 9,
   "metadata": {},
   "outputs": [
    {
     "name": "stdout",
     "output_type": "stream",
     "text": [
      "R2:  0.57\n",
      "RMSE: 13.68\n",
      "MSE: 187.13\n",
      "CPU times: total: 31.2 ms\n",
      "Wall time: 34 ms\n"
     ]
    }
   ],
   "source": [
    "%%time\n",
    "\n",
    "# model\n",
    "linear_clf = LinearRegression().fit(X, Y)\n",
    "\n",
    "# fit and predict at the same time consdering the cv = basin_cv takes care of the data splitting\n",
    "\n",
    "y_pred = cross_val_predict(linear_clf, X, Y, cv=basin_cv, groups=groups)\n",
    "\n",
    "r2 = r2_score(Y, y_pred)\n",
    "rmse = mean_squared_error(Y, y_pred, squared = False)\n",
    "mse = mean_squared_error(Y, y_pred)\n",
    "\n",
    "print('R2: ',round(r2,2))\n",
    "print(f'RMSE:', round(rmse,2))\n",
    "print(f'MSE:', round(mse,2))"
   ]
  },
  {
   "cell_type": "markdown",
   "metadata": {},
   "source": [
    "### How we are testing right now LinearRegression model with CV and for loop."
   ]
  },
  {
   "cell_type": "code",
   "execution_count": 11,
   "metadata": {},
   "outputs": [
    {
     "name": "stdout",
     "output_type": "stream",
     "text": [
      "R2 - Index: 1  0.53\n",
      "RMSE: 15.31\n",
      "MSE: 234.27\n",
      "R2 - Index: 2  0.62\n",
      "RMSE: 14.14\n",
      "MSE: 199.84\n",
      "R2 - Index: 3  0.55\n",
      "RMSE: 11.66\n",
      "MSE: 135.84\n",
      "CPU times: total: 93.8 ms\n",
      "Wall time: 51 ms\n"
     ]
    }
   ],
   "source": [
    "%%time\n",
    "\n",
    "# Create a GroupKFold object with the desired number of splits (k)\n",
    "k = 4\n",
    "group_kfold_two = GroupKFold(n_splits=k)\n",
    "\n",
    "# Specify the fold you want to use (fold_index should be less than k)\n",
    "fold_index = [1,2,3]\n",
    "\n",
    "r2_scores, mse_scores, rmse_scores = [], [], []\n",
    "\n",
    "for i in fold_index:\n",
    "\n",
    "    # Get indices for the specified fold\n",
    "    train_index, test_index = list(group_kfold_two.split(X, Y, groups))[i - 1]\n",
    "\n",
    "    #print('Train-Test Shapes', train_index.shape, test_index.shape)\n",
    "\n",
    "    # Use the indices to get the training and testing sets\n",
    "    X_train, X_test = X[train_index], X[test_index]\n",
    "\n",
    "    #print('X Train-Test Shapes', X_train.shape, X_test.shape)\n",
    "    \n",
    "    y_train, y_test = Y[train_index], Y[test_index]\n",
    "    #print('Y Train-Test Shapes', y_train.shape, y_test.shape)\n",
    "\n",
    "    # Create a linear regression model\n",
    "    model = LinearRegression()\n",
    "\n",
    "    # Fit the model on the training data\n",
    "    model.fit(X_train, y_train)\n",
    "\n",
    "    # Make predictions on the testing data\n",
    "    y_pred_two = model.predict(X_test)\n",
    "\n",
    "    # Evaluate the model\n",
    "    r2 = r2_score(y_test, y_pred_two)\n",
    "    rmse = mean_squared_error(y_test, y_pred_two, squared=False)\n",
    "    mse = mean_squared_error(y_test, y_pred_two)\n",
    "\n",
    "    print(f'R2 - Index: {i} ',round(r2,2))\n",
    "    print(f'RMSE:', round(rmse,2))\n",
    "    print(f'MSE:', round(mse,2))\n",
    "\n",
    "    r2_scores.append(r2)\n",
    "    mse_scores.append(mse)\n",
    "    rmse_scores.append(rmse)"
   ]
  },
  {
   "cell_type": "code",
   "execution_count": 16,
   "metadata": {},
   "outputs": [
    {
     "name": "stdout",
     "output_type": "stream",
     "text": [
      "Linear Regression Model with CV in a For Loop\n",
      "R2:  0.56\n",
      "RMSE: 13.7\n",
      "MSE: 189.99\n"
     ]
    }
   ],
   "source": [
    "print('Linear Regression Model with CV in a For Loop')\n",
    "\n",
    "print('R2: ',round(np.mean(r2_scores),2))\n",
    "print(f'RMSE:', round(np.mean(rmse_scores),2))\n",
    "print(f'MSE:', round(np.mean(mse_scores),2))"
   ]
  },
  {
   "cell_type": "markdown",
   "metadata": {},
   "source": [
    "If we compare the values of the for-loop and `cross_val_predict`, we can see there's a very small variation in the values. \n",
    "\n",
    "This is the result of Milestone2 implementation\n",
    "\n",
    "Multiple Linear Regression Metrics\n",
    "\n",
    "- MSE: 187.13\n",
    "- RMSE: 13.68\n",
    "- R2: 0.57\n",
    "\n",
    "\n",
    "## Now let's test with Ridge Model with CV in a for-loop"
   ]
  },
  {
   "cell_type": "code",
   "execution_count": 17,
   "metadata": {},
   "outputs": [
    {
     "name": "stdout",
     "output_type": "stream",
     "text": [
      "Index 1 0.5959173014095739 14.19358526782089 201.45786275490218\n",
      "Index 2 0.6461940686823625 13.5744030918268 184.26441929939702\n",
      "Index 3 0.5278142409741016 11.880613713672371 141.14898221350003\n"
     ]
    }
   ],
   "source": [
    "#using the optimal learning rate\n",
    "r_rmse, r_mse, r_r2 = [], [], []\n",
    "for i in fold_index:\n",
    "\n",
    "    # Get indices for the specified fold\n",
    "    train_index, test_index = list(group_kfold_two.split(X, Y, groups))[i - 1]\n",
    "\n",
    "    #print('Train-Test Shapes', train_index.shape, test_index.shape)\n",
    "\n",
    "    # Use the indices to get the training and testing sets\n",
    "    X_train, X_test = X[train_index], X[test_index]\n",
    "\n",
    "    #print('X Train-Test Shapes', X_train.shape, X_test.shape)\n",
    "    \n",
    "    y_train, y_test = Y[train_index], Y[test_index]\n",
    "    #print('Y Train-Test Shapes', y_train.shape, y_test.shape)\n",
    "\n",
    "    elastmodel = Ridge(alpha=4.83)\n",
    "    \n",
    "    elastmodel.fit(X_train, y_train)\n",
    "\n",
    "    y_pred_ridge = elastmodel.predict(X_test)\n",
    "        \n",
    "    # Calculate evaluation metrics\n",
    "    rmse_ridge = mean_squared_error(y_test, y_pred_ridge, squared=False)\n",
    "    mse_ridge = mean_squared_error(y_test, y_pred_ridge)\n",
    "    r2_ridge = r2_score(y_test, y_pred_ridge)\n",
    "\n",
    "    r_rmse.append(rmse_ridge)\n",
    "    r_mse.append(mse_ridge)\n",
    "    r_r2.append(r2_ridge)\n",
    "\n",
    "    print(f'Index {i}', r2_ridge, rmse_ridge, mse_ridge )"
   ]
  },
  {
   "cell_type": "code",
   "execution_count": 18,
   "metadata": {},
   "outputs": [
    {
     "name": "stdout",
     "output_type": "stream",
     "text": [
      "Ridge Model with CV in a For Loop\n",
      "R2:  0.59\n",
      "RMSE: 13.22\n",
      "MSE: 175.62\n"
     ]
    }
   ],
   "source": [
    "print('Ridge Model with CV in a For Loop')\n",
    "\n",
    "print('R2: ',round(np.mean(r_r2),2))\n",
    "print(f'RMSE:', round(np.mean(r_rmse),2))\n",
    "print(f'MSE:', round(np.mean(r_mse),2))"
   ]
  },
  {
   "cell_type": "markdown",
   "metadata": {},
   "source": [
    "Once again, the values show an insignificant variation in the metrics. \n",
    "\n",
    "Ridge Regression Metrics\n",
    "- MSE: 176.97\n",
    "- RMSE: 13.30\n",
    "- R2: 0.59\n",
    "\n",
    "\n",
    "Having in mind that the way we implemented and this other approach are quite the same, we are more tranquil to keep on going with the Random Forest model implementation.\n",
    "\n",
    "_____"
   ]
  },
  {
   "cell_type": "markdown",
   "metadata": {},
   "source": [
    "### 1. Hyperparameter Setting\n",
    "\n",
    "• Recall what are the two most important hyperparameters. Propose a protocol that relies on the out-of-bag\n",
    "(OOB) error to tune this hyperparameter.\n",
    "\n",
    "The two most important hyperparameters for the random forest algorithm are:\n",
    "\n",
    "- `max_features`: helps controlling the bias and variance for the forest. In case of having a small number of features, the trees are less correlated. By default, in regression problems, max_features starts with `d/3`, until being properly tuned.\n",
    "\n",
    "- `n_estimators`: represents the amount of forests within the random forest. It's recommended starting with a high value in order to obtain a robust estimate.\n",
    "\n",
    "\n",
    "First, the model will be implemented without any type of hyperparameter setting. Then, the main hyperparameters will be calculated, leading to the application to the model. Finaly, it will be visible the difference between the random forest tuned and the other that is not. \n"
   ]
  },
  {
   "cell_type": "code",
   "execution_count": 19,
   "metadata": {},
   "outputs": [],
   "source": [
    "#maxfeatures\n",
    "d = round(df.shape[0]/3)"
   ]
  },
  {
   "cell_type": "markdown",
   "metadata": {},
   "source": [
    "Below, we are setting the `RandomForestRegressor` within the variable `tree_clf`. \n",
    "\n",
    "The `n_estimators` was set as 500 arbitrarly. The ideia is that if there is a high value it's possible to get a stable estimate, and then change it to the tuned value.\n",
    "\n",
    "`max_features` was set as the division of the length of the dataset by 3. Also to be tuned.\n",
    "\n",
    "It was opted to have out-of-bag replacement to have an estimation of the generalization score.\n",
    "\n",
    "Finally, the `random_state` was set to 42 in order to get the reproducibility."
   ]
  },
  {
   "cell_type": "code",
   "execution_count": 20,
   "metadata": {},
   "outputs": [],
   "source": [
    "tree_clf = RandomForestRegressor(n_estimators= 500, max_features=d, oob_score=True, random_state=42)"
   ]
  },
  {
   "cell_type": "code",
   "execution_count": 21,
   "metadata": {},
   "outputs": [
    {
     "data": {
      "text/html": [
       "<style>#sk-container-id-1 {color: black;background-color: white;}#sk-container-id-1 pre{padding: 0;}#sk-container-id-1 div.sk-toggleable {background-color: white;}#sk-container-id-1 label.sk-toggleable__label {cursor: pointer;display: block;width: 100%;margin-bottom: 0;padding: 0.3em;box-sizing: border-box;text-align: center;}#sk-container-id-1 label.sk-toggleable__label-arrow:before {content: \"▸\";float: left;margin-right: 0.25em;color: #696969;}#sk-container-id-1 label.sk-toggleable__label-arrow:hover:before {color: black;}#sk-container-id-1 div.sk-estimator:hover label.sk-toggleable__label-arrow:before {color: black;}#sk-container-id-1 div.sk-toggleable__content {max-height: 0;max-width: 0;overflow: hidden;text-align: left;background-color: #f0f8ff;}#sk-container-id-1 div.sk-toggleable__content pre {margin: 0.2em;color: black;border-radius: 0.25em;background-color: #f0f8ff;}#sk-container-id-1 input.sk-toggleable__control:checked~div.sk-toggleable__content {max-height: 200px;max-width: 100%;overflow: auto;}#sk-container-id-1 input.sk-toggleable__control:checked~label.sk-toggleable__label-arrow:before {content: \"▾\";}#sk-container-id-1 div.sk-estimator input.sk-toggleable__control:checked~label.sk-toggleable__label {background-color: #d4ebff;}#sk-container-id-1 div.sk-label input.sk-toggleable__control:checked~label.sk-toggleable__label {background-color: #d4ebff;}#sk-container-id-1 input.sk-hidden--visually {border: 0;clip: rect(1px 1px 1px 1px);clip: rect(1px, 1px, 1px, 1px);height: 1px;margin: -1px;overflow: hidden;padding: 0;position: absolute;width: 1px;}#sk-container-id-1 div.sk-estimator {font-family: monospace;background-color: #f0f8ff;border: 1px dotted black;border-radius: 0.25em;box-sizing: border-box;margin-bottom: 0.5em;}#sk-container-id-1 div.sk-estimator:hover {background-color: #d4ebff;}#sk-container-id-1 div.sk-parallel-item::after {content: \"\";width: 100%;border-bottom: 1px solid gray;flex-grow: 1;}#sk-container-id-1 div.sk-label:hover label.sk-toggleable__label {background-color: #d4ebff;}#sk-container-id-1 div.sk-serial::before {content: \"\";position: absolute;border-left: 1px solid gray;box-sizing: border-box;top: 0;bottom: 0;left: 50%;z-index: 0;}#sk-container-id-1 div.sk-serial {display: flex;flex-direction: column;align-items: center;background-color: white;padding-right: 0.2em;padding-left: 0.2em;position: relative;}#sk-container-id-1 div.sk-item {position: relative;z-index: 1;}#sk-container-id-1 div.sk-parallel {display: flex;align-items: stretch;justify-content: center;background-color: white;position: relative;}#sk-container-id-1 div.sk-item::before, #sk-container-id-1 div.sk-parallel-item::before {content: \"\";position: absolute;border-left: 1px solid gray;box-sizing: border-box;top: 0;bottom: 0;left: 50%;z-index: -1;}#sk-container-id-1 div.sk-parallel-item {display: flex;flex-direction: column;z-index: 1;position: relative;background-color: white;}#sk-container-id-1 div.sk-parallel-item:first-child::after {align-self: flex-end;width: 50%;}#sk-container-id-1 div.sk-parallel-item:last-child::after {align-self: flex-start;width: 50%;}#sk-container-id-1 div.sk-parallel-item:only-child::after {width: 0;}#sk-container-id-1 div.sk-dashed-wrapped {border: 1px dashed gray;margin: 0 0.4em 0.5em 0.4em;box-sizing: border-box;padding-bottom: 0.4em;background-color: white;}#sk-container-id-1 div.sk-label label {font-family: monospace;font-weight: bold;display: inline-block;line-height: 1.2em;}#sk-container-id-1 div.sk-label-container {text-align: center;}#sk-container-id-1 div.sk-container {/* jupyter's `normalize.less` sets `[hidden] { display: none; }` but bootstrap.min.css set `[hidden] { display: none !important; }` so we also need the `!important` here to be able to override the default hidden behavior on the sphinx rendered scikit-learn.org. See: https://github.com/scikit-learn/scikit-learn/issues/21755 */display: inline-block !important;position: relative;}#sk-container-id-1 div.sk-text-repr-fallback {display: none;}</style><div id=\"sk-container-id-1\" class=\"sk-top-container\"><div class=\"sk-text-repr-fallback\"><pre>RandomForestRegressor(max_features=236, n_estimators=500, oob_score=True,\n",
       "                      random_state=42)</pre><b>In a Jupyter environment, please rerun this cell to show the HTML representation or trust the notebook. <br />On GitHub, the HTML representation is unable to render, please try loading this page with nbviewer.org.</b></div><div class=\"sk-container\" hidden><div class=\"sk-item\"><div class=\"sk-estimator sk-toggleable\"><input class=\"sk-toggleable__control sk-hidden--visually\" id=\"sk-estimator-id-1\" type=\"checkbox\" checked><label for=\"sk-estimator-id-1\" class=\"sk-toggleable__label sk-toggleable__label-arrow\">RandomForestRegressor</label><div class=\"sk-toggleable__content\"><pre>RandomForestRegressor(max_features=236, n_estimators=500, oob_score=True,\n",
       "                      random_state=42)</pre></div></div></div></div></div>"
      ],
      "text/plain": [
       "RandomForestRegressor(max_features=236, n_estimators=500, oob_score=True,\n",
       "                      random_state=42)"
      ]
     },
     "execution_count": 21,
     "metadata": {},
     "output_type": "execute_result"
    }
   ],
   "source": [
    "#fitting data\n",
    "tree_clf.fit(X_train, y_train)"
   ]
  },
  {
   "cell_type": "code",
   "execution_count": 23,
   "metadata": {},
   "outputs": [
    {
     "data": {
      "text/plain": [
       "{'bootstrap': True,\n",
       " 'ccp_alpha': 0.0,\n",
       " 'criterion': 'squared_error',\n",
       " 'max_depth': None,\n",
       " 'max_features': 236,\n",
       " 'max_leaf_nodes': None,\n",
       " 'max_samples': None,\n",
       " 'min_impurity_decrease': 0.0,\n",
       " 'min_samples_leaf': 1,\n",
       " 'min_samples_split': 2,\n",
       " 'min_weight_fraction_leaf': 0.0,\n",
       " 'n_estimators': 500,\n",
       " 'n_jobs': None,\n",
       " 'oob_score': True,\n",
       " 'random_state': 42,\n",
       " 'verbose': 0,\n",
       " 'warm_start': False}"
      ]
     },
     "execution_count": 23,
     "metadata": {},
     "output_type": "execute_result"
    }
   ],
   "source": [
    "tree_clf.get_params()"
   ]
  },
  {
   "cell_type": "code",
   "execution_count": 24,
   "metadata": {},
   "outputs": [
    {
     "name": "stdout",
     "output_type": "stream",
     "text": [
      "OOB score:  0.67\n",
      "OOB error: 0.32999999999999996\n"
     ]
    }
   ],
   "source": [
    "oob_score = round(tree_clf.oob_score_,2)\n",
    "\n",
    "print('OOB score: ', oob_score )\n",
    "\n",
    "oob_error = 1 - oob_score\n",
    "print('OOB error:', oob_error )"
   ]
  },
  {
   "cell_type": "markdown",
   "metadata": {},
   "source": [
    "###  ^ INTERPRET THIS OOB SCORE, CHECK IF ITS RIGHT"
   ]
  },
  {
   "cell_type": "code",
   "execution_count": 25,
   "metadata": {},
   "outputs": [
    {
     "name": "stdout",
     "output_type": "stream",
     "text": [
      "Random Forest Regressor Scores without hyperparameter tunning\n",
      "#############################################################\n",
      "R2 Score: 0.64\n",
      "MSE: 107.81\n",
      "RMSE: 10.38\n",
      "#############################################################\n"
     ]
    }
   ],
   "source": [
    "pred_test = tree_clf.predict(X_test)\n",
    "\n",
    "# Calculate evaluation metrics\n",
    "rmse_tree_clf = mean_squared_error(y_test, pred_test, squared=False)\n",
    "\n",
    "mse_tree_clf = mean_squared_error(y_test, pred_test)\n",
    "\n",
    "r2_tree_clf = r2_score(y_test, pred_test)\n",
    "\n",
    "print('Random Forest Regressor Scores without hyperparameter tunning')\n",
    "print('#############################################################')\n",
    "print('R2 Score:', round(r2_tree_clf,2))\n",
    "print('MSE:', round(mse_tree_clf,2))\n",
    "print('RMSE:', round(rmse_tree_clf,2))\n",
    "print('#############################################################')"
   ]
  },
  {
   "cell_type": "markdown",
   "metadata": {},
   "source": [
    "### 2. Model Calibration\n",
    "\n",
    "• For the calibrated model, measure the importance of each variable. Justify the choice of the importance\n",
    "measure (why did you use this importance measure instead of another one?). Comment on the results:\n",
    "according to the importance measure you chose, what are the most discriminant variables of your dataset?\n",
    "Interpret"
   ]
  },
  {
   "cell_type": "markdown",
   "metadata": {},
   "source": [
    "Justifying the parameters below:\n",
    "\n",
    "- `warm_start`: to allow the reutilization of previous run, leading to the addition of more estimators to the ensable. **Explain it better maybe?**\n",
    "\n",
    "- `max_features='auto'`: once the **n_estimators** is tuned, the next one to be tuned is the max_features. For now, let's keep it in auto."
   ]
  },
  {
   "cell_type": "code",
   "execution_count": 26,
   "metadata": {},
   "outputs": [
    {
     "ename": "KeyboardInterrupt",
     "evalue": "",
     "output_type": "error",
     "traceback": [
      "\u001b[1;31m---------------------------------------------------------------------------\u001b[0m",
      "\u001b[1;31mKeyboardInterrupt\u001b[0m                         Traceback (most recent call last)",
      "\u001b[1;32md:\\CDE\\OneDrive - Universität Salzburg\\UBS\\1Semester\\MachineLearning\\Project\\StreamSamples_ML\\milestone3\\milestone3.ipynb Célula 28\u001b[0m line \u001b[0;36m1\n\u001b[0;32m      <a href='vscode-notebook-cell:/d%3A/CDE/OneDrive%20-%20Universit%C3%A4t%20Salzburg/UBS/1Semester/MachineLearning/Project/StreamSamples_ML/milestone3/milestone3.ipynb#X42sZmlsZQ%3D%3D?line=6'>7</a>\u001b[0m \u001b[39mfor\u001b[39;00m i \u001b[39min\u001b[39;00m \u001b[39mrange\u001b[39m(min_estimators, max_estimators\u001b[39m+\u001b[39m\u001b[39m1\u001b[39m, step):\n\u001b[0;32m      <a href='vscode-notebook-cell:/d%3A/CDE/OneDrive%20-%20Universit%C3%A4t%20Salzburg/UBS/1Semester/MachineLearning/Project/StreamSamples_ML/milestone3/milestone3.ipynb#X42sZmlsZQ%3D%3D?line=7'>8</a>\u001b[0m     rf_reg \u001b[39m=\u001b[39m RandomForestRegressor(warm_start\u001b[39m=\u001b[39m\u001b[39mTrue\u001b[39;00m, n_estimators\u001b[39m=\u001b[39m i, max_features\u001b[39m=\u001b[39m\u001b[39m1.0\u001b[39m, random_state\u001b[39m=\u001b[39m\u001b[39m42\u001b[39m, oob_score\u001b[39m=\u001b[39m\u001b[39mTrue\u001b[39;00m)\n\u001b[1;32m---> <a href='vscode-notebook-cell:/d%3A/CDE/OneDrive%20-%20Universit%C3%A4t%20Salzburg/UBS/1Semester/MachineLearning/Project/StreamSamples_ML/milestone3/milestone3.ipynb#X42sZmlsZQ%3D%3D?line=9'>10</a>\u001b[0m     rf_reg\u001b[39m.\u001b[39;49mfit(X_train, y_train)\n\u001b[0;32m     <a href='vscode-notebook-cell:/d%3A/CDE/OneDrive%20-%20Universit%C3%A4t%20Salzburg/UBS/1Semester/MachineLearning/Project/StreamSamples_ML/milestone3/milestone3.ipynb#X42sZmlsZQ%3D%3D?line=11'>12</a>\u001b[0m     \u001b[39m# Record the OOB error for each `n_estimators=i` setting.\u001b[39;00m\n\u001b[0;32m     <a href='vscode-notebook-cell:/d%3A/CDE/OneDrive%20-%20Universit%C3%A4t%20Salzburg/UBS/1Semester/MachineLearning/Project/StreamSamples_ML/milestone3/milestone3.ipynb#X42sZmlsZQ%3D%3D?line=12'>13</a>\u001b[0m     oob_error \u001b[39m=\u001b[39m \u001b[39m1\u001b[39m \u001b[39m-\u001b[39m rf_reg\u001b[39m.\u001b[39moob_score_\n",
      "File \u001b[1;32m~\\AppData\\Roaming\\Python\\Python39\\site-packages\\sklearn\\ensemble\\_forest.py:476\u001b[0m, in \u001b[0;36mBaseForest.fit\u001b[1;34m(self, X, y, sample_weight)\u001b[0m\n\u001b[0;32m    465\u001b[0m trees \u001b[39m=\u001b[39m [\n\u001b[0;32m    466\u001b[0m     \u001b[39mself\u001b[39m\u001b[39m.\u001b[39m_make_estimator(append\u001b[39m=\u001b[39m\u001b[39mFalse\u001b[39;00m, random_state\u001b[39m=\u001b[39mrandom_state)\n\u001b[0;32m    467\u001b[0m     \u001b[39mfor\u001b[39;00m i \u001b[39min\u001b[39;00m \u001b[39mrange\u001b[39m(n_more_estimators)\n\u001b[0;32m    468\u001b[0m ]\n\u001b[0;32m    470\u001b[0m \u001b[39m# Parallel loop: we prefer the threading backend as the Cython code\u001b[39;00m\n\u001b[0;32m    471\u001b[0m \u001b[39m# for fitting the trees is internally releasing the Python GIL\u001b[39;00m\n\u001b[0;32m    472\u001b[0m \u001b[39m# making threading more efficient than multiprocessing in\u001b[39;00m\n\u001b[0;32m    473\u001b[0m \u001b[39m# that case. However, for joblib 0.12+ we respect any\u001b[39;00m\n\u001b[0;32m    474\u001b[0m \u001b[39m# parallel_backend contexts set at a higher level,\u001b[39;00m\n\u001b[0;32m    475\u001b[0m \u001b[39m# since correctness does not rely on using threads.\u001b[39;00m\n\u001b[1;32m--> 476\u001b[0m trees \u001b[39m=\u001b[39m Parallel(\n\u001b[0;32m    477\u001b[0m     n_jobs\u001b[39m=\u001b[39;49m\u001b[39mself\u001b[39;49m\u001b[39m.\u001b[39;49mn_jobs,\n\u001b[0;32m    478\u001b[0m     verbose\u001b[39m=\u001b[39;49m\u001b[39mself\u001b[39;49m\u001b[39m.\u001b[39;49mverbose,\n\u001b[0;32m    479\u001b[0m     prefer\u001b[39m=\u001b[39;49m\u001b[39m\"\u001b[39;49m\u001b[39mthreads\u001b[39;49m\u001b[39m\"\u001b[39;49m,\n\u001b[0;32m    480\u001b[0m )(\n\u001b[0;32m    481\u001b[0m     delayed(_parallel_build_trees)(\n\u001b[0;32m    482\u001b[0m         t,\n\u001b[0;32m    483\u001b[0m         \u001b[39mself\u001b[39;49m\u001b[39m.\u001b[39;49mbootstrap,\n\u001b[0;32m    484\u001b[0m         X,\n\u001b[0;32m    485\u001b[0m         y,\n\u001b[0;32m    486\u001b[0m         sample_weight,\n\u001b[0;32m    487\u001b[0m         i,\n\u001b[0;32m    488\u001b[0m         \u001b[39mlen\u001b[39;49m(trees),\n\u001b[0;32m    489\u001b[0m         verbose\u001b[39m=\u001b[39;49m\u001b[39mself\u001b[39;49m\u001b[39m.\u001b[39;49mverbose,\n\u001b[0;32m    490\u001b[0m         class_weight\u001b[39m=\u001b[39;49m\u001b[39mself\u001b[39;49m\u001b[39m.\u001b[39;49mclass_weight,\n\u001b[0;32m    491\u001b[0m         n_samples_bootstrap\u001b[39m=\u001b[39;49mn_samples_bootstrap,\n\u001b[0;32m    492\u001b[0m     )\n\u001b[0;32m    493\u001b[0m     \u001b[39mfor\u001b[39;49;00m i, t \u001b[39min\u001b[39;49;00m \u001b[39menumerate\u001b[39;49m(trees)\n\u001b[0;32m    494\u001b[0m )\n\u001b[0;32m    496\u001b[0m \u001b[39m# Collect newly grown trees\u001b[39;00m\n\u001b[0;32m    497\u001b[0m \u001b[39mself\u001b[39m\u001b[39m.\u001b[39mestimators_\u001b[39m.\u001b[39mextend(trees)\n",
      "File \u001b[1;32m~\\AppData\\Roaming\\Python\\Python39\\site-packages\\joblib\\parallel.py:1088\u001b[0m, in \u001b[0;36mParallel.__call__\u001b[1;34m(self, iterable)\u001b[0m\n\u001b[0;32m   1085\u001b[0m \u001b[39mif\u001b[39;00m \u001b[39mself\u001b[39m\u001b[39m.\u001b[39mdispatch_one_batch(iterator):\n\u001b[0;32m   1086\u001b[0m     \u001b[39mself\u001b[39m\u001b[39m.\u001b[39m_iterating \u001b[39m=\u001b[39m \u001b[39mself\u001b[39m\u001b[39m.\u001b[39m_original_iterator \u001b[39mis\u001b[39;00m \u001b[39mnot\u001b[39;00m \u001b[39mNone\u001b[39;00m\n\u001b[1;32m-> 1088\u001b[0m \u001b[39mwhile\u001b[39;00m \u001b[39mself\u001b[39;49m\u001b[39m.\u001b[39;49mdispatch_one_batch(iterator):\n\u001b[0;32m   1089\u001b[0m     \u001b[39mpass\u001b[39;00m\n\u001b[0;32m   1091\u001b[0m \u001b[39mif\u001b[39;00m pre_dispatch \u001b[39m==\u001b[39m \u001b[39m\"\u001b[39m\u001b[39mall\u001b[39m\u001b[39m\"\u001b[39m \u001b[39mor\u001b[39;00m n_jobs \u001b[39m==\u001b[39m \u001b[39m1\u001b[39m:\n\u001b[0;32m   1092\u001b[0m     \u001b[39m# The iterable was consumed all at once by the above for loop.\u001b[39;00m\n\u001b[0;32m   1093\u001b[0m     \u001b[39m# No need to wait for async callbacks to trigger to\u001b[39;00m\n\u001b[0;32m   1094\u001b[0m     \u001b[39m# consumption.\u001b[39;00m\n",
      "File \u001b[1;32m~\\AppData\\Roaming\\Python\\Python39\\site-packages\\joblib\\parallel.py:901\u001b[0m, in \u001b[0;36mParallel.dispatch_one_batch\u001b[1;34m(self, iterator)\u001b[0m\n\u001b[0;32m    899\u001b[0m     \u001b[39mreturn\u001b[39;00m \u001b[39mFalse\u001b[39;00m\n\u001b[0;32m    900\u001b[0m \u001b[39melse\u001b[39;00m:\n\u001b[1;32m--> 901\u001b[0m     \u001b[39mself\u001b[39;49m\u001b[39m.\u001b[39;49m_dispatch(tasks)\n\u001b[0;32m    902\u001b[0m     \u001b[39mreturn\u001b[39;00m \u001b[39mTrue\u001b[39;00m\n",
      "File \u001b[1;32m~\\AppData\\Roaming\\Python\\Python39\\site-packages\\joblib\\parallel.py:819\u001b[0m, in \u001b[0;36mParallel._dispatch\u001b[1;34m(self, batch)\u001b[0m\n\u001b[0;32m    817\u001b[0m \u001b[39mwith\u001b[39;00m \u001b[39mself\u001b[39m\u001b[39m.\u001b[39m_lock:\n\u001b[0;32m    818\u001b[0m     job_idx \u001b[39m=\u001b[39m \u001b[39mlen\u001b[39m(\u001b[39mself\u001b[39m\u001b[39m.\u001b[39m_jobs)\n\u001b[1;32m--> 819\u001b[0m     job \u001b[39m=\u001b[39m \u001b[39mself\u001b[39;49m\u001b[39m.\u001b[39;49m_backend\u001b[39m.\u001b[39;49mapply_async(batch, callback\u001b[39m=\u001b[39;49mcb)\n\u001b[0;32m    820\u001b[0m     \u001b[39m# A job can complete so quickly than its callback is\u001b[39;00m\n\u001b[0;32m    821\u001b[0m     \u001b[39m# called before we get here, causing self._jobs to\u001b[39;00m\n\u001b[0;32m    822\u001b[0m     \u001b[39m# grow. To ensure correct results ordering, .insert is\u001b[39;00m\n\u001b[0;32m    823\u001b[0m     \u001b[39m# used (rather than .append) in the following line\u001b[39;00m\n\u001b[0;32m    824\u001b[0m     \u001b[39mself\u001b[39m\u001b[39m.\u001b[39m_jobs\u001b[39m.\u001b[39minsert(job_idx, job)\n",
      "File \u001b[1;32m~\\AppData\\Roaming\\Python\\Python39\\site-packages\\joblib\\_parallel_backends.py:208\u001b[0m, in \u001b[0;36mSequentialBackend.apply_async\u001b[1;34m(self, func, callback)\u001b[0m\n\u001b[0;32m    206\u001b[0m \u001b[39mdef\u001b[39;00m \u001b[39mapply_async\u001b[39m(\u001b[39mself\u001b[39m, func, callback\u001b[39m=\u001b[39m\u001b[39mNone\u001b[39;00m):\n\u001b[0;32m    207\u001b[0m \u001b[39m    \u001b[39m\u001b[39m\"\"\"Schedule a func to be run\"\"\"\u001b[39;00m\n\u001b[1;32m--> 208\u001b[0m     result \u001b[39m=\u001b[39m ImmediateResult(func)\n\u001b[0;32m    209\u001b[0m     \u001b[39mif\u001b[39;00m callback:\n\u001b[0;32m    210\u001b[0m         callback(result)\n",
      "File \u001b[1;32m~\\AppData\\Roaming\\Python\\Python39\\site-packages\\joblib\\_parallel_backends.py:597\u001b[0m, in \u001b[0;36mImmediateResult.__init__\u001b[1;34m(self, batch)\u001b[0m\n\u001b[0;32m    594\u001b[0m \u001b[39mdef\u001b[39;00m \u001b[39m__init__\u001b[39m(\u001b[39mself\u001b[39m, batch):\n\u001b[0;32m    595\u001b[0m     \u001b[39m# Don't delay the application, to avoid keeping the input\u001b[39;00m\n\u001b[0;32m    596\u001b[0m     \u001b[39m# arguments in memory\u001b[39;00m\n\u001b[1;32m--> 597\u001b[0m     \u001b[39mself\u001b[39m\u001b[39m.\u001b[39mresults \u001b[39m=\u001b[39m batch()\n",
      "File \u001b[1;32m~\\AppData\\Roaming\\Python\\Python39\\site-packages\\joblib\\parallel.py:288\u001b[0m, in \u001b[0;36mBatchedCalls.__call__\u001b[1;34m(self)\u001b[0m\n\u001b[0;32m    284\u001b[0m \u001b[39mdef\u001b[39;00m \u001b[39m__call__\u001b[39m(\u001b[39mself\u001b[39m):\n\u001b[0;32m    285\u001b[0m     \u001b[39m# Set the default nested backend to self._backend but do not set the\u001b[39;00m\n\u001b[0;32m    286\u001b[0m     \u001b[39m# change the default number of processes to -1\u001b[39;00m\n\u001b[0;32m    287\u001b[0m     \u001b[39mwith\u001b[39;00m parallel_backend(\u001b[39mself\u001b[39m\u001b[39m.\u001b[39m_backend, n_jobs\u001b[39m=\u001b[39m\u001b[39mself\u001b[39m\u001b[39m.\u001b[39m_n_jobs):\n\u001b[1;32m--> 288\u001b[0m         \u001b[39mreturn\u001b[39;00m [func(\u001b[39m*\u001b[39margs, \u001b[39m*\u001b[39m\u001b[39m*\u001b[39mkwargs)\n\u001b[0;32m    289\u001b[0m                 \u001b[39mfor\u001b[39;00m func, args, kwargs \u001b[39min\u001b[39;00m \u001b[39mself\u001b[39m\u001b[39m.\u001b[39mitems]\n",
      "File \u001b[1;32m~\\AppData\\Roaming\\Python\\Python39\\site-packages\\joblib\\parallel.py:288\u001b[0m, in \u001b[0;36m<listcomp>\u001b[1;34m(.0)\u001b[0m\n\u001b[0;32m    284\u001b[0m \u001b[39mdef\u001b[39;00m \u001b[39m__call__\u001b[39m(\u001b[39mself\u001b[39m):\n\u001b[0;32m    285\u001b[0m     \u001b[39m# Set the default nested backend to self._backend but do not set the\u001b[39;00m\n\u001b[0;32m    286\u001b[0m     \u001b[39m# change the default number of processes to -1\u001b[39;00m\n\u001b[0;32m    287\u001b[0m     \u001b[39mwith\u001b[39;00m parallel_backend(\u001b[39mself\u001b[39m\u001b[39m.\u001b[39m_backend, n_jobs\u001b[39m=\u001b[39m\u001b[39mself\u001b[39m\u001b[39m.\u001b[39m_n_jobs):\n\u001b[1;32m--> 288\u001b[0m         \u001b[39mreturn\u001b[39;00m [func(\u001b[39m*\u001b[39margs, \u001b[39m*\u001b[39m\u001b[39m*\u001b[39mkwargs)\n\u001b[0;32m    289\u001b[0m                 \u001b[39mfor\u001b[39;00m func, args, kwargs \u001b[39min\u001b[39;00m \u001b[39mself\u001b[39m\u001b[39m.\u001b[39mitems]\n",
      "File \u001b[1;32m~\\AppData\\Roaming\\Python\\Python39\\site-packages\\sklearn\\utils\\fixes.py:117\u001b[0m, in \u001b[0;36m_FuncWrapper.__call__\u001b[1;34m(self, *args, **kwargs)\u001b[0m\n\u001b[0;32m    115\u001b[0m \u001b[39mdef\u001b[39;00m \u001b[39m__call__\u001b[39m(\u001b[39mself\u001b[39m, \u001b[39m*\u001b[39margs, \u001b[39m*\u001b[39m\u001b[39m*\u001b[39mkwargs):\n\u001b[0;32m    116\u001b[0m     \u001b[39mwith\u001b[39;00m config_context(\u001b[39m*\u001b[39m\u001b[39m*\u001b[39m\u001b[39mself\u001b[39m\u001b[39m.\u001b[39mconfig):\n\u001b[1;32m--> 117\u001b[0m         \u001b[39mreturn\u001b[39;00m \u001b[39mself\u001b[39m\u001b[39m.\u001b[39mfunction(\u001b[39m*\u001b[39margs, \u001b[39m*\u001b[39m\u001b[39m*\u001b[39mkwargs)\n",
      "File \u001b[1;32m~\\AppData\\Roaming\\Python\\Python39\\site-packages\\sklearn\\ensemble\\_forest.py:176\u001b[0m, in \u001b[0;36m_parallel_build_trees\u001b[1;34m(tree, bootstrap, X, y, sample_weight, tree_idx, n_trees, verbose, class_weight, n_samples_bootstrap)\u001b[0m\n\u001b[0;32m    173\u001b[0m \u001b[39melse\u001b[39;00m:\n\u001b[0;32m    174\u001b[0m     curr_sample_weight \u001b[39m=\u001b[39m sample_weight\u001b[39m.\u001b[39mcopy()\n\u001b[1;32m--> 176\u001b[0m indices \u001b[39m=\u001b[39m _generate_sample_indices(\n\u001b[0;32m    177\u001b[0m     tree\u001b[39m.\u001b[39;49mrandom_state, n_samples, n_samples_bootstrap\n\u001b[0;32m    178\u001b[0m )\n\u001b[0;32m    179\u001b[0m sample_counts \u001b[39m=\u001b[39m np\u001b[39m.\u001b[39mbincount(indices, minlength\u001b[39m=\u001b[39mn_samples)\n\u001b[0;32m    180\u001b[0m curr_sample_weight \u001b[39m*\u001b[39m\u001b[39m=\u001b[39m sample_counts\n",
      "File \u001b[1;32m~\\AppData\\Roaming\\Python\\Python39\\site-packages\\sklearn\\ensemble\\_forest.py:133\u001b[0m, in \u001b[0;36m_generate_sample_indices\u001b[1;34m(random_state, n_samples, n_samples_bootstrap)\u001b[0m\n\u001b[0;32m    129\u001b[0m \u001b[39m\u001b[39m\u001b[39m\"\"\"\u001b[39;00m\n\u001b[0;32m    130\u001b[0m \u001b[39mPrivate function used to _parallel_build_trees function.\"\"\"\u001b[39;00m\n\u001b[0;32m    132\u001b[0m random_instance \u001b[39m=\u001b[39m check_random_state(random_state)\n\u001b[1;32m--> 133\u001b[0m sample_indices \u001b[39m=\u001b[39m random_instance\u001b[39m.\u001b[39;49mrandint(\u001b[39m0\u001b[39;49m, n_samples, n_samples_bootstrap)\n\u001b[0;32m    135\u001b[0m \u001b[39mreturn\u001b[39;00m sample_indices\n",
      "\u001b[1;31mKeyboardInterrupt\u001b[0m: "
     ]
    }
   ],
   "source": [
    "error_rate = []\n",
    "\n",
    "min_estimators = 500\n",
    "max_estimators = 4000\n",
    "step = 50\n",
    "\n",
    "for i in range(min_estimators, max_estimators+1, step):\n",
    "    rf_reg = RandomForestRegressor(warm_start=True, n_estimators= i, max_features=1.0, random_state=42, oob_score=True)\n",
    "\n",
    "    rf_reg.fit(X_train, y_train)\n",
    "\n",
    "    # Record the OOB error for each `n_estimators=i` setting.\n",
    "    oob_error = 1 - rf_reg.oob_score_\n",
    "\n",
    "    error_rate.append(oob_error)\n",
    "  \n",
    "\n"
   ]
  },
  {
   "cell_type": "code",
   "execution_count": null,
   "metadata": {},
   "outputs": [
    {
     "data": {
      "image/png": "[encoded data removed]",
      "text/plain": [
       "<Figure size 640x480 with 1 Axes>"
      ]
     },
     "metadata": {},
     "output_type": "display_data"
    }
   ],
   "source": [
    "# Plot Generate the \"OOB error rate\" vs. \"n_estimators\" plot\n",
    "\n",
    "plt.plot(range(min_estimators, max_estimators +1, step), error_rate, label=\"OOB error rate\")\n",
    "\n",
    "plt.ylim(0.34, 1.1*max(error_rate)) \n",
    "plt.xlim(min_estimators, 1.1*max_estimators)\n",
    "plt.xlabel(\"n_estimators\")\n",
    "plt.ylabel(\"OOB error rate vs. number of trees\")\n",
    "plt.legend(loc=\"upper right\")\n",
    "plt.show()"
   ]
  },
  {
   "cell_type": "markdown",
   "metadata": {},
   "source": [
    "Since the OOB error rate is almost flat around 2000 n_estimators, this is the value that will be used."
   ]
  },
  {
   "cell_type": "code",
   "execution_count": null,
   "metadata": {},
   "outputs": [
    {
     "name": "stdout",
     "output_type": "stream",
     "text": [
      "                  params  mean_test_score  std_test_score\n",
      "0  {'max_features': 0.1}         0.642319        0.053013\n",
      "1  {'max_features': 0.2}         0.658834        0.052182\n",
      "2  {'max_features': 0.3}         0.660794        0.053651\n",
      "3  {'max_features': 0.4}         0.658192        0.056230\n",
      "4  {'max_features': 0.5}         0.655275        0.059405\n",
      "5  {'max_features': 0.6}         0.651116        0.062381\n",
      "6  {'max_features': 0.7}         0.646442        0.067189\n",
      "7  {'max_features': 0.8}         0.640631        0.070958\n",
      "8  {'max_features': 0.9}         0.635967        0.074460\n"
     ]
    }
   ],
   "source": [
    "grid = {\n",
    "    'max_features':[0.1,0.2,0.3,0.4,0.5,0.6,0.7,0.8,0.9]\n",
    "}\n",
    "\n",
    "# Step 2: use the grid to to search for the best couple of parameters\n",
    "from sklearn.model_selection import GridSearchCV\n",
    "rf = RandomForestRegressor(n_estimators=2000) # create the forest model to tune\n",
    "\n",
    "B=5\n",
    "results_cv=pd.DataFrame()\n",
    "for i in range(B):\n",
    "    \n",
    "    rf_cv = GridSearchCV(estimator=rf,param_grid=grid, cv=basin_cv,n_jobs=-1)# Search the best values for the parameters using 3-fold cross validation, and use all available cores(n_jobs=-1)\n",
    "    rf_cv.fit(X, Y) # Fit the CV search\n",
    "    if i==0: \n",
    "        results_cv=pd.DataFrame(rf_cv.cv_results_)[[\"params\",\"mean_test_score\",\"std_test_score\"]]\n",
    "    else:\n",
    "        results_cv[\"mean_test_score\"]=results_cv[\"mean_test_score\"]+pd.DataFrame(rf_cv.cv_results_)[\"mean_test_score\"]\n",
    "        results_cv[\"std_test_score\"]=results_cv[\"std_test_score\"]+pd.DataFrame(rf_cv.cv_results_)[\"std_test_score\"]  \n",
    "        \n",
    "        \n",
    "\n",
    "results_cv[\"mean_test_score\"]=results_cv[\"mean_test_score\"]/B\n",
    "results_cv[\"std_test_score\"]=results_cv[\"std_test_score\"]/B \n",
    "\n",
    "\n",
    "# Step 3: get the best parameters (with the higher performance)\n",
    "print(results_cv)"
   ]
  },
  {
   "cell_type": "markdown",
   "metadata": {},
   "source": [
    "The best `max_feature` value is the one that has the lowest standard deviation score. In this case, the best value is **0.2**"
   ]
  },
  {
   "cell_type": "code",
   "execution_count": null,
   "metadata": {},
   "outputs": [],
   "source": [
    "error_rate = []\n",
    "\n",
    "min_estimators = 500\n",
    "max_estimators = 4000\n",
    "step = 50\n",
    "\n",
    "for i in range(min_estimators, max_estimators+1, step):\n",
    "    rf_reg = RandomForestRegressor(warm_start=True, n_estimators= i, max_features=0.2, random_state=42, oob_score=True)\n",
    "\n",
    "    rf_reg.fit(X_train, y_train)\n",
    "\n",
    "    # Record the OOB error for each `n_estimators=i` setting.\n",
    "    oob_error = 1 - rf_reg.oob_score_\n",
    "\n",
    "    error_rate.append(oob_error)\n",
    "  \n",
    "\n"
   ]
  },
  {
   "cell_type": "code",
   "execution_count": null,
   "metadata": {},
   "outputs": [
    {
     "data": {
      "image/png": "[encoded data removed]",
      "text/plain": [
       "<Figure size 640x480 with 1 Axes>"
      ]
     },
     "metadata": {},
     "output_type": "display_data"
    }
   ],
   "source": [
    "# Plot Generate the \"OOB error rate\" vs. \"n_estimators\" plot\n",
    "\n",
    "plt.plot(range(min_estimators, max_estimators +1, step), error_rate, label=\"OOB error rate\")\n",
    "\n",
    "plt.ylim(0.30, 1.1*max(error_rate)) \n",
    "plt.xlim(min_estimators, max_estimators)\n",
    "plt.xlabel(\"n_estimators\")\n",
    "plt.ylabel(\"OOB error rate vs. number of trees\")\n",
    "plt.legend(loc=\"upper right\")\n",
    "plt.show()"
   ]
  },
  {
   "cell_type": "code",
   "execution_count": null,
   "metadata": {},
   "outputs": [
    {
     "name": "stdout",
     "output_type": "stream",
     "text": [
      "Random Forest Regressor Scores with Optimal Hyperparameters\n",
      "#############################################################\n",
      "R2 Score: 0.6\n",
      "MSE: 197.16\n",
      "RMSE: 14.04\n",
      "#############################################################\n"
     ]
    }
   ],
   "source": [
    "opt_rf = RandomForestRegressor(n_estimators = 2000, max_features=0.2, oob_score=True, random_state=42)\n",
    "\n",
    "opt_rf.fit(X_train, y_train)\n",
    "\n",
    "pred_opt = opt_rf.predict(X_test)\n",
    "\n",
    "\n",
    "# Calculate evaluation metrics\n",
    "rmse_opt = mean_squared_error(y_test, pred_opt, squared=False)\n",
    "\n",
    "mse_opt = mean_squared_error(y_test, pred_opt)\n",
    "\n",
    "r2_opt = r2_score(y_test, pred_opt)\n",
    "print('Random Forest Regressor Scores with Optimal Hyperparameters')\n",
    "print('#############################################################')\n",
    "print('R2 Score:', round(r2_opt,2))\n",
    "print('MSE:', round(mse_opt,2))\n",
    "print('RMSE:', round(rmse_opt,2))\n",
    "print('#############################################################')"
   ]
  },
  {
   "cell_type": "markdown",
   "metadata": {},
   "source": [
    "# Appling GroupKFold CV to RandomForestRegression\n",
    "\n"
   ]
  },
  {
   "cell_type": "code",
   "execution_count": null,
   "metadata": {},
   "outputs": [
    {
     "name": "stdout",
     "output_type": "stream",
     "text": [
      "R2 - Index: 1  0.6\n",
      "RMSE: 14.04\n",
      "MSE: 197.16\n",
      "R2 - Index: 2  0.75\n",
      "RMSE: 11.52\n",
      "MSE: 132.69\n",
      "R2 - Index: 3  0.65\n",
      "RMSE: 10.27\n",
      "MSE: 105.55\n"
     ]
    }
   ],
   "source": [
    "# Create a GroupKFold object with the desired number of splits (k)\n",
    "k = 4\n",
    "group_kfold_two = GroupKFold(n_splits=k)\n",
    "\n",
    "# Specify the fold you want to use (fold_index should be less than k)\n",
    "fold_index = [1,2,3]\n",
    "\n",
    "r2_scores_rf, mse_scores_rf, rmse_scores_rf = [], [], []\n",
    "\n",
    "for i in fold_index:\n",
    "\n",
    "    # Get indices for the specified fold\n",
    "    train_index, test_index = list(group_kfold_two.split(X, Y, groups))[i - 1]\n",
    "\n",
    "    #print('Train-Test Shapes', train_index.shape, test_index.shape)\n",
    "\n",
    "    # Use the indices to get the training and testing sets\n",
    "    X_train, X_test = X[train_index], X[test_index]\n",
    "\n",
    "    #print('X Train-Test Shapes', X_train.shape, X_test.shape)\n",
    "    \n",
    "    y_train, y_test = Y[train_index], Y[test_index]\n",
    "    #print('Y Train-Test Shapes', y_train.shape, y_test.shape)\n",
    "\n",
    "    # Create a linear regression model\n",
    "    rf_model = RandomForestRegressor(n_estimators = 2000, max_features=0.2, oob_score=True, random_state=42)\n",
    "\n",
    "    # Fit the model on the training data\n",
    "    rf_model.fit(X_train, y_train)\n",
    "\n",
    "    # Make predictions on the testing data\n",
    "    y_pred_rf = rf_model.predict(X_test)\n",
    "\n",
    "    # Evaluate the model\n",
    "    r2 = r2_score(y_test, y_pred_rf)\n",
    "    rmse = mean_squared_error(y_test, y_pred_rf, squared=False)\n",
    "    mse = mean_squared_error(y_test, y_pred_rf)\n",
    "\n",
    "    print(f'R2 - Index: {i} ',round(r2,2))\n",
    "    print(f'RMSE:', round(rmse,2))\n",
    "    print(f'MSE:', round(mse,2))\n",
    "\n",
    "    r2_scores_rf.append(r2)\n",
    "    mse_scores_rf.append(mse)\n",
    "    rmse_scores_rf.append(rmse)"
   ]
  },
  {
   "cell_type": "code",
   "execution_count": null,
   "metadata": {},
   "outputs": [
    {
     "name": "stdout",
     "output_type": "stream",
     "text": [
      "Results with Random Forest Regressor with\n",
      "Optimal Hyperparameters and with GroupKFold CV:\n",
      "R2 - RMSE - MSE\n",
      "0.67 11.94 145.13\n"
     ]
    }
   ],
   "source": [
    "print('Results with Random Forest Regressor with\\nOptimal Hyperparameters and with GroupKFold CV:')\n",
    "print('R2 - RMSE - MSE')\n",
    "print(round(np.mean(r2_scores_rf),2), round(np.mean(rmse_scores_rf),2), round(np.mean(mse_scores_rf),2))"
   ]
  },
  {
   "cell_type": "markdown",
   "metadata": {},
   "source": [
    "### 3.  Variable Selection\n",
    "\n",
    "• Based on the feature importance analysis (previous question), conduct a selection of variables using one\n",
    "of the strategies described during the lecture. Justify your choice and recall how the selected technique\n",
    "works. Implement and run it. What is the final number of selected variables in the model? Justify if you\n",
    "need to recalibrate the forest or not.\n"
   ]
  },
  {
   "cell_type": "markdown",
   "metadata": {},
   "source": [
    "### 4. Model Evaluation\n",
    "\n",
    "• Evaluate the test performance of the two random forest models (based on the full set of variables or\n",
    "a subset) and determine the configuration of the best model (based on the main evaluation metric you\n",
    "selected in step 1)."
   ]
  },
  {
   "cell_type": "code",
   "execution_count": null,
   "metadata": {},
   "outputs": [],
   "source": []
  },
  {
   "cell_type": "code",
   "execution_count": null,
   "metadata": {},
   "outputs": [],
   "source": []
  }
 ],
 "metadata": {
  "kernelspec": {
   "display_name": "obia",
   "language": "python",
   "name": "python3"
  },
  "language_info": {
   "codemirror_mode": {
    "name": "ipython",
    "version": 3
   },
   "file_extension": ".py",
   "mimetype": "text/x-python",
   "name": "python",
   "nbconvert_exporter": "python",
   "pygments_lexer": "ipython3",
   "version": "3.9.17"
  }
 },
 "nbformat": 4,
 "nbformat_minor": 2
}
