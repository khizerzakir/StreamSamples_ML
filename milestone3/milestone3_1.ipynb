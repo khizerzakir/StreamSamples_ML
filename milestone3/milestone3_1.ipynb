{
  "cells": [
    {
      "cell_type": "markdown",
      "metadata": {
        "id": "hQbQgN8D5YbB"
      },
      "source": [
        "# Milestone 3: Random Forest Algorithm\n",
        "\n",
        "**Authors**: __Khizer Zakir & Rodrigo Brust Santos__\n",
        "\n",
        "__November 2023__\n",
        "\n",
        "_____"
      ]
    },
    {
      "cell_type": "code",
      "execution_count": 1,
      "metadata": {
        "colab": {
          "base_uri": "https://localhost:8080/"
        },
        "id": "ZWTG9UgU5YbJ",
        "outputId": "9200fb6a-17ae-4cef-c5a0-b16f2358593b"
      },
      "outputs": [
        {
          "output_type": "stream",
          "name": "stdout",
          "text": [
            "Mounted at /content/drive\n"
          ]
        }
      ],
      "source": [
        "#basic libraries\n",
        "import pandas as pd\n",
        "import numpy as np\n",
        "\n",
        "#graphic and charts\n",
        "import matplotlib.pyplot as plt\n",
        "import seaborn as sns\n",
        "\n",
        "#machine learning\n",
        "from sklearn.ensemble import RandomForestClassifier, RandomForestRegressor\n",
        "from sklearn.linear_model import LinearRegression, Ridge\n",
        "from sklearn.metrics import mean_absolute_error, mean_squared_error\n",
        "from sklearn.model_selection import GroupKFold, cross_val_score, cross_val_predict\n",
        "from sklearn.metrics import r2_score\n",
        "\n",
        "#spatial libraries\n",
        "import geopandas as gpd\n",
        "import folium\n",
        "\n",
        "from google.colab import drive\n",
        "drive.mount('/content/drive')"
      ]
    },
    {
      "cell_type": "markdown",
      "metadata": {
        "id": "0vWHEy5Q5YbM"
      },
      "source": [
        "# Table of Contents\n",
        "\n",
        "1. Feedback\n",
        "\n",
        "1. Hyperparameter Setting\n",
        "\n",
        "\n",
        "2. Model Calibration\n",
        "\n",
        "\n",
        "3.  Variable Selection\n",
        "\n",
        "\n",
        "4. Model Evaluation\n",
        "\n",
        "\n",
        "_____"
      ]
    },
    {
      "cell_type": "code",
      "source": [
        "import os\n",
        "\n",
        "os.chdir('/content/drive/MyDrive/StreamSamples_ML')\n",
        "os.getcwd()"
      ],
      "metadata": {
        "colab": {
          "base_uri": "https://localhost:8080/",
          "height": 36
        },
        "id": "kR2xSAWW54M5",
        "outputId": "a06293b0-fe0f-4a05-9eea-22871f4ef1e6"
      },
      "execution_count": 3,
      "outputs": [
        {
          "output_type": "execute_result",
          "data": {
            "text/plain": [
              "'/content/drive/MyDrive/StreamSamples_ML'"
            ],
            "application/vnd.google.colaboratory.intrinsic+json": {
              "type": "string"
            }
          },
          "metadata": {},
          "execution_count": 3
        }
      ]
    },
    {
      "cell_type": "code",
      "execution_count": 4,
      "metadata": {
        "colab": {
          "base_uri": "https://localhost:8080/",
          "height": 179
        },
        "id": "znW1QaAX5YbM",
        "outputId": "2c7635f0-7f62-4ff0-9e68-175ecb17d288"
      },
      "outputs": [
        {
          "output_type": "execute_result",
          "data": {
            "text/plain": [
              "        x        y  Ag (ppm)  Al (%)  As (ppm)  Ba (ppm)  Be (ppm)  Bi (ppm)  \\\n",
              "0  248757  7972050      0.03    2.63       4.0      76.0       1.0      0.31   \n",
              "1  244460  7973135      0.02    1.93       2.0      84.0       1.7      0.29   \n",
              "\n",
              "   Ca (%)  Cd (ppm)  ...  Sr (ppm)  Th (ppm)  Ti (%)  U (ppm)  V (ppm)  \\\n",
              "0    0.05      0.03  ...       3.3       7.4    0.03     0.70       73   \n",
              "1    0.04      0.01  ...       3.1       8.2    0.06     0.94       58   \n",
              "\n",
              "   W (ppm)  Y (ppm)  Zn (ppm)  Zr (ppm)  basin_id  \n",
              "0      0.3    13.15        27       6.3         2  \n",
              "1      0.3    23.90        58       6.9         3  \n",
              "\n",
              "[2 rows x 45 columns]"
            ],
            "text/html": [
              "\n",
              "  <div id=\"df-2f67ac2d-1d78-434f-b492-f65019b70717\" class=\"colab-df-container\">\n",
              "    <div>\n",
              "<style scoped>\n",
              "    .dataframe tbody tr th:only-of-type {\n",
              "        vertical-align: middle;\n",
              "    }\n",
              "\n",
              "    .dataframe tbody tr th {\n",
              "        vertical-align: top;\n",
              "    }\n",
              "\n",
              "    .dataframe thead th {\n",
              "        text-align: right;\n",
              "    }\n",
              "</style>\n",
              "<table border=\"1\" class=\"dataframe\">\n",
              "  <thead>\n",
              "    <tr style=\"text-align: right;\">\n",
              "      <th></th>\n",
              "      <th>x</th>\n",
              "      <th>y</th>\n",
              "      <th>Ag (ppm)</th>\n",
              "      <th>Al (%)</th>\n",
              "      <th>As (ppm)</th>\n",
              "      <th>Ba (ppm)</th>\n",
              "      <th>Be (ppm)</th>\n",
              "      <th>Bi (ppm)</th>\n",
              "      <th>Ca (%)</th>\n",
              "      <th>Cd (ppm)</th>\n",
              "      <th>...</th>\n",
              "      <th>Sr (ppm)</th>\n",
              "      <th>Th (ppm)</th>\n",
              "      <th>Ti (%)</th>\n",
              "      <th>U (ppm)</th>\n",
              "      <th>V (ppm)</th>\n",
              "      <th>W (ppm)</th>\n",
              "      <th>Y (ppm)</th>\n",
              "      <th>Zn (ppm)</th>\n",
              "      <th>Zr (ppm)</th>\n",
              "      <th>basin_id</th>\n",
              "    </tr>\n",
              "  </thead>\n",
              "  <tbody>\n",
              "    <tr>\n",
              "      <th>0</th>\n",
              "      <td>248757</td>\n",
              "      <td>7972050</td>\n",
              "      <td>0.03</td>\n",
              "      <td>2.63</td>\n",
              "      <td>4.0</td>\n",
              "      <td>76.0</td>\n",
              "      <td>1.0</td>\n",
              "      <td>0.31</td>\n",
              "      <td>0.05</td>\n",
              "      <td>0.03</td>\n",
              "      <td>...</td>\n",
              "      <td>3.3</td>\n",
              "      <td>7.4</td>\n",
              "      <td>0.03</td>\n",
              "      <td>0.70</td>\n",
              "      <td>73</td>\n",
              "      <td>0.3</td>\n",
              "      <td>13.15</td>\n",
              "      <td>27</td>\n",
              "      <td>6.3</td>\n",
              "      <td>2</td>\n",
              "    </tr>\n",
              "    <tr>\n",
              "      <th>1</th>\n",
              "      <td>244460</td>\n",
              "      <td>7973135</td>\n",
              "      <td>0.02</td>\n",
              "      <td>1.93</td>\n",
              "      <td>2.0</td>\n",
              "      <td>84.0</td>\n",
              "      <td>1.7</td>\n",
              "      <td>0.29</td>\n",
              "      <td>0.04</td>\n",
              "      <td>0.01</td>\n",
              "      <td>...</td>\n",
              "      <td>3.1</td>\n",
              "      <td>8.2</td>\n",
              "      <td>0.06</td>\n",
              "      <td>0.94</td>\n",
              "      <td>58</td>\n",
              "      <td>0.3</td>\n",
              "      <td>23.90</td>\n",
              "      <td>58</td>\n",
              "      <td>6.9</td>\n",
              "      <td>3</td>\n",
              "    </tr>\n",
              "  </tbody>\n",
              "</table>\n",
              "<p>2 rows × 45 columns</p>\n",
              "</div>\n",
              "    <div class=\"colab-df-buttons\">\n",
              "\n",
              "  <div class=\"colab-df-container\">\n",
              "    <button class=\"colab-df-convert\" onclick=\"convertToInteractive('df-2f67ac2d-1d78-434f-b492-f65019b70717')\"\n",
              "            title=\"Convert this dataframe to an interactive table.\"\n",
              "            style=\"display:none;\">\n",
              "\n",
              "  <svg xmlns=\"http://www.w3.org/2000/svg\" height=\"24px\" viewBox=\"0 -960 960 960\">\n",
              "    <path d=\"M120-120v-720h720v720H120Zm60-500h600v-160H180v160Zm220 220h160v-160H400v160Zm0 220h160v-160H400v160ZM180-400h160v-160H180v160Zm440 0h160v-160H620v160ZM180-180h160v-160H180v160Zm440 0h160v-160H620v160Z\"/>\n",
              "  </svg>\n",
              "    </button>\n",
              "\n",
              "  <style>\n",
              "    .colab-df-container {\n",
              "      display:flex;\n",
              "      gap: 12px;\n",
              "    }\n",
              "\n",
              "    .colab-df-convert {\n",
              "      background-color: #E8F0FE;\n",
              "      border: none;\n",
              "      border-radius: 50%;\n",
              "      cursor: pointer;\n",
              "      display: none;\n",
              "      fill: #1967D2;\n",
              "      height: 32px;\n",
              "      padding: 0 0 0 0;\n",
              "      width: 32px;\n",
              "    }\n",
              "\n",
              "    .colab-df-convert:hover {\n",
              "      background-color: #E2EBFA;\n",
              "      box-shadow: 0px 1px 2px rgba(60, 64, 67, 0.3), 0px 1px 3px 1px rgba(60, 64, 67, 0.15);\n",
              "      fill: #174EA6;\n",
              "    }\n",
              "\n",
              "    .colab-df-buttons div {\n",
              "      margin-bottom: 4px;\n",
              "    }\n",
              "\n",
              "    [theme=dark] .colab-df-convert {\n",
              "      background-color: #3B4455;\n",
              "      fill: #D2E3FC;\n",
              "    }\n",
              "\n",
              "    [theme=dark] .colab-df-convert:hover {\n",
              "      background-color: #434B5C;\n",
              "      box-shadow: 0px 1px 3px 1px rgba(0, 0, 0, 0.15);\n",
              "      filter: drop-shadow(0px 1px 2px rgba(0, 0, 0, 0.3));\n",
              "      fill: #FFFFFF;\n",
              "    }\n",
              "  </style>\n",
              "\n",
              "    <script>\n",
              "      const buttonEl =\n",
              "        document.querySelector('#df-2f67ac2d-1d78-434f-b492-f65019b70717 button.colab-df-convert');\n",
              "      buttonEl.style.display =\n",
              "        google.colab.kernel.accessAllowed ? 'block' : 'none';\n",
              "\n",
              "      async function convertToInteractive(key) {\n",
              "        const element = document.querySelector('#df-2f67ac2d-1d78-434f-b492-f65019b70717');\n",
              "        const dataTable =\n",
              "          await google.colab.kernel.invokeFunction('convertToInteractive',\n",
              "                                                    [key], {});\n",
              "        if (!dataTable) return;\n",
              "\n",
              "        const docLinkHtml = 'Like what you see? Visit the ' +\n",
              "          '<a target=\"_blank\" href=https://colab.research.google.com/notebooks/data_table.ipynb>data table notebook</a>'\n",
              "          + ' to learn more about interactive tables.';\n",
              "        element.innerHTML = '';\n",
              "        dataTable['output_type'] = 'display_data';\n",
              "        await google.colab.output.renderOutput(dataTable, element);\n",
              "        const docLink = document.createElement('div');\n",
              "        docLink.innerHTML = docLinkHtml;\n",
              "        element.appendChild(docLink);\n",
              "      }\n",
              "    </script>\n",
              "  </div>\n",
              "\n",
              "\n",
              "<div id=\"df-c0a262dc-cb1f-42e9-b212-51f5a5940a49\">\n",
              "  <button class=\"colab-df-quickchart\" onclick=\"quickchart('df-c0a262dc-cb1f-42e9-b212-51f5a5940a49')\"\n",
              "            title=\"Suggest charts.\"\n",
              "            style=\"display:none;\">\n",
              "\n",
              "<svg xmlns=\"http://www.w3.org/2000/svg\" height=\"24px\"viewBox=\"0 0 24 24\"\n",
              "     width=\"24px\">\n",
              "    <g>\n",
              "        <path d=\"M19 3H5c-1.1 0-2 .9-2 2v14c0 1.1.9 2 2 2h14c1.1 0 2-.9 2-2V5c0-1.1-.9-2-2-2zM9 17H7v-7h2v7zm4 0h-2V7h2v10zm4 0h-2v-4h2v4z\"/>\n",
              "    </g>\n",
              "</svg>\n",
              "  </button>\n",
              "\n",
              "<style>\n",
              "  .colab-df-quickchart {\n",
              "      --bg-color: #E8F0FE;\n",
              "      --fill-color: #1967D2;\n",
              "      --hover-bg-color: #E2EBFA;\n",
              "      --hover-fill-color: #174EA6;\n",
              "      --disabled-fill-color: #AAA;\n",
              "      --disabled-bg-color: #DDD;\n",
              "  }\n",
              "\n",
              "  [theme=dark] .colab-df-quickchart {\n",
              "      --bg-color: #3B4455;\n",
              "      --fill-color: #D2E3FC;\n",
              "      --hover-bg-color: #434B5C;\n",
              "      --hover-fill-color: #FFFFFF;\n",
              "      --disabled-bg-color: #3B4455;\n",
              "      --disabled-fill-color: #666;\n",
              "  }\n",
              "\n",
              "  .colab-df-quickchart {\n",
              "    background-color: var(--bg-color);\n",
              "    border: none;\n",
              "    border-radius: 50%;\n",
              "    cursor: pointer;\n",
              "    display: none;\n",
              "    fill: var(--fill-color);\n",
              "    height: 32px;\n",
              "    padding: 0;\n",
              "    width: 32px;\n",
              "  }\n",
              "\n",
              "  .colab-df-quickchart:hover {\n",
              "    background-color: var(--hover-bg-color);\n",
              "    box-shadow: 0 1px 2px rgba(60, 64, 67, 0.3), 0 1px 3px 1px rgba(60, 64, 67, 0.15);\n",
              "    fill: var(--button-hover-fill-color);\n",
              "  }\n",
              "\n",
              "  .colab-df-quickchart-complete:disabled,\n",
              "  .colab-df-quickchart-complete:disabled:hover {\n",
              "    background-color: var(--disabled-bg-color);\n",
              "    fill: var(--disabled-fill-color);\n",
              "    box-shadow: none;\n",
              "  }\n",
              "\n",
              "  .colab-df-spinner {\n",
              "    border: 2px solid var(--fill-color);\n",
              "    border-color: transparent;\n",
              "    border-bottom-color: var(--fill-color);\n",
              "    animation:\n",
              "      spin 1s steps(1) infinite;\n",
              "  }\n",
              "\n",
              "  @keyframes spin {\n",
              "    0% {\n",
              "      border-color: transparent;\n",
              "      border-bottom-color: var(--fill-color);\n",
              "      border-left-color: var(--fill-color);\n",
              "    }\n",
              "    20% {\n",
              "      border-color: transparent;\n",
              "      border-left-color: var(--fill-color);\n",
              "      border-top-color: var(--fill-color);\n",
              "    }\n",
              "    30% {\n",
              "      border-color: transparent;\n",
              "      border-left-color: var(--fill-color);\n",
              "      border-top-color: var(--fill-color);\n",
              "      border-right-color: var(--fill-color);\n",
              "    }\n",
              "    40% {\n",
              "      border-color: transparent;\n",
              "      border-right-color: var(--fill-color);\n",
              "      border-top-color: var(--fill-color);\n",
              "    }\n",
              "    60% {\n",
              "      border-color: transparent;\n",
              "      border-right-color: var(--fill-color);\n",
              "    }\n",
              "    80% {\n",
              "      border-color: transparent;\n",
              "      border-right-color: var(--fill-color);\n",
              "      border-bottom-color: var(--fill-color);\n",
              "    }\n",
              "    90% {\n",
              "      border-color: transparent;\n",
              "      border-bottom-color: var(--fill-color);\n",
              "    }\n",
              "  }\n",
              "</style>\n",
              "\n",
              "  <script>\n",
              "    async function quickchart(key) {\n",
              "      const quickchartButtonEl =\n",
              "        document.querySelector('#' + key + ' button');\n",
              "      quickchartButtonEl.disabled = true;  // To prevent multiple clicks.\n",
              "      quickchartButtonEl.classList.add('colab-df-spinner');\n",
              "      try {\n",
              "        const charts = await google.colab.kernel.invokeFunction(\n",
              "            'suggestCharts', [key], {});\n",
              "      } catch (error) {\n",
              "        console.error('Error during call to suggestCharts:', error);\n",
              "      }\n",
              "      quickchartButtonEl.classList.remove('colab-df-spinner');\n",
              "      quickchartButtonEl.classList.add('colab-df-quickchart-complete');\n",
              "    }\n",
              "    (() => {\n",
              "      let quickchartButtonEl =\n",
              "        document.querySelector('#df-c0a262dc-cb1f-42e9-b212-51f5a5940a49 button');\n",
              "      quickchartButtonEl.style.display =\n",
              "        google.colab.kernel.accessAllowed ? 'block' : 'none';\n",
              "    })();\n",
              "  </script>\n",
              "</div>\n",
              "    </div>\n",
              "  </div>\n"
            ]
          },
          "metadata": {},
          "execution_count": 4
        }
      ],
      "source": [
        "#loading data frame\n",
        "df = pd.read_csv('./dataset/stream_samples_basin_id.csv')\n",
        "\n",
        "#removing columns that wont be used\n",
        "df.drop(columns = ['geometry', 'index_right'], inplace = True)\n",
        "\n",
        "df.rename(columns = {'OBJECTID':'basin_id'}, inplace = True)\n",
        "\n",
        "df.head(2)"
      ]
    },
    {
      "cell_type": "code",
      "execution_count": 5,
      "metadata": {
        "id": "MKUAaaC95YbN"
      },
      "outputs": [],
      "source": [
        "#variable that we will predict\n",
        "Y_column = 'Zn (ppm)'\n",
        "\n",
        "#explanatory variables\n",
        "X_columns = list(df.iloc[:, :-1])\n",
        "\n",
        "#dropping Zn from our explanatory variables\n",
        "X_columns.remove('Zn (ppm)')"
      ]
    },
    {
      "cell_type": "code",
      "execution_count": 6,
      "metadata": {
        "id": "YQjJGe3h5YbO"
      },
      "outputs": [],
      "source": [
        "#generating the X and Y dataset and transforming to numpy array\n",
        "X, Y = df[X_columns].to_numpy(), df[Y_column].to_numpy()\n",
        "\n",
        "#defining the watershed number as the group\n",
        "groups = df['basin_id'].to_numpy()\n"
      ]
    },
    {
      "cell_type": "markdown",
      "metadata": {
        "id": "-QSgMFuD5YbO"
      },
      "source": [
        "Despite not receving Feedback on-time for the next submission deadline, we wanted to know if the CV performed before was correctly implemented.\n",
        "\n",
        "Below, we are going to compare the results of CV. One implementing the same way as before, with `cross_val_predict` and another using a for loop.\n",
        "\n",
        "#### How we implemented CV for Linear Regression"
      ]
    },
    {
      "cell_type": "code",
      "execution_count": 7,
      "metadata": {
        "id": "uSCIv81h5YbP"
      },
      "outputs": [],
      "source": [
        "n_splits = 4   #setting the number of splits, arbitrarly.\n",
        "\n",
        "group_kfold = GroupKFold(n_splits=n_splits)\n",
        "\n",
        "basin_kfold = group_kfold.split(X, Y, groups)\n",
        "\n",
        "# Create a nested list of train and test indices for each fold\n",
        "train_indices, test_indices = [list(traintest) for traintest in zip(*basin_kfold)]\n",
        "\n",
        "basin_cv = [*zip(train_indices,test_indices)]"
      ]
    },
    {
      "cell_type": "code",
      "execution_count": 8,
      "metadata": {
        "colab": {
          "base_uri": "https://localhost:8080/"
        },
        "id": "zHHur_Wd5YbQ",
        "outputId": "13a91260-05e0-40c8-eb34-1597a7fea1dd"
      },
      "outputs": [
        {
          "output_type": "stream",
          "name": "stdout",
          "text": [
            "R2:  0.57\n",
            "RMSE: 13.68\n",
            "MSE: 187.13\n",
            "CPU times: user 24.3 ms, sys: 21.6 ms, total: 46 ms\n",
            "Wall time: 48.6 ms\n"
          ]
        }
      ],
      "source": [
        "%%time\n",
        "\n",
        "# model\n",
        "linear_clf = LinearRegression().fit(X, Y)\n",
        "\n",
        "# fit and predict at the same time consdering the cv = basin_cv takes care of the data splitting\n",
        "\n",
        "y_pred = cross_val_predict(linear_clf, X, Y, cv=basin_cv, groups=groups)\n",
        "\n",
        "r2 = r2_score(Y, y_pred)\n",
        "rmse = mean_squared_error(Y, y_pred, squared = False)\n",
        "mse = mean_squared_error(Y, y_pred)\n",
        "\n",
        "print('R2: ',round(r2,2))\n",
        "print(f'RMSE:', round(rmse,2))\n",
        "print(f'MSE:', round(mse,2))"
      ]
    },
    {
      "cell_type": "markdown",
      "metadata": {
        "id": "hC66FAXZ5YbQ"
      },
      "source": [
        "### How we are testing right now LinearRegression model with CV and for loop."
      ]
    },
    {
      "cell_type": "code",
      "execution_count": 9,
      "metadata": {
        "colab": {
          "base_uri": "https://localhost:8080/"
        },
        "id": "ll852aIO5YbR",
        "outputId": "433c94e8-262f-40c9-ea1e-a44e5d2378d2"
      },
      "outputs": [
        {
          "output_type": "stream",
          "name": "stdout",
          "text": [
            "R2 - Index: 1  0.53\n",
            "RMSE: 15.31\n",
            "MSE: 234.27\n",
            "R2 - Index: 2  0.62\n",
            "RMSE: 14.14\n",
            "MSE: 199.84\n",
            "R2 - Index: 3  0.55\n",
            "RMSE: 11.66\n",
            "MSE: 135.84\n",
            "CPU times: user 29 ms, sys: 21.9 ms, total: 50.9 ms\n",
            "Wall time: 31.8 ms\n"
          ]
        }
      ],
      "source": [
        "%%time\n",
        "\n",
        "# Create a GroupKFold object with the desired number of splits (k)\n",
        "k = 4\n",
        "group_kfold_two = GroupKFold(n_splits=k)\n",
        "\n",
        "# Specify the fold you want to use (fold_index should be less than k)\n",
        "fold_index = [1,2,3]\n",
        "\n",
        "r2_scores, mse_scores, rmse_scores = [], [], []\n",
        "\n",
        "for i in fold_index:\n",
        "\n",
        "    # Get indices for the specified fold\n",
        "    train_index, test_index = list(group_kfold_two.split(X, Y, groups))[i - 1]\n",
        "\n",
        "    #print('Train-Test Shapes', train_index.shape, test_index.shape)\n",
        "\n",
        "    # Use the indices to get the training and testing sets\n",
        "    X_train, X_test = X[train_index], X[test_index]\n",
        "\n",
        "    #print('X Train-Test Shapes', X_train.shape, X_test.shape)\n",
        "\n",
        "    y_train, y_test = Y[train_index], Y[test_index]\n",
        "    #print('Y Train-Test Shapes', y_train.shape, y_test.shape)\n",
        "\n",
        "    # Create a linear regression model\n",
        "    model = LinearRegression()\n",
        "\n",
        "    # Fit the model on the training data\n",
        "    model.fit(X_train, y_train)\n",
        "\n",
        "    # Make predictions on the testing data\n",
        "    y_pred_two = model.predict(X_test)\n",
        "\n",
        "    # Evaluate the model\n",
        "    r2 = r2_score(y_test, y_pred_two)\n",
        "    rmse = mean_squared_error(y_test, y_pred_two, squared=False)\n",
        "    mse = mean_squared_error(y_test, y_pred_two)\n",
        "\n",
        "    print(f'R2 - Index: {i} ',round(r2,2))\n",
        "    print(f'RMSE:', round(rmse,2))\n",
        "    print(f'MSE:', round(mse,2))\n",
        "\n",
        "    r2_scores.append(r2)\n",
        "    mse_scores.append(mse)\n",
        "    rmse_scores.append(rmse)"
      ]
    },
    {
      "cell_type": "code",
      "execution_count": 10,
      "metadata": {
        "colab": {
          "base_uri": "https://localhost:8080/"
        },
        "id": "IwwaOqgE5YbR",
        "outputId": "4532cc50-6767-4386-cfbc-d9c9aa2fb572"
      },
      "outputs": [
        {
          "output_type": "stream",
          "name": "stdout",
          "text": [
            "Linear Regression Model with CV in a For Loop\n",
            "R2:  0.56\n",
            "RMSE: 13.7\n",
            "MSE: 189.99\n"
          ]
        }
      ],
      "source": [
        "print('Linear Regression Model with CV in a For Loop')\n",
        "\n",
        "print('R2: ',round(np.mean(r2_scores),2))\n",
        "print(f'RMSE:', round(np.mean(rmse_scores),2))\n",
        "print(f'MSE:', round(np.mean(mse_scores),2))"
      ]
    },
    {
      "cell_type": "markdown",
      "metadata": {
        "id": "_SZbt7EL5YbS"
      },
      "source": [
        "If we compare the values of the for-loop and `cross_val_predict`, we can see there's a very small variation in the values.\n",
        "\n",
        "This is the result of Milestone2 implementation\n",
        "\n",
        "Multiple Linear Regression Metrics\n",
        "\n",
        "- MSE: 187.13\n",
        "- RMSE: 13.68\n",
        "- R2: 0.57\n",
        "\n",
        "\n",
        "## Now let's test with Ridge Model with CV in a for-loop"
      ]
    },
    {
      "cell_type": "code",
      "execution_count": 11,
      "metadata": {
        "colab": {
          "base_uri": "https://localhost:8080/"
        },
        "id": "yys88PDm5YbS",
        "outputId": "935b1787-f778-49e9-a159-2da1ca5a3414"
      },
      "outputs": [
        {
          "output_type": "stream",
          "name": "stdout",
          "text": [
            "Index 1 0.5959173014095758 14.193585267820856 201.45786275490124\n",
            "Index 2 0.6461940686823606 13.57440309182684 184.26441929939804\n",
            "Index 3 0.5278142409741021 11.880613713672364 141.14898221349986\n"
          ]
        }
      ],
      "source": [
        "#using the optimal learning rate\n",
        "r_rmse, r_mse, r_r2 = [], [], []\n",
        "for i in fold_index:\n",
        "\n",
        "    # Get indices for the specified fold\n",
        "    train_index, test_index = list(group_kfold_two.split(X, Y, groups))[i - 1]\n",
        "\n",
        "    #print('Train-Test Shapes', train_index.shape, test_index.shape)\n",
        "\n",
        "    # Use the indices to get the training and testing sets\n",
        "    X_train, X_test = X[train_index], X[test_index]\n",
        "\n",
        "    #print('X Train-Test Shapes', X_train.shape, X_test.shape)\n",
        "\n",
        "    y_train, y_test = Y[train_index], Y[test_index]\n",
        "    #print('Y Train-Test Shapes', y_train.shape, y_test.shape)\n",
        "\n",
        "    elastmodel = Ridge(alpha=4.83)\n",
        "\n",
        "    elastmodel.fit(X_train, y_train)\n",
        "\n",
        "    y_pred_ridge = elastmodel.predict(X_test)\n",
        "\n",
        "    # Calculate evaluation metrics\n",
        "    rmse_ridge = mean_squared_error(y_test, y_pred_ridge, squared=False)\n",
        "    mse_ridge = mean_squared_error(y_test, y_pred_ridge)\n",
        "    r2_ridge = r2_score(y_test, y_pred_ridge)\n",
        "\n",
        "    r_rmse.append(rmse_ridge)\n",
        "    r_mse.append(mse_ridge)\n",
        "    r_r2.append(r2_ridge)\n",
        "\n",
        "    print(f'Index {i}', r2_ridge, rmse_ridge, mse_ridge )"
      ]
    },
    {
      "cell_type": "code",
      "execution_count": 12,
      "metadata": {
        "colab": {
          "base_uri": "https://localhost:8080/"
        },
        "id": "Dg-Fv1tL5YbS",
        "outputId": "d54f462e-fe0f-4450-d59d-5239eec646db"
      },
      "outputs": [
        {
          "output_type": "stream",
          "name": "stdout",
          "text": [
            "Ridge Model with CV in a For Loop\n",
            "R2:  0.59\n",
            "RMSE: 13.22\n",
            "MSE: 175.62\n"
          ]
        }
      ],
      "source": [
        "print('Ridge Model with CV in a For Loop')\n",
        "\n",
        "print('R2: ',round(np.mean(r_r2),2))\n",
        "print(f'RMSE:', round(np.mean(r_rmse),2))\n",
        "print(f'MSE:', round(np.mean(r_mse),2))"
      ]
    },
    {
      "cell_type": "markdown",
      "metadata": {
        "id": "t5GzX5ox5YbU"
      },
      "source": [
        "Once again, the values show an insignificant variation in the metrics.\n",
        "\n",
        "Ridge Regression Metrics\n",
        "- MSE: 176.97\n",
        "- RMSE: 13.30\n",
        "- R2: 0.59\n",
        "\n",
        "\n",
        "Having in mind that the way we implemented and this other approach are quite the same, we are more tranquil to keep on going with the Random Forest model implementation.\n",
        "\n",
        "_____"
      ]
    },
    {
      "cell_type": "markdown",
      "metadata": {
        "id": "FeYlBRXQ5YbW"
      },
      "source": [
        "### 1. Hyperparameter Setting\n",
        "\n",
        "• Recall what are the two most important hyperparameters. Propose a protocol that relies on the out-of-bag\n",
        "(OOB) error to tune this hyperparameter.\n",
        "\n",
        "The two most important hyperparameters for the random forest algorithm are:\n",
        "\n",
        "- `max_features`: helps controlling the bias and variance for the forest. In case of having a small number of features, the trees are less correlated. By default, in regression problems, max_features starts with `d/3`, until being properly tuned.\n",
        "\n",
        "- `n_estimators`: represents the amount of forests within the random forest. It's recommended starting with a high value in order to obtain a robust estimate.\n",
        "\n",
        "\n",
        "First, the model will be implemented without any type of hyperparameter setting. Then, the main hyperparameters will be calculated, leading to the application to the model. Finaly, it will be visible the difference between the random forest tuned and the other that is not.\n"
      ]
    },
    {
      "cell_type": "code",
      "execution_count": 13,
      "metadata": {
        "id": "5GQMZLUt5YbW"
      },
      "outputs": [],
      "source": [
        "#maxfeatures\n",
        "d = round(df.shape[0]/3)"
      ]
    },
    {
      "cell_type": "markdown",
      "metadata": {
        "id": "XOKBUK4u5YbX"
      },
      "source": [
        "Below, we are setting the `RandomForestRegressor` within the variable `tree_clf`.\n",
        "\n",
        "The `n_estimators` was set as 500 arbitrarly. The ideia is that if there is a high value it's possible to get a stable estimate, and then change it to the tuned value.\n",
        "\n",
        "`max_features` was set as the division of the length of the dataset by 3. Also to be tuned.\n",
        "\n",
        "It was opted to have out-of-bag replacement to have an estimation of the generalization score.\n",
        "\n",
        "Finally, the `random_state` was set to 42 in order to get the reproducibility."
      ]
    },
    {
      "cell_type": "code",
      "execution_count": 14,
      "metadata": {
        "id": "FTSVRla95YbX"
      },
      "outputs": [],
      "source": [
        "tree_clf = RandomForestRegressor(n_estimators= 500, max_features=d, oob_score=True, random_state=42)"
      ]
    },
    {
      "cell_type": "code",
      "execution_count": 15,
      "metadata": {
        "colab": {
          "base_uri": "https://localhost:8080/",
          "height": 92
        },
        "id": "LREW7tVh5YbX",
        "outputId": "f8ca4613-eb98-4ae2-90af-12fc54475b9a"
      },
      "outputs": [
        {
          "output_type": "execute_result",
          "data": {
            "text/plain": [
              "RandomForestRegressor(max_features=236, n_estimators=500, oob_score=True,\n",
              "                      random_state=42)"
            ],
            "text/html": [
              "<style>#sk-container-id-1 {color: black;background-color: white;}#sk-container-id-1 pre{padding: 0;}#sk-container-id-1 div.sk-toggleable {background-color: white;}#sk-container-id-1 label.sk-toggleable__label {cursor: pointer;display: block;width: 100%;margin-bottom: 0;padding: 0.3em;box-sizing: border-box;text-align: center;}#sk-container-id-1 label.sk-toggleable__label-arrow:before {content: \"▸\";float: left;margin-right: 0.25em;color: #696969;}#sk-container-id-1 label.sk-toggleable__label-arrow:hover:before {color: black;}#sk-container-id-1 div.sk-estimator:hover label.sk-toggleable__label-arrow:before {color: black;}#sk-container-id-1 div.sk-toggleable__content {max-height: 0;max-width: 0;overflow: hidden;text-align: left;background-color: #f0f8ff;}#sk-container-id-1 div.sk-toggleable__content pre {margin: 0.2em;color: black;border-radius: 0.25em;background-color: #f0f8ff;}#sk-container-id-1 input.sk-toggleable__control:checked~div.sk-toggleable__content {max-height: 200px;max-width: 100%;overflow: auto;}#sk-container-id-1 input.sk-toggleable__control:checked~label.sk-toggleable__label-arrow:before {content: \"▾\";}#sk-container-id-1 div.sk-estimator input.sk-toggleable__control:checked~label.sk-toggleable__label {background-color: #d4ebff;}#sk-container-id-1 div.sk-label input.sk-toggleable__control:checked~label.sk-toggleable__label {background-color: #d4ebff;}#sk-container-id-1 input.sk-hidden--visually {border: 0;clip: rect(1px 1px 1px 1px);clip: rect(1px, 1px, 1px, 1px);height: 1px;margin: -1px;overflow: hidden;padding: 0;position: absolute;width: 1px;}#sk-container-id-1 div.sk-estimator {font-family: monospace;background-color: #f0f8ff;border: 1px dotted black;border-radius: 0.25em;box-sizing: border-box;margin-bottom: 0.5em;}#sk-container-id-1 div.sk-estimator:hover {background-color: #d4ebff;}#sk-container-id-1 div.sk-parallel-item::after {content: \"\";width: 100%;border-bottom: 1px solid gray;flex-grow: 1;}#sk-container-id-1 div.sk-label:hover label.sk-toggleable__label {background-color: #d4ebff;}#sk-container-id-1 div.sk-serial::before {content: \"\";position: absolute;border-left: 1px solid gray;box-sizing: border-box;top: 0;bottom: 0;left: 50%;z-index: 0;}#sk-container-id-1 div.sk-serial {display: flex;flex-direction: column;align-items: center;background-color: white;padding-right: 0.2em;padding-left: 0.2em;position: relative;}#sk-container-id-1 div.sk-item {position: relative;z-index: 1;}#sk-container-id-1 div.sk-parallel {display: flex;align-items: stretch;justify-content: center;background-color: white;position: relative;}#sk-container-id-1 div.sk-item::before, #sk-container-id-1 div.sk-parallel-item::before {content: \"\";position: absolute;border-left: 1px solid gray;box-sizing: border-box;top: 0;bottom: 0;left: 50%;z-index: -1;}#sk-container-id-1 div.sk-parallel-item {display: flex;flex-direction: column;z-index: 1;position: relative;background-color: white;}#sk-container-id-1 div.sk-parallel-item:first-child::after {align-self: flex-end;width: 50%;}#sk-container-id-1 div.sk-parallel-item:last-child::after {align-self: flex-start;width: 50%;}#sk-container-id-1 div.sk-parallel-item:only-child::after {width: 0;}#sk-container-id-1 div.sk-dashed-wrapped {border: 1px dashed gray;margin: 0 0.4em 0.5em 0.4em;box-sizing: border-box;padding-bottom: 0.4em;background-color: white;}#sk-container-id-1 div.sk-label label {font-family: monospace;font-weight: bold;display: inline-block;line-height: 1.2em;}#sk-container-id-1 div.sk-label-container {text-align: center;}#sk-container-id-1 div.sk-container {/* jupyter's `normalize.less` sets `[hidden] { display: none; }` but bootstrap.min.css set `[hidden] { display: none !important; }` so we also need the `!important` here to be able to override the default hidden behavior on the sphinx rendered scikit-learn.org. See: https://github.com/scikit-learn/scikit-learn/issues/21755 */display: inline-block !important;position: relative;}#sk-container-id-1 div.sk-text-repr-fallback {display: none;}</style><div id=\"sk-container-id-1\" class=\"sk-top-container\"><div class=\"sk-text-repr-fallback\"><pre>RandomForestRegressor(max_features=236, n_estimators=500, oob_score=True,\n",
              "                      random_state=42)</pre><b>In a Jupyter environment, please rerun this cell to show the HTML representation or trust the notebook. <br />On GitHub, the HTML representation is unable to render, please try loading this page with nbviewer.org.</b></div><div class=\"sk-container\" hidden><div class=\"sk-item\"><div class=\"sk-estimator sk-toggleable\"><input class=\"sk-toggleable__control sk-hidden--visually\" id=\"sk-estimator-id-1\" type=\"checkbox\" checked><label for=\"sk-estimator-id-1\" class=\"sk-toggleable__label sk-toggleable__label-arrow\">RandomForestRegressor</label><div class=\"sk-toggleable__content\"><pre>RandomForestRegressor(max_features=236, n_estimators=500, oob_score=True,\n",
              "                      random_state=42)</pre></div></div></div></div></div>"
            ]
          },
          "metadata": {},
          "execution_count": 15
        }
      ],
      "source": [
        "#fitting data\n",
        "tree_clf.fit(X_train, y_train)"
      ]
    },
    {
      "cell_type": "code",
      "execution_count": 16,
      "metadata": {
        "colab": {
          "base_uri": "https://localhost:8080/"
        },
        "id": "wiwjSXE65YbY",
        "outputId": "16a07bea-fba4-419a-baff-c79370ac0b4e"
      },
      "outputs": [
        {
          "output_type": "execute_result",
          "data": {
            "text/plain": [
              "{'bootstrap': True,\n",
              " 'ccp_alpha': 0.0,\n",
              " 'criterion': 'squared_error',\n",
              " 'max_depth': None,\n",
              " 'max_features': 236,\n",
              " 'max_leaf_nodes': None,\n",
              " 'max_samples': None,\n",
              " 'min_impurity_decrease': 0.0,\n",
              " 'min_samples_leaf': 1,\n",
              " 'min_samples_split': 2,\n",
              " 'min_weight_fraction_leaf': 0.0,\n",
              " 'n_estimators': 500,\n",
              " 'n_jobs': None,\n",
              " 'oob_score': True,\n",
              " 'random_state': 42,\n",
              " 'verbose': 0,\n",
              " 'warm_start': False}"
            ]
          },
          "metadata": {},
          "execution_count": 16
        }
      ],
      "source": [
        "tree_clf.get_params()"
      ]
    },
    {
      "cell_type": "code",
      "execution_count": 17,
      "metadata": {
        "colab": {
          "base_uri": "https://localhost:8080/"
        },
        "id": "-JE3EHas5YbY",
        "outputId": "52690647-b38e-4b1f-a864-8f1dbca38672"
      },
      "outputs": [
        {
          "output_type": "stream",
          "name": "stdout",
          "text": [
            "OOB score:  0.67\n",
            "OOB error: 0.32999999999999996\n"
          ]
        }
      ],
      "source": [
        "oob_score = round(tree_clf.oob_score_,2)\n",
        "\n",
        "print('OOB score: ', oob_score )\n",
        "\n",
        "oob_error = 1 - oob_score\n",
        "print('OOB error:', oob_error )"
      ]
    },
    {
      "cell_type": "markdown",
      "metadata": {
        "id": "uc5tbXRO5YbY"
      },
      "source": [
        "###  ^ INTERPRET THIS OOB SCORE, CHECK IF ITS RIGHT"
      ]
    },
    {
      "cell_type": "code",
      "execution_count": 18,
      "metadata": {
        "colab": {
          "base_uri": "https://localhost:8080/"
        },
        "id": "WgTBlnt75YbZ",
        "outputId": "4250fde8-239d-43b6-90da-84e39c517ea6"
      },
      "outputs": [
        {
          "output_type": "stream",
          "name": "stdout",
          "text": [
            "Random Forest Regressor Scores without hyperparameter tunning\n",
            "#############################################################\n",
            "R2 Score: 0.64\n",
            "MSE: 107.81\n",
            "RMSE: 10.38\n",
            "#############################################################\n"
          ]
        }
      ],
      "source": [
        "pred_test = tree_clf.predict(X_test)\n",
        "\n",
        "# Calculate evaluation metrics\n",
        "rmse_tree_clf = mean_squared_error(y_test, pred_test, squared=False)\n",
        "\n",
        "mse_tree_clf = mean_squared_error(y_test, pred_test)\n",
        "\n",
        "r2_tree_clf = r2_score(y_test, pred_test)\n",
        "\n",
        "print('Random Forest Regressor Scores without hyperparameter tunning')\n",
        "print('#############################################################')\n",
        "print('R2 Score:', round(r2_tree_clf,2))\n",
        "print('MSE:', round(mse_tree_clf,2))\n",
        "print('RMSE:', round(rmse_tree_clf,2))\n",
        "print('#############################################################')"
      ]
    },
    {
      "cell_type": "markdown",
      "metadata": {
        "id": "UrJ53hu75YbZ"
      },
      "source": [
        "### 2. Model Calibration\n",
        "\n",
        "• For the calibrated model, measure the importance of each variable. Justify the choice of the importance\n",
        "measure (why did you use this importance measure instead of another one?). Comment on the results:\n",
        "according to the importance measure you chose, what are the most discriminant variables of your dataset?\n",
        "Interpret"
      ]
    },
    {
      "cell_type": "markdown",
      "metadata": {
        "id": "kPXwEp1s5YbZ"
      },
      "source": [
        "Justifying the parameters below:\n",
        "\n",
        "- `warm_start`: to allow the reutilization of previous run, leading to the addition of more estimators to the ensable. **Explain it better maybe?**\n",
        "\n",
        "- `max_features='auto'`: once the **n_estimators** is tuned, the next one to be tuned is the max_features. For now, let's keep it in auto."
      ]
    },
    {
      "cell_type": "code",
      "execution_count": 28,
      "metadata": {
        "id": "EzLojMY55YbZ"
      },
      "outputs": [],
      "source": [
        "error_rate_1 = []\n",
        "\n",
        "min_estimators = 500\n",
        "max_estimators = 4000\n",
        "step = 50\n",
        "\n",
        "for i in range(min_estimators, max_estimators+1, step):\n",
        "    rf_reg = RandomForestRegressor(warm_start=True, n_estimators= i, max_features=1.0, random_state=42, oob_score=True)\n",
        "\n",
        "    rf_reg.fit(X_train, y_train)\n",
        "\n",
        "    # Record the OOB error for each `n_estimators=i` setting.\n",
        "    oob_error = 1 - rf_reg.oob_score_\n",
        "\n",
        "    error_rate_1.append(oob_error)\n",
        "\n",
        "\n"
      ]
    },
    {
      "cell_type": "code",
      "execution_count": 29,
      "metadata": {
        "colab": {
          "base_uri": "https://localhost:8080/",
          "height": 450
        },
        "id": "R-bLdxdO5Yba",
        "outputId": "3649aa4b-47c3-4f12-b85e-bd5550ac9c8a"
      },
      "outputs": [
        {
          "output_type": "display_data",
          "data": {
            "text/plain": [
              "<Figure size 640x480 with 1 Axes>"
            ],
            "image/png": "[encoded data removed]"
          },
          "metadata": {}
        }
      ],
      "source": [
        "# Plot Generate the \"OOB error rate\" vs. \"n_estimators\" plot\n",
        "\n",
        "plt.plot(range(min_estimators, max_estimators +1, step), error_rate_1, label=\"OOB error rate\")\n",
        "\n",
        "plt.ylim(0.30, 1.1*max(error_rate_1))\n",
        "plt.xlim(min_estimators, 1.1*max_estimators)\n",
        "plt.xlabel(\"n_estimators\")\n",
        "plt.ylabel(\"OOB error rate vs. number of trees\")\n",
        "plt.legend(loc=\"upper right\")\n",
        "plt.show()"
      ]
    },
    {
      "cell_type": "markdown",
      "metadata": {
        "id": "NKGOdY_U5Yba"
      },
      "source": [
        "Since the OOB error rate is almost flat around 2000 n_estimators, this is the value that will be used."
      ]
    },
    {
      "cell_type": "code",
      "execution_count": 21,
      "metadata": {
        "colab": {
          "base_uri": "https://localhost:8080/"
        },
        "id": "d1gcK05E5Yba",
        "outputId": "9ccdd1d5-3621-4d95-b4e7-531766666c13"
      },
      "outputs": [
        {
          "output_type": "stream",
          "name": "stdout",
          "text": [
            "                  params  mean_test_score  std_test_score\n",
            "0  {'max_features': 0.1}         0.643443        0.051902\n",
            "1  {'max_features': 0.2}         0.657936        0.051251\n",
            "2  {'max_features': 0.3}         0.660969        0.053202\n",
            "3  {'max_features': 0.4}         0.658543        0.057185\n",
            "4  {'max_features': 0.5}         0.656734        0.058457\n",
            "5  {'max_features': 0.6}         0.651456        0.062576\n",
            "6  {'max_features': 0.7}         0.646503        0.066120\n",
            "7  {'max_features': 0.8}         0.641971        0.070297\n",
            "8  {'max_features': 0.9}         0.635826        0.074615\n"
          ]
        }
      ],
      "source": [
        "grid = {\n",
        "    'max_features':[0.1,0.2,0.3,0.4,0.5,0.6,0.7,0.8,0.9]\n",
        "}\n",
        "\n",
        "# Step 2: use the grid to to search for the best couple of parameters\n",
        "from sklearn.model_selection import GridSearchCV\n",
        "rf = RandomForestRegressor(n_estimators=2000) # create the forest model to tune\n",
        "\n",
        "B=5\n",
        "results_cv=pd.DataFrame()\n",
        "for i in range(B):\n",
        "\n",
        "    rf_cv = GridSearchCV(estimator=rf,param_grid=grid, cv=basin_cv,n_jobs=-1)# Search the best values for the parameters using 3-fold cross validation, and use all available cores(n_jobs=-1)\n",
        "    rf_cv.fit(X, Y) # Fit the CV search\n",
        "    if i==0:\n",
        "        results_cv=pd.DataFrame(rf_cv.cv_results_)[[\"params\",\"mean_test_score\",\"std_test_score\"]]\n",
        "    else:\n",
        "        results_cv[\"mean_test_score\"]=results_cv[\"mean_test_score\"]+pd.DataFrame(rf_cv.cv_results_)[\"mean_test_score\"]\n",
        "        results_cv[\"std_test_score\"]=results_cv[\"std_test_score\"]+pd.DataFrame(rf_cv.cv_results_)[\"std_test_score\"]\n",
        "\n",
        "\n",
        "\n",
        "results_cv[\"mean_test_score\"]=results_cv[\"mean_test_score\"]/B\n",
        "results_cv[\"std_test_score\"]=results_cv[\"std_test_score\"]/B\n",
        "\n",
        "\n",
        "# Step 3: get the best parameters (with the higher performance)\n",
        "print(results_cv)"
      ]
    },
    {
      "cell_type": "markdown",
      "metadata": {
        "id": "POpmYGZw5Yba"
      },
      "source": [
        "The best `max_feature` value is the one that has the lowest standard deviation score. In this case, the best value is **0.2**"
      ]
    },
    {
      "cell_type": "code",
      "execution_count": 22,
      "metadata": {
        "id": "0meIYPSt5Ybb"
      },
      "outputs": [],
      "source": [
        "error_rate = []\n",
        "\n",
        "min_estimators = 500\n",
        "max_estimators = 4000\n",
        "step = 50\n",
        "\n",
        "for i in range(min_estimators, max_estimators+1, step):\n",
        "    rf_reg = RandomForestRegressor(warm_start=True, n_estimators= i, max_features=0.2, random_state=42, oob_score=True)\n",
        "\n",
        "    rf_reg.fit(X_train, y_train)\n",
        "\n",
        "    # Record the OOB error for each `n_estimators=i` setting.\n",
        "    oob_error = 1 - rf_reg.oob_score_\n",
        "\n",
        "    error_rate.append(oob_error)\n",
        "\n",
        "\n"
      ]
    },
    {
      "cell_type": "code",
      "execution_count": 23,
      "metadata": {
        "colab": {
          "base_uri": "https://localhost:8080/",
          "height": 450
        },
        "id": "cWY0iaNn5Ybb",
        "outputId": "6e0a428b-d394-4f08-d4b1-863755a4a0db"
      },
      "outputs": [
        {
          "output_type": "display_data",
          "data": {
            "text/plain": [
              "<Figure size 640x480 with 1 Axes>"
            ],
            "image/png": "[encoded data removed]"
          },
          "metadata": {}
        }
      ],
      "source": [
        "# Plot Generate the \"OOB error rate\" vs. \"n_estimators\" plot\n",
        "\n",
        "plt.plot(range(min_estimators, max_estimators +1, step), error_rate, label=\"OOB error rate\")\n",
        "\n",
        "plt.ylim(0.30, 1.1*max(error_rate))\n",
        "plt.xlim(min_estimators, max_estimators)\n",
        "plt.xlabel(\"n_estimators\")\n",
        "plt.ylabel(\"OOB error rate vs. number of trees\")\n",
        "plt.legend(loc=\"upper right\")\n",
        "plt.show()"
      ]
    },
    {
      "cell_type": "code",
      "execution_count": 24,
      "metadata": {
        "colab": {
          "base_uri": "https://localhost:8080/"
        },
        "id": "_uYAjj6L5Ybb",
        "outputId": "f166e84c-f823-422d-a008-fa315ed7093a"
      },
      "outputs": [
        {
          "output_type": "stream",
          "name": "stdout",
          "text": [
            "Random Forest Regressor Scores with Optimal Hyperparameters\n",
            "#############################################################\n",
            "R2 Score: 0.65\n",
            "MSE: 105.55\n",
            "RMSE: 10.27\n",
            "#############################################################\n"
          ]
        }
      ],
      "source": [
        "opt_rf = RandomForestRegressor(n_estimators = 2000, max_features=0.2, oob_score=True, random_state=42)\n",
        "\n",
        "opt_rf.fit(X_train, y_train)\n",
        "\n",
        "pred_opt = opt_rf.predict(X_test)\n",
        "\n",
        "\n",
        "# Calculate evaluation metrics\n",
        "rmse_opt = mean_squared_error(y_test, pred_opt, squared=False)\n",
        "\n",
        "mse_opt = mean_squared_error(y_test, pred_opt)\n",
        "\n",
        "r2_opt = r2_score(y_test, pred_opt)\n",
        "print('Random Forest Regressor Scores with Optimal Hyperparameters')\n",
        "print('#############################################################')\n",
        "print('R2 Score:', round(r2_opt,2))\n",
        "print('MSE:', round(mse_opt,2))\n",
        "print('RMSE:', round(rmse_opt,2))\n",
        "print('#############################################################')"
      ]
    },
    {
      "cell_type": "markdown",
      "metadata": {
        "id": "JFmccKH65Ybb"
      },
      "source": [
        "# Appling GroupKFold CV to RandomForestRegression\n",
        "\n"
      ]
    },
    {
      "cell_type": "code",
      "execution_count": 25,
      "metadata": {
        "colab": {
          "base_uri": "https://localhost:8080/"
        },
        "id": "u6tuQmtj5Ybc",
        "outputId": "bce34e26-6457-48d2-c68f-bdd030326852"
      },
      "outputs": [
        {
          "output_type": "stream",
          "name": "stdout",
          "text": [
            "R2 - Index: 1  0.6\n",
            "RMSE: 14.04\n",
            "MSE: 197.16\n",
            "R2 - Index: 2  0.75\n",
            "RMSE: 11.52\n",
            "MSE: 132.69\n",
            "R2 - Index: 3  0.65\n",
            "RMSE: 10.27\n",
            "MSE: 105.55\n"
          ]
        }
      ],
      "source": [
        "# Create a GroupKFold object with the desired number of splits (k)\n",
        "k = 4\n",
        "group_kfold_two = GroupKFold(n_splits=k)\n",
        "\n",
        "# Specify the fold you want to use (fold_index should be less than k)\n",
        "fold_index = [1,2,3]\n",
        "\n",
        "r2_scores_rf, mse_scores_rf, rmse_scores_rf = [], [], []\n",
        "\n",
        "for i in fold_index:\n",
        "\n",
        "    # Get indices for the specified fold\n",
        "    train_index, test_index = list(group_kfold_two.split(X, Y, groups))[i - 1]\n",
        "\n",
        "    #print('Train-Test Shapes', train_index.shape, test_index.shape)\n",
        "\n",
        "    # Use the indices to get the training and testing sets\n",
        "    X_train, X_test = X[train_index], X[test_index]\n",
        "\n",
        "    #print('X Train-Test Shapes', X_train.shape, X_test.shape)\n",
        "\n",
        "    y_train, y_test = Y[train_index], Y[test_index]\n",
        "    #print('Y Train-Test Shapes', y_train.shape, y_test.shape)\n",
        "\n",
        "    # Create a linear regression model\n",
        "    rf_model = RandomForestRegressor(n_estimators = 2000, max_features=0.2, oob_score=True, random_state=42)\n",
        "\n",
        "    # Fit the model on the training data\n",
        "    rf_model.fit(X_train, y_train)\n",
        "\n",
        "    # Make predictions on the testing data\n",
        "    y_pred_rf = rf_model.predict(X_test)\n",
        "\n",
        "    # Evaluate the model\n",
        "    r2 = r2_score(y_test, y_pred_rf)\n",
        "    rmse = mean_squared_error(y_test, y_pred_rf, squared=False)\n",
        "    mse = mean_squared_error(y_test, y_pred_rf)\n",
        "\n",
        "    print(f'R2 - Index: {i} ',round(r2,2))\n",
        "    print(f'RMSE:', round(rmse,2))\n",
        "    print(f'MSE:', round(mse,2))\n",
        "\n",
        "    r2_scores_rf.append(r2)\n",
        "    mse_scores_rf.append(mse)\n",
        "    rmse_scores_rf.append(rmse)"
      ]
    },
    {
      "cell_type": "code",
      "execution_count": 26,
      "metadata": {
        "colab": {
          "base_uri": "https://localhost:8080/"
        },
        "id": "NGmyJADo5Ybc",
        "outputId": "83facab0-e9d9-4e74-ef7f-4ab7b78395df"
      },
      "outputs": [
        {
          "output_type": "stream",
          "name": "stdout",
          "text": [
            "Results with Random Forest Regressor with\n",
            "Optimal Hyperparameters and with GroupKFold CV:\n",
            "R2 - RMSE - MSE\n",
            "0.67 11.94 145.13\n"
          ]
        }
      ],
      "source": [
        "print('Results with Random Forest Regressor with\\nOptimal Hyperparameters and with GroupKFold CV:')\n",
        "print('R2 - RMSE - MSE')\n",
        "print(round(np.mean(r2_scores_rf),2), round(np.mean(rmse_scores_rf),2), round(np.mean(mse_scores_rf),2))"
      ]
    },
    {
      "cell_type": "markdown",
      "source": [
        "### Now testing RandomForestRegressor with `cross_val_predict` to check if there's any difference."
      ],
      "metadata": {
        "id": "iLuo06tPVPjB"
      }
    },
    {
      "cell_type": "code",
      "source": [
        "# model\n",
        "clf = RandomForestRegressor(n_estimators = 2000, max_features=0.2, oob_score=True, random_state=42)\n",
        "\n",
        "# fit and predict at the same time consdering the cv = basin_cv takes care of the data splitting\n",
        "\n",
        "y_pred = cross_val_predict(clf, X, Y, cv=basin_cv, groups=groups)\n",
        "\n",
        "r2_clf = r2_score(Y, y_pred)\n",
        "rmse_clf = mean_squared_error(Y, y_pred, squared = False)\n",
        "mse_clf = mean_squared_error(Y, y_pred)\n",
        "\n",
        "print('R2: ',round(r2_clf,2))\n",
        "print(f'RMSE:', round(rmse_clf,2))\n",
        "print(f'MSE:', round(mse_clf,2))"
      ],
      "metadata": {
        "colab": {
          "base_uri": "https://localhost:8080/"
        },
        "id": "WojZVMhxVAng",
        "outputId": "535cd131-f6ad-4f6f-f775-692434071cf1"
      },
      "execution_count": 30,
      "outputs": [
        {
          "output_type": "stream",
          "name": "stdout",
          "text": [
            "R2:  0.67\n",
            "RMSE: 12.03\n",
            "MSE: 144.8\n"
          ]
        }
      ]
    },
    {
      "cell_type": "code",
      "source": [
        "df['Zn (ppm)'].describe()"
      ],
      "metadata": {
        "colab": {
          "base_uri": "https://localhost:8080/"
        },
        "id": "TrRIkXdPXVfC",
        "outputId": "51bb96b8-ac99-4e3a-9212-5b5bbe18ff76"
      },
      "execution_count": 38,
      "outputs": [
        {
          "output_type": "execute_result",
          "data": {
            "text/plain": [
              "count    709.000000\n",
              "mean      37.609309\n",
              "std       20.887808\n",
              "min        3.000000\n",
              "25%       25.000000\n",
              "50%       34.000000\n",
              "75%       47.000000\n",
              "max      194.000000\n",
              "Name: Zn (ppm), dtype: float64"
            ]
          },
          "metadata": {},
          "execution_count": 38
        }
      ]
    },
    {
      "cell_type": "markdown",
      "metadata": {
        "id": "cVXPd29U5Ybc"
      },
      "source": [
        "### 3.  Variable Selection\n",
        "\n",
        "• Based on the feature importance analysis (previous question), conduct a selection of variables using one\n",
        "of the strategies described during the lecture. Justify your choice and recall how the selected technique\n",
        "works. Implement and run it. What is the final number of selected variables in the model? Justify if you\n",
        "need to recalibrate the forest or not.\n"
      ]
    },
    {
      "cell_type": "markdown",
      "metadata": {
        "id": "b6rI-Yuh5Ybh"
      },
      "source": [
        "### 4. Model Evaluation\n",
        "\n",
        "• Evaluate the test performance of the two random forest models (based on the full set of variables or\n",
        "a subset) and determine the configuration of the best model (based on the main evaluation metric you\n",
        "selected in step 1)."
      ]
    },
    {
      "cell_type": "code",
      "execution_count": null,
      "metadata": {
        "id": "YxHH0yak5Ybh"
      },
      "outputs": [],
      "source": []
    },
    {
      "cell_type": "code",
      "execution_count": null,
      "metadata": {
        "id": "ijFD--W35Ybi"
      },
      "outputs": [],
      "source": []
    },
    {
      "cell_type": "markdown",
      "source": [
        "The model is a  bit far from being a good one, due to the fact that R2 metric is below 0.75.\n",
        "\n",
        "In order to improve it, we could add a couple of more variables to the dataset, such as lithology and geophysics."
      ],
      "metadata": {
        "id": "D-jl5lMeWLwM"
      }
    }
  ],
  "metadata": {
    "kernelspec": {
      "display_name": "Python 3",
      "name": "python3"
    },
    "language_info": {
      "codemirror_mode": {
        "name": "ipython",
        "version": 3
      },
      "file_extension": ".py",
      "mimetype": "text/x-python",
      "name": "python",
      "nbconvert_exporter": "python",
      "pygments_lexer": "ipython3",
      "version": "3.9.17"
    },
    "colab": {
      "provenance": [],
      "gpuType": "T4"
    },
    "accelerator": "GPU"
  },
  "nbformat": 4,
  "nbformat_minor": 0
}